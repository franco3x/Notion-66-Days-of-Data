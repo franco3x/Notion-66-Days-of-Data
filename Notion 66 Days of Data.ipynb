{
 "cells": [
  {
   "cell_type": "markdown",
   "metadata": {},
   "source": [
    "# Title\n",
    "## Frank Coleman III\n",
    "### Dataset retrieved from: "
   ]
  },
  {
   "cell_type": "markdown",
   "metadata": {},
   "source": [
    "\n",
    "TODO - talk about EDA\n",
    "\n",
    "TODO - talk about the dataset (source, what it contains, how it will be useful)\n",
    "  - \n",
    "  - \n",
    "  - \n",
    "  - "
   ]
  },
  {
   "cell_type": "markdown",
   "metadata": {},
   "source": [
    "## Data Preparation and Cleaning\n",
    "\n",
    "1. Load the file using Pandas\n",
    "2. Look at some information about the data & the columns\n",
    "3. Fix any missing or incorrect values"
   ]
  },
  {
   "cell_type": "code",
   "execution_count": 1,
   "metadata": {},
   "outputs": [],
   "source": [
    "import pandas as pd\n",
    "import numpy as np\n",
    "import matplotlib.pyplot as plt\n",
    "import seaborn as sns\n"
   ]
  },
  {
   "cell_type": "code",
   "execution_count": 2,
   "metadata": {},
   "outputs": [
    {
     "data": {
      "text/html": [
       "<div>\n",
       "<style scoped>\n",
       "    .dataframe tbody tr th:only-of-type {\n",
       "        vertical-align: middle;\n",
       "    }\n",
       "\n",
       "    .dataframe tbody tr th {\n",
       "        vertical-align: top;\n",
       "    }\n",
       "\n",
       "    .dataframe thead th {\n",
       "        text-align: right;\n",
       "    }\n",
       "</style>\n",
       "<table border=\"1\" class=\"dataframe\">\n",
       "  <thead>\n",
       "    <tr style=\"text-align: right;\">\n",
       "      <th></th>\n",
       "      <th>Type</th>\n",
       "      <th>Name</th>\n",
       "      <th>Language/Software</th>\n",
       "      <th>Packages</th>\n",
       "      <th>Tags</th>\n",
       "      <th>Author</th>\n",
       "      <th>Created</th>\n",
       "      <th>Status</th>\n",
       "      <th>Score/5</th>\n",
       "      <th>URL</th>\n",
       "      <th>Source</th>\n",
       "      <th>Minutes</th>\n",
       "      <th>Finish Date</th>\n",
       "      <th>Start Date</th>\n",
       "      <th>Hours</th>\n",
       "      <th>Notes?</th>\n",
       "      <th>Linked Up?</th>\n",
       "      <th>Related to Coding Course Notes (Property)</th>\n",
       "      <th>Property</th>\n",
       "    </tr>\n",
       "  </thead>\n",
       "  <tbody>\n",
       "    <tr>\n",
       "      <th>0</th>\n",
       "      <td>Video</td>\n",
       "      <td>How To Become Expertise in Exploratory Data An...</td>\n",
       "      <td>Python</td>\n",
       "      <td>matplotlib, pandas, seaborn</td>\n",
       "      <td>#66DaysofData, Exploratory Data Analysis, Round1</td>\n",
       "      <td>Krish Naik</td>\n",
       "      <td>January 1, 2022 11:32 PM</td>\n",
       "      <td>Finished</td>\n",
       "      <td>⭐️⭐️⭐️</td>\n",
       "      <td>https://www.youtube.com/watch?v=dP170R-wO-8</td>\n",
       "      <td>YouTube</td>\n",
       "      <td>10.1</td>\n",
       "      <td>January 1, 2022</td>\n",
       "      <td>January 1, 2022</td>\n",
       "      <td>0.168333</td>\n",
       "      <td>No</td>\n",
       "      <td>No</td>\n",
       "      <td>NaN</td>\n",
       "      <td>NaN</td>\n",
       "    </tr>\n",
       "    <tr>\n",
       "      <th>1</th>\n",
       "      <td>NaN</td>\n",
       "      <td>101 Best Places to Learn to Code For Free | Le...</td>\n",
       "      <td>NaN</td>\n",
       "      <td>NaN</td>\n",
       "      <td>NaN</td>\n",
       "      <td>NaN</td>\n",
       "      <td>January 1, 2022 10:52 PM</td>\n",
       "      <td>NaN</td>\n",
       "      <td>NaN</td>\n",
       "      <td>https://learntocodewith.me/posts/code-for-free/</td>\n",
       "      <td>NaN</td>\n",
       "      <td>NaN</td>\n",
       "      <td>NaN</td>\n",
       "      <td>NaN</td>\n",
       "      <td>0.000000</td>\n",
       "      <td>No</td>\n",
       "      <td>No</td>\n",
       "      <td>NaN</td>\n",
       "      <td>NaN</td>\n",
       "    </tr>\n",
       "    <tr>\n",
       "      <th>2</th>\n",
       "      <td>Video</td>\n",
       "      <td>Data Science Project from Scratch - Part 4 (Ex...</td>\n",
       "      <td>Python</td>\n",
       "      <td>matplotlib, pandas, seaborn</td>\n",
       "      <td>#66DaysofData, DS Projects, Exploratory Data A...</td>\n",
       "      <td>Ken Jee</td>\n",
       "      <td>January 1, 2022 9:28 PM</td>\n",
       "      <td>Finished</td>\n",
       "      <td>⭐️⭐️⭐️⭐️</td>\n",
       "      <td>https://www.youtube.com/watch?v=QWgg4w1SpJ8&amp;t=28s</td>\n",
       "      <td>YouTube</td>\n",
       "      <td>68.6</td>\n",
       "      <td>January 1, 2022</td>\n",
       "      <td>January 1, 2022</td>\n",
       "      <td>1.143333</td>\n",
       "      <td>No</td>\n",
       "      <td>No</td>\n",
       "      <td>NaN</td>\n",
       "      <td>NaN</td>\n",
       "    </tr>\n",
       "    <tr>\n",
       "      <th>3</th>\n",
       "      <td>Article</td>\n",
       "      <td>I doubled my salary by switching to Tech! | by...</td>\n",
       "      <td>NaN</td>\n",
       "      <td>NaN</td>\n",
       "      <td>#66DaysofData, Career, Round1</td>\n",
       "      <td>Lanise Allen</td>\n",
       "      <td>January 1, 2022 5:32 PM</td>\n",
       "      <td>Finished</td>\n",
       "      <td>NaN</td>\n",
       "      <td>https://laniseallen.medium.com/i-doubled-my-sa...</td>\n",
       "      <td>Medium</td>\n",
       "      <td>3.0</td>\n",
       "      <td>January 1, 2022</td>\n",
       "      <td>January 1, 2022</td>\n",
       "      <td>0.050000</td>\n",
       "      <td>No</td>\n",
       "      <td>No</td>\n",
       "      <td>NaN</td>\n",
       "      <td>NaN</td>\n",
       "    </tr>\n",
       "    <tr>\n",
       "      <th>4</th>\n",
       "      <td>Video</td>\n",
       "      <td>How I Would Learn Data Science in 2022 (If I H...</td>\n",
       "      <td>NaN</td>\n",
       "      <td>NaN</td>\n",
       "      <td>#66DaysofData, Learning and Roadmaps, Round1</td>\n",
       "      <td>Ken Jee</td>\n",
       "      <td>January 1, 2022 5:04 PM</td>\n",
       "      <td>Finished</td>\n",
       "      <td>NaN</td>\n",
       "      <td>https://www.youtube.com/watch?v=xpIFS6jZbe8</td>\n",
       "      <td>YouTube</td>\n",
       "      <td>12.2</td>\n",
       "      <td>January 1, 2022</td>\n",
       "      <td>January 1, 2022</td>\n",
       "      <td>0.203333</td>\n",
       "      <td>No</td>\n",
       "      <td>No</td>\n",
       "      <td>NaN</td>\n",
       "      <td>NaN</td>\n",
       "    </tr>\n",
       "  </tbody>\n",
       "</table>\n",
       "</div>"
      ],
      "text/plain": [
       "      Type                                               Name  \\\n",
       "0    Video  How To Become Expertise in Exploratory Data An...   \n",
       "1      NaN  101 Best Places to Learn to Code For Free | Le...   \n",
       "2    Video  Data Science Project from Scratch - Part 4 (Ex...   \n",
       "3  Article  I doubled my salary by switching to Tech! | by...   \n",
       "4    Video  How I Would Learn Data Science in 2022 (If I H...   \n",
       "\n",
       "  Language/Software                     Packages  \\\n",
       "0            Python  matplotlib, pandas, seaborn   \n",
       "1               NaN                          NaN   \n",
       "2            Python  matplotlib, pandas, seaborn   \n",
       "3               NaN                          NaN   \n",
       "4               NaN                          NaN   \n",
       "\n",
       "                                                Tags        Author  \\\n",
       "0   #66DaysofData, Exploratory Data Analysis, Round1    Krish Naik   \n",
       "1                                                NaN           NaN   \n",
       "2  #66DaysofData, DS Projects, Exploratory Data A...       Ken Jee   \n",
       "3                      #66DaysofData, Career, Round1  Lanise Allen   \n",
       "4       #66DaysofData, Learning and Roadmaps, Round1       Ken Jee   \n",
       "\n",
       "                    Created    Status   Score/5  \\\n",
       "0  January 1, 2022 11:32 PM  Finished    ⭐️⭐️⭐️   \n",
       "1  January 1, 2022 10:52 PM       NaN       NaN   \n",
       "2   January 1, 2022 9:28 PM  Finished  ⭐️⭐️⭐️⭐️   \n",
       "3   January 1, 2022 5:32 PM  Finished       NaN   \n",
       "4   January 1, 2022 5:04 PM  Finished       NaN   \n",
       "\n",
       "                                                 URL   Source  Minutes  \\\n",
       "0        https://www.youtube.com/watch?v=dP170R-wO-8  YouTube     10.1   \n",
       "1    https://learntocodewith.me/posts/code-for-free/      NaN      NaN   \n",
       "2  https://www.youtube.com/watch?v=QWgg4w1SpJ8&t=28s  YouTube     68.6   \n",
       "3  https://laniseallen.medium.com/i-doubled-my-sa...   Medium      3.0   \n",
       "4        https://www.youtube.com/watch?v=xpIFS6jZbe8  YouTube     12.2   \n",
       "\n",
       "       Finish Date       Start Date     Hours Notes? Linked Up?  \\\n",
       "0  January 1, 2022  January 1, 2022  0.168333     No         No   \n",
       "1              NaN              NaN  0.000000     No         No   \n",
       "2  January 1, 2022  January 1, 2022  1.143333     No         No   \n",
       "3  January 1, 2022  January 1, 2022  0.050000     No         No   \n",
       "4  January 1, 2022  January 1, 2022  0.203333     No         No   \n",
       "\n",
       "  Related to Coding Course Notes (Property)  Property  \n",
       "0                                       NaN       NaN  \n",
       "1                                       NaN       NaN  \n",
       "2                                       NaN       NaN  \n",
       "3                                       NaN       NaN  \n",
       "4                                       NaN       NaN  "
      ]
     },
     "execution_count": 2,
     "metadata": {},
     "output_type": "execute_result"
    }
   ],
   "source": [
    "df = pd.read_csv(\"notion_export.csv\")\n",
    "df.head()\n"
   ]
  },
  {
   "cell_type": "code",
   "execution_count": 3,
   "metadata": {},
   "outputs": [
    {
     "data": {
      "text/plain": [
       "Index(['Type', 'Name', 'Language/Software', 'Packages', 'Tags', 'Author',\n",
       "       'Created', 'Status', 'Score/5', 'URL', 'Source', 'Minutes',\n",
       "       'Finish Date', 'Start Date', 'Hours', 'Notes?', 'Linked Up?',\n",
       "       'Related to Coding Course Notes (Property)', 'Property'],\n",
       "      dtype='object')"
      ]
     },
     "execution_count": 3,
     "metadata": {},
     "output_type": "execute_result"
    }
   ],
   "source": [
    "df.columns"
   ]
  },
  {
   "cell_type": "code",
   "execution_count": 4,
   "metadata": {},
   "outputs": [
    {
     "name": "stdout",
     "output_type": "stream",
     "text": [
      "<class 'pandas.core.frame.DataFrame'>\n",
      "RangeIndex: 114 entries, 0 to 113\n",
      "Data columns (total 19 columns):\n",
      " #   Column                                     Non-Null Count  Dtype  \n",
      "---  ------                                     --------------  -----  \n",
      " 0   Type                                       79 non-null     object \n",
      " 1   Name                                       113 non-null    object \n",
      " 2   Language/Software                          15 non-null     object \n",
      " 3   Packages                                   7 non-null      object \n",
      " 4   Tags                                       78 non-null     object \n",
      " 5   Author                                     35 non-null     object \n",
      " 6   Created                                    114 non-null    object \n",
      " 7   Status                                     59 non-null     object \n",
      " 8   Score/5                                    21 non-null     object \n",
      " 9   URL                                        106 non-null    object \n",
      " 10  Source                                     27 non-null     object \n",
      " 11  Minutes                                    40 non-null     float64\n",
      " 12  Finish Date                                33 non-null     object \n",
      " 13  Start Date                                 38 non-null     object \n",
      " 14  Hours                                      114 non-null    float64\n",
      " 15  Notes?                                     114 non-null    object \n",
      " 16  Linked Up?                                 114 non-null    object \n",
      " 17  Related to Coding Course Notes (Property)  1 non-null      object \n",
      " 18  Property                                   0 non-null      float64\n",
      "dtypes: float64(3), object(16)\n",
      "memory usage: 17.0+ KB\n"
     ]
    }
   ],
   "source": [
    "df.info()"
   ]
  },
  {
   "cell_type": "code",
   "execution_count": 5,
   "metadata": {},
   "outputs": [
    {
     "data": {
      "text/html": [
       "<div>\n",
       "<style scoped>\n",
       "    .dataframe tbody tr th:only-of-type {\n",
       "        vertical-align: middle;\n",
       "    }\n",
       "\n",
       "    .dataframe tbody tr th {\n",
       "        vertical-align: top;\n",
       "    }\n",
       "\n",
       "    .dataframe thead th {\n",
       "        text-align: right;\n",
       "    }\n",
       "</style>\n",
       "<table border=\"1\" class=\"dataframe\">\n",
       "  <thead>\n",
       "    <tr style=\"text-align: right;\">\n",
       "      <th></th>\n",
       "      <th>Minutes</th>\n",
       "      <th>Hours</th>\n",
       "      <th>Property</th>\n",
       "    </tr>\n",
       "  </thead>\n",
       "  <tbody>\n",
       "    <tr>\n",
       "      <th>count</th>\n",
       "      <td>40.000000</td>\n",
       "      <td>114.000000</td>\n",
       "      <td>0.0</td>\n",
       "    </tr>\n",
       "    <tr>\n",
       "      <th>mean</th>\n",
       "      <td>67.680500</td>\n",
       "      <td>0.395792</td>\n",
       "      <td>NaN</td>\n",
       "    </tr>\n",
       "    <tr>\n",
       "      <th>std</th>\n",
       "      <td>131.640925</td>\n",
       "      <td>1.397761</td>\n",
       "      <td>NaN</td>\n",
       "    </tr>\n",
       "    <tr>\n",
       "      <th>min</th>\n",
       "      <td>1.000000</td>\n",
       "      <td>0.000000</td>\n",
       "      <td>NaN</td>\n",
       "    </tr>\n",
       "    <tr>\n",
       "      <th>25%</th>\n",
       "      <td>10.272500</td>\n",
       "      <td>0.000000</td>\n",
       "      <td>NaN</td>\n",
       "    </tr>\n",
       "    <tr>\n",
       "      <th>50%</th>\n",
       "      <td>29.000000</td>\n",
       "      <td>0.000000</td>\n",
       "      <td>NaN</td>\n",
       "    </tr>\n",
       "    <tr>\n",
       "      <th>75%</th>\n",
       "      <td>57.475000</td>\n",
       "      <td>0.174292</td>\n",
       "      <td>NaN</td>\n",
       "    </tr>\n",
       "    <tr>\n",
       "      <th>max</th>\n",
       "      <td>739.900000</td>\n",
       "      <td>12.331667</td>\n",
       "      <td>NaN</td>\n",
       "    </tr>\n",
       "  </tbody>\n",
       "</table>\n",
       "</div>"
      ],
      "text/plain": [
       "          Minutes       Hours  Property\n",
       "count   40.000000  114.000000       0.0\n",
       "mean    67.680500    0.395792       NaN\n",
       "std    131.640925    1.397761       NaN\n",
       "min      1.000000    0.000000       NaN\n",
       "25%     10.272500    0.000000       NaN\n",
       "50%     29.000000    0.000000       NaN\n",
       "75%     57.475000    0.174292       NaN\n",
       "max    739.900000   12.331667       NaN"
      ]
     },
     "execution_count": 5,
     "metadata": {},
     "output_type": "execute_result"
    }
   ],
   "source": [
    "df.describe()"
   ]
  },
  {
   "cell_type": "code",
   "execution_count": 6,
   "metadata": {},
   "outputs": [
    {
     "data": {
      "text/plain": [
       "3"
      ]
     },
     "execution_count": 6,
     "metadata": {},
     "output_type": "execute_result"
    }
   ],
   "source": [
    "numerics = ['int16', 'int32', 'int64', 'float16', 'float32', 'float64']\n",
    "\n",
    "numeric_df = df.select_dtypes(include=numerics)\n",
    "len(numeric_df.columns)\n"
   ]
  },
  {
   "cell_type": "code",
   "execution_count": 7,
   "metadata": {},
   "outputs": [
    {
     "data": {
      "text/plain": [
       "Property                                     1.000000\n",
       "Related to Coding Course Notes (Property)    0.991228\n",
       "Packages                                     0.938596\n",
       "Language/Software                            0.868421\n",
       "Score/5                                      0.815789\n",
       "Source                                       0.763158\n",
       "Finish Date                                  0.710526\n",
       "Author                                       0.692982\n",
       "Start Date                                   0.666667\n",
       "Minutes                                      0.649123\n",
       "Status                                       0.482456\n",
       "Tags                                         0.315789\n",
       "Type                                         0.307018\n",
       "URL                                          0.070175\n",
       "Name                                         0.008772\n",
       "Hours                                        0.000000\n",
       "Notes?                                       0.000000\n",
       "Linked Up?                                   0.000000\n",
       "Created                                      0.000000\n",
       "dtype: float64"
      ]
     },
     "execution_count": 7,
     "metadata": {},
     "output_type": "execute_result"
    }
   ],
   "source": [
    "missing_percentages = df.isna().sum().sort_values(ascending=False) / len(df)\n",
    "missing_percentages\n"
   ]
  },
  {
   "cell_type": "code",
   "execution_count": 8,
   "metadata": {},
   "outputs": [
    {
     "data": {
      "text/plain": [
       "<AxesSubplot:>"
      ]
     },
     "execution_count": 8,
     "metadata": {},
     "output_type": "execute_result"
    },
    {
     "data": {
      "image/png": "[encoded data removed]",
      "text/plain": [
       "<Figure size 432x288 with 1 Axes>"
      ]
     },
     "metadata": {
      "needs_background": "light"
     },
     "output_type": "display_data"
    }
   ],
   "source": [
    "missing_percentages.plot(kind='barh')"
   ]
  },
  {
   "cell_type": "code",
   "execution_count": null,
   "metadata": {},
   "outputs": [],
   "source": []
  },
  {
   "cell_type": "markdown",
   "metadata": {},
   "source": [
    "## Exploratory Analysis and Visualization\n",
    "\n",
    "Columns we'll analyze:\n",
    "\n",
    "1. Type\n",
    "2. Start Date and Finish Date\n",
    "3. Language/Software\n",
    "4. Tags\n",
    "5. Source\n",
    "6. Author\n",
    "7. Minutes"
   ]
  },
  {
   "cell_type": "code",
   "execution_count": 9,
   "metadata": {},
   "outputs": [
    {
     "data": {
      "text/plain": [
       "Index(['Type', 'Name', 'Language/Software', 'Packages', 'Tags', 'Author',\n",
       "       'Created', 'Status', 'Score/5', 'URL', 'Source', 'Minutes',\n",
       "       'Finish Date', 'Start Date', 'Hours', 'Notes?', 'Linked Up?',\n",
       "       'Related to Coding Course Notes (Property)', 'Property'],\n",
       "      dtype='object')"
      ]
     },
     "execution_count": 9,
     "metadata": {},
     "output_type": "execute_result"
    }
   ],
   "source": [
    "df.columns"
   ]
  },
  {
   "cell_type": "code",
   "execution_count": 10,
   "metadata": {},
   "outputs": [
    {
     "data": {
      "text/html": [
       "<div>\n",
       "<style scoped>\n",
       "    .dataframe tbody tr th:only-of-type {\n",
       "        vertical-align: middle;\n",
       "    }\n",
       "\n",
       "    .dataframe tbody tr th {\n",
       "        vertical-align: top;\n",
       "    }\n",
       "\n",
       "    .dataframe thead th {\n",
       "        text-align: right;\n",
       "    }\n",
       "</style>\n",
       "<table border=\"1\" class=\"dataframe\">\n",
       "  <thead>\n",
       "    <tr style=\"text-align: right;\">\n",
       "      <th>Status</th>\n",
       "      <th>Finished</th>\n",
       "      <th>Not Started</th>\n",
       "      <th>Started</th>\n",
       "    </tr>\n",
       "    <tr>\n",
       "      <th>Type</th>\n",
       "      <th></th>\n",
       "      <th></th>\n",
       "      <th></th>\n",
       "    </tr>\n",
       "  </thead>\n",
       "  <tbody>\n",
       "    <tr>\n",
       "      <th>Article</th>\n",
       "      <td>0.102381</td>\n",
       "      <td>0.0</td>\n",
       "      <td>0.000000</td>\n",
       "    </tr>\n",
       "    <tr>\n",
       "      <th>Book</th>\n",
       "      <td>NaN</td>\n",
       "      <td>NaN</td>\n",
       "      <td>0.000000</td>\n",
       "    </tr>\n",
       "    <tr>\n",
       "      <th>Course</th>\n",
       "      <td>0.928033</td>\n",
       "      <td>NaN</td>\n",
       "      <td>3.266333</td>\n",
       "    </tr>\n",
       "    <tr>\n",
       "      <th>Podcast</th>\n",
       "      <td>0.908333</td>\n",
       "      <td>0.0</td>\n",
       "      <td>NaN</td>\n",
       "    </tr>\n",
       "    <tr>\n",
       "      <th>Tweet</th>\n",
       "      <td>0.016667</td>\n",
       "      <td>NaN</td>\n",
       "      <td>NaN</td>\n",
       "    </tr>\n",
       "    <tr>\n",
       "      <th>Video</th>\n",
       "      <td>0.470493</td>\n",
       "      <td>NaN</td>\n",
       "      <td>1.168333</td>\n",
       "    </tr>\n",
       "  </tbody>\n",
       "</table>\n",
       "</div>"
      ],
      "text/plain": [
       "Status   Finished  Not Started   Started\n",
       "Type                                    \n",
       "Article  0.102381          0.0  0.000000\n",
       "Book          NaN          NaN  0.000000\n",
       "Course   0.928033          NaN  3.266333\n",
       "Podcast  0.908333          0.0       NaN\n",
       "Tweet    0.016667          NaN       NaN\n",
       "Video    0.470493          NaN  1.168333"
      ]
     },
     "execution_count": 10,
     "metadata": {},
     "output_type": "execute_result"
    }
   ],
   "source": [
    "df.pivot_table(values='Hours', index='Type', columns='Status')"
   ]
  },
  {
   "cell_type": "code",
   "execution_count": null,
   "metadata": {},
   "outputs": [],
   "source": []
  },
  {
   "cell_type": "markdown",
   "metadata": {},
   "source": [
    "## Ask and Answer Question\n",
    "\n",
    "1. What type of resources did I consume the most? Quantity and time-wise.\n",
    "2. What days of thje week did I finish most resources?\n",
    "3. Who's my favorite author?\n",
    "4. What was tagged the most?\n",
    "5. Total time spent on #66DaysofData"
   ]
  },
  {
   "cell_type": "code",
   "execution_count": null,
   "metadata": {},
   "outputs": [],
   "source": []
  },
  {
   "cell_type": "code",
   "execution_count": null,
   "metadata": {},
   "outputs": [],
   "source": []
  },
  {
   "cell_type": "markdown",
   "metadata": {},
   "source": [
    "## Summary and Conclusion\n",
    "\n",
    "\n",
    "Insights:\n",
    "- I only gave myself credit for the resources I finished.\n",
    "- There is inevitably missing data. Some videos I watched, articles I read didn't get input into the system.\n",
    "- \n",
    "- "
   ]
  },
  {
   "cell_type": "code",
   "execution_count": null,
   "metadata": {},
   "outputs": [],
   "source": []
  }
 ],
 "metadata": {
  "interpreter": {
   "hash": "273114770b6fcca3ba170578d046463ac90cd83742e2e626b93a6ccd82af4472"
  },
  "kernelspec": {
   "display_name": "Python 3.10.1 64-bit ('minimal_ds': conda)",
   "language": "python",
   "name": "python3"
  },
  "language_info": {
   "codemirror_mode": {
    "name": "ipython",
    "version": 3
   },
   "file_extension": ".py",
   "mimetype": "text/x-python",
   "name": "python",
   "nbconvert_exporter": "python",
   "pygments_lexer": "ipython3",
   "version": "3.10.1"
  },
  "orig_nbformat": 4
 },
 "nbformat": 4,
 "nbformat_minor": 2
}
