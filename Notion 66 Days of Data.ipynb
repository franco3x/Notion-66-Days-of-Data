{
 "cells": [
  {
   "cell_type": "markdown",
   "metadata": {},
   "source": [
    "# Exploratory Data Analysis on #66DaysofData\n",
    "## Frank Coleman III\n",
    "### Dataset retrieved from: Notion"
   ]
  },
  {
   "cell_type": "markdown",
   "metadata": {},
   "source": [
    "## Data Preparation and Cleaning\n",
    "\n",
    "1. Load the file using Pandas\n",
    "2. Look at some information about the data & the columns\n",
    "3. Fix any missing or incorrect values"
   ]
  },
  {
   "cell_type": "code",
   "execution_count": 1,
   "metadata": {},
   "outputs": [],
   "source": [
    "import pandas as pd\n",
    "import numpy as np\n",
    "import matplotlib.pyplot as plt\n",
    "import seaborn as sns\n",
    "from datetime import datetime"
   ]
  },
  {
   "cell_type": "code",
   "execution_count": 2,
   "metadata": {},
   "outputs": [
    {
     "data": {
      "text/html": [
       "<div>\n",
       "<style scoped>\n",
       "    .dataframe tbody tr th:only-of-type {\n",
       "        vertical-align: middle;\n",
       "    }\n",
       "\n",
       "    .dataframe tbody tr th {\n",
       "        vertical-align: top;\n",
       "    }\n",
       "\n",
       "    .dataframe thead th {\n",
       "        text-align: right;\n",
       "    }\n",
       "</style>\n",
       "<table border=\"1\" class=\"dataframe\">\n",
       "  <thead>\n",
       "    <tr style=\"text-align: right;\">\n",
       "      <th></th>\n",
       "      <th>Type</th>\n",
       "      <th>Name</th>\n",
       "      <th>Language/Software</th>\n",
       "      <th>Packages</th>\n",
       "      <th>Tags</th>\n",
       "      <th>Author</th>\n",
       "      <th>Created</th>\n",
       "      <th>Status</th>\n",
       "      <th>Score/5</th>\n",
       "      <th>URL</th>\n",
       "      <th>Source</th>\n",
       "      <th>Minutes</th>\n",
       "      <th>Finish Date</th>\n",
       "      <th>Start Date</th>\n",
       "      <th>Hours</th>\n",
       "      <th>Notes?</th>\n",
       "      <th>Linked Up?</th>\n",
       "      <th>Related to Coding Course Notes (Property)</th>\n",
       "    </tr>\n",
       "  </thead>\n",
       "  <tbody>\n",
       "    <tr>\n",
       "      <th>0</th>\n",
       "      <td>Course</td>\n",
       "      <td>Cleaning Data in Python</td>\n",
       "      <td>Python</td>\n",
       "      <td>NaN</td>\n",
       "      <td>NaN</td>\n",
       "      <td>NaN</td>\n",
       "      <td>February 23, 2022 11:22 PM</td>\n",
       "      <td>Not Started</td>\n",
       "      <td>NaN</td>\n",
       "      <td>NaN</td>\n",
       "      <td>DataCamp</td>\n",
       "      <td>240.00</td>\n",
       "      <td>NaN</td>\n",
       "      <td>February 24, 2022</td>\n",
       "      <td>4.000000</td>\n",
       "      <td>No</td>\n",
       "      <td>No</td>\n",
       "      <td>NaN</td>\n",
       "    </tr>\n",
       "    <tr>\n",
       "      <th>1</th>\n",
       "      <td>Course</td>\n",
       "      <td>Intermediate Importing Data in Python</td>\n",
       "      <td>Python</td>\n",
       "      <td>BeautifulSoup, Tweepy, json, request</td>\n",
       "      <td>#66DaysofData, APIs, Importing Data, Python, R...</td>\n",
       "      <td>NaN</td>\n",
       "      <td>February 23, 2022 12:18 AM</td>\n",
       "      <td>Finished</td>\n",
       "      <td>⭐️⭐️⭐️</td>\n",
       "      <td>NaN</td>\n",
       "      <td>DataCamp</td>\n",
       "      <td>180.00</td>\n",
       "      <td>February 23, 2022</td>\n",
       "      <td>February 23, 2022</td>\n",
       "      <td>3.000000</td>\n",
       "      <td>No</td>\n",
       "      <td>No</td>\n",
       "      <td>NaN</td>\n",
       "    </tr>\n",
       "    <tr>\n",
       "      <th>2</th>\n",
       "      <td>Video</td>\n",
       "      <td>Tableau Data Analyst Certification Review - 12...</td>\n",
       "      <td>Tableau</td>\n",
       "      <td>NaN</td>\n",
       "      <td>#66DaysofData, Career, Round1, Tableau</td>\n",
       "      <td>Alex the Analyst</td>\n",
       "      <td>February 23, 2022 12:06 AM</td>\n",
       "      <td>Finished</td>\n",
       "      <td>NaN</td>\n",
       "      <td>https://www.youtube.com/watch?v=4A8LV6fObYA&amp;t=...</td>\n",
       "      <td>YouTube</td>\n",
       "      <td>12.80</td>\n",
       "      <td>February 22, 2022</td>\n",
       "      <td>February 22, 2022</td>\n",
       "      <td>0.213333</td>\n",
       "      <td>No</td>\n",
       "      <td>No</td>\n",
       "      <td>NaN</td>\n",
       "    </tr>\n",
       "    <tr>\n",
       "      <th>3</th>\n",
       "      <td>Video</td>\n",
       "      <td>How to learn Tableau in 2022: Full platform gu...</td>\n",
       "      <td>Tableau</td>\n",
       "      <td>NaN</td>\n",
       "      <td>#66DaysofData, Round1, Tableau</td>\n",
       "      <td>Tableau Tim</td>\n",
       "      <td>February 22, 2022 5:47 PM</td>\n",
       "      <td>Finished</td>\n",
       "      <td>⭐️⭐️⭐️⭐️</td>\n",
       "      <td>https://www.youtube.com/watch?v=ayc6AjOuQb0&amp;t=...</td>\n",
       "      <td>YouTube</td>\n",
       "      <td>31.65</td>\n",
       "      <td>February 22, 2022</td>\n",
       "      <td>February 17, 2022</td>\n",
       "      <td>0.527500</td>\n",
       "      <td>No</td>\n",
       "      <td>No</td>\n",
       "      <td>NaN</td>\n",
       "    </tr>\n",
       "    <tr>\n",
       "      <th>4</th>\n",
       "      <td>Article</td>\n",
       "      <td>8 Ways to Filter Pandas Dataframes | by Soner ...</td>\n",
       "      <td>Python</td>\n",
       "      <td>pandas</td>\n",
       "      <td>#66DaysofData, Data Analysis, Exploratory Data...</td>\n",
       "      <td>Towards Data Science</td>\n",
       "      <td>February 11, 2022 11:45 PM</td>\n",
       "      <td>Finished</td>\n",
       "      <td>NaN</td>\n",
       "      <td>https://towardsdatascience.com/8-ways-to-filte...</td>\n",
       "      <td>Medium</td>\n",
       "      <td>20.00</td>\n",
       "      <td>February 12, 2022</td>\n",
       "      <td>February 12, 2022</td>\n",
       "      <td>0.333333</td>\n",
       "      <td>No</td>\n",
       "      <td>No</td>\n",
       "      <td>NaN</td>\n",
       "    </tr>\n",
       "  </tbody>\n",
       "</table>\n",
       "</div>"
      ],
      "text/plain": [
       "      Type                                               Name  \\\n",
       "0   Course                            Cleaning Data in Python   \n",
       "1   Course              Intermediate Importing Data in Python   \n",
       "2    Video  Tableau Data Analyst Certification Review - 12...   \n",
       "3    Video  How to learn Tableau in 2022: Full platform gu...   \n",
       "4  Article  8 Ways to Filter Pandas Dataframes | by Soner ...   \n",
       "\n",
       "  Language/Software                              Packages  \\\n",
       "0            Python                                   NaN   \n",
       "1            Python  BeautifulSoup, Tweepy, json, request   \n",
       "2           Tableau                                   NaN   \n",
       "3           Tableau                                   NaN   \n",
       "4            Python                                pandas   \n",
       "\n",
       "                                                Tags                Author  \\\n",
       "0                                                NaN                   NaN   \n",
       "1  #66DaysofData, APIs, Importing Data, Python, R...                   NaN   \n",
       "2             #66DaysofData, Career, Round1, Tableau      Alex the Analyst   \n",
       "3                     #66DaysofData, Round1, Tableau           Tableau Tim   \n",
       "4  #66DaysofData, Data Analysis, Exploratory Data...  Towards Data Science   \n",
       "\n",
       "                      Created       Status   Score/5  \\\n",
       "0  February 23, 2022 11:22 PM  Not Started       NaN   \n",
       "1  February 23, 2022 12:18 AM     Finished    ⭐️⭐️⭐️   \n",
       "2  February 23, 2022 12:06 AM     Finished       NaN   \n",
       "3   February 22, 2022 5:47 PM     Finished  ⭐️⭐️⭐️⭐️   \n",
       "4  February 11, 2022 11:45 PM     Finished       NaN   \n",
       "\n",
       "                                                 URL    Source  Minutes  \\\n",
       "0                                                NaN  DataCamp   240.00   \n",
       "1                                                NaN  DataCamp   180.00   \n",
       "2  https://www.youtube.com/watch?v=4A8LV6fObYA&t=...   YouTube    12.80   \n",
       "3  https://www.youtube.com/watch?v=ayc6AjOuQb0&t=...   YouTube    31.65   \n",
       "4  https://towardsdatascience.com/8-ways-to-filte...    Medium    20.00   \n",
       "\n",
       "         Finish Date         Start Date     Hours Notes? Linked Up?  \\\n",
       "0                NaN  February 24, 2022  4.000000     No         No   \n",
       "1  February 23, 2022  February 23, 2022  3.000000     No         No   \n",
       "2  February 22, 2022  February 22, 2022  0.213333     No         No   \n",
       "3  February 22, 2022  February 17, 2022  0.527500     No         No   \n",
       "4  February 12, 2022  February 12, 2022  0.333333     No         No   \n",
       "\n",
       "   Related to Coding Course Notes (Property)  \n",
       "0                                        NaN  \n",
       "1                                        NaN  \n",
       "2                                        NaN  \n",
       "3                                        NaN  \n",
       "4                                        NaN  "
      ]
     },
     "execution_count": 2,
     "metadata": {},
     "output_type": "execute_result"
    }
   ],
   "source": [
    "df = pd.read_csv(\"notion_data.csv\")\n",
    "df.head(5)\n"
   ]
  },
  {
   "cell_type": "code",
   "execution_count": 4,
   "metadata": {},
   "outputs": [
    {
     "name": "stdout",
     "output_type": "stream",
     "text": [
      "<class 'pandas.core.frame.DataFrame'>\n",
      "RangeIndex: 151 entries, 0 to 150\n",
      "Data columns (total 18 columns):\n",
      " #   Column                                     Non-Null Count  Dtype  \n",
      "---  ------                                     --------------  -----  \n",
      " 0   Type                                       106 non-null    object \n",
      " 1   Name                                       150 non-null    object \n",
      " 2   Language/Software                          29 non-null     object \n",
      " 3   Packages                                   13 non-null     object \n",
      " 4   Tags                                       106 non-null    object \n",
      " 5   Author                                     49 non-null     object \n",
      " 6   Created                                    151 non-null    object \n",
      " 7   Status                                     87 non-null     object \n",
      " 8   Score/5                                    27 non-null     object \n",
      " 9   URL                                        143 non-null    object \n",
      " 10  Source                                     53 non-null     object \n",
      " 11  Minutes                                    68 non-null     float64\n",
      " 12  Finish Date                                59 non-null     object \n",
      " 13  Start Date                                 67 non-null     object \n",
      " 14  Hours                                      151 non-null    float64\n",
      " 15  Notes?                                     151 non-null    object \n",
      " 16  Linked Up?                                 151 non-null    object \n",
      " 17  Related to Coding Course Notes (Property)  0 non-null      float64\n",
      "dtypes: float64(3), object(15)\n",
      "memory usage: 21.4+ KB\n"
     ]
    }
   ],
   "source": [
    "df.info()"
   ]
  },
  {
   "cell_type": "code",
   "execution_count": 5,
   "metadata": {},
   "outputs": [
    {
     "data": {
      "text/plain": [
       "3"
      ]
     },
     "execution_count": 5,
     "metadata": {},
     "output_type": "execute_result"
    }
   ],
   "source": [
    "numerics = ['int16', 'int32', 'int64', 'float16', 'float32', 'float64']\n",
    "\n",
    "numeric_df = df.select_dtypes(include=numerics)\n",
    "len(numeric_df.columns)\n"
   ]
  },
  {
   "cell_type": "code",
   "execution_count": 6,
   "metadata": {},
   "outputs": [
    {
     "data": {
      "text/plain": [
       "Related to Coding Course Notes (Property)    1.000000\n",
       "Packages                                     0.913907\n",
       "Score/5                                      0.821192\n",
       "Language/Software                            0.807947\n",
       "Author                                       0.675497\n",
       "Source                                       0.649007\n",
       "Finish Date                                  0.609272\n",
       "Start Date                                   0.556291\n",
       "Minutes                                      0.549669\n",
       "Status                                       0.423841\n",
       "Type                                         0.298013\n",
       "Tags                                         0.298013\n",
       "URL                                          0.052980\n",
       "Name                                         0.006623\n",
       "Created                                      0.000000\n",
       "Hours                                        0.000000\n",
       "Notes?                                       0.000000\n",
       "Linked Up?                                   0.000000\n",
       "dtype: float64"
      ]
     },
     "execution_count": 6,
     "metadata": {},
     "output_type": "execute_result"
    }
   ],
   "source": [
    "missing_percentages = df.isna().sum().sort_values(ascending=False) / len(df)\n",
    "missing_percentages"
   ]
  },
  {
   "cell_type": "code",
   "execution_count": 7,
   "metadata": {},
   "outputs": [
    {
     "data": {
      "text/plain": [
       "<AxesSubplot:>"
      ]
     },
     "execution_count": 7,
     "metadata": {},
     "output_type": "execute_result"
    },
    {
     "data": {
      "image/png": "[encoded data removed]",
      "text/plain": [
       "<Figure size 432x288 with 1 Axes>"
      ]
     },
     "metadata": {
      "needs_background": "light"
     },
     "output_type": "display_data"
    }
   ],
   "source": [
    "missing_percentages.plot(kind='barh')\n"
   ]
  },
  {
   "cell_type": "code",
   "execution_count": null,
   "metadata": {},
   "outputs": [],
   "source": []
  },
  {
   "cell_type": "code",
   "execution_count": null,
   "metadata": {},
   "outputs": [],
   "source": []
  },
  {
   "cell_type": "markdown",
   "metadata": {},
   "source": [
    "### Changing Data Types"
   ]
  },
  {
   "cell_type": "code",
   "execution_count": 8,
   "metadata": {},
   "outputs": [
    {
     "name": "stdout",
     "output_type": "stream",
     "text": [
      "<class 'pandas.core.frame.DataFrame'>\n",
      "RangeIndex: 151 entries, 0 to 150\n",
      "Data columns (total 18 columns):\n",
      " #   Column                                     Non-Null Count  Dtype  \n",
      "---  ------                                     --------------  -----  \n",
      " 0   Type                                       106 non-null    object \n",
      " 1   Name                                       150 non-null    object \n",
      " 2   Language/Software                          29 non-null     object \n",
      " 3   Packages                                   13 non-null     object \n",
      " 4   Tags                                       106 non-null    object \n",
      " 5   Author                                     49 non-null     object \n",
      " 6   Created                                    151 non-null    object \n",
      " 7   Status                                     87 non-null     object \n",
      " 8   Score/5                                    27 non-null     object \n",
      " 9   URL                                        143 non-null    object \n",
      " 10  Source                                     53 non-null     object \n",
      " 11  Minutes                                    68 non-null     float64\n",
      " 12  Finish Date                                59 non-null     object \n",
      " 13  Start Date                                 67 non-null     object \n",
      " 14  Hours                                      151 non-null    float64\n",
      " 15  Notes?                                     151 non-null    object \n",
      " 16  Linked Up?                                 151 non-null    object \n",
      " 17  Related to Coding Course Notes (Property)  0 non-null      float64\n",
      "dtypes: float64(3), object(15)\n",
      "memory usage: 21.4+ KB\n"
     ]
    }
   ],
   "source": [
    "df.info()"
   ]
  },
  {
   "cell_type": "code",
   "execution_count": 9,
   "metadata": {},
   "outputs": [
    {
     "data": {
      "text/plain": [
       "0      4.000000\n",
       "1      3.000000\n",
       "2      0.213333\n",
       "3      0.527500\n",
       "4      0.333333\n",
       "         ...   \n",
       "146    0.466667\n",
       "147    0.258500\n",
       "148    0.125000\n",
       "149    0.000000\n",
       "150    0.933333\n",
       "Name: Hours, Length: 151, dtype: float64"
      ]
     },
     "execution_count": 9,
     "metadata": {},
     "output_type": "execute_result"
    }
   ],
   "source": [
    "#Minutes, Hours should be float\n",
    "pd.to_numeric(df[\"Minutes\"], errors='coerce').fillna(0)\n",
    "pd.to_numeric(df[\"Hours\"], errors='coerce').fillna(0)"
   ]
  },
  {
   "cell_type": "code",
   "execution_count": 12,
   "metadata": {},
   "outputs": [],
   "source": [
    "#Created, Finish Date, Start Date should be datetime\n",
    "df['Created'] = pd.to_datetime(df[\"Created\"], errors='raise', format=\"%B %d, %Y %I:%M %p\")\n",
    "df['Finish Date'] = pd.to_datetime(df[\"Finish Date\"], errors='raise', format=\"%B %d, %Y\")\n",
    "df['Start Date'] = pd.to_datetime(df[\"Start Date\"], errors='raise', format=\"%B %d, %Y\")\n"
   ]
  },
  {
   "cell_type": "code",
   "execution_count": 13,
   "metadata": {},
   "outputs": [
    {
     "name": "stdout",
     "output_type": "stream",
     "text": [
      "<class 'pandas.core.frame.DataFrame'>\n",
      "RangeIndex: 151 entries, 0 to 150\n",
      "Data columns (total 18 columns):\n",
      " #   Column                                     Non-Null Count  Dtype         \n",
      "---  ------                                     --------------  -----         \n",
      " 0   Type                                       106 non-null    object        \n",
      " 1   Name                                       150 non-null    object        \n",
      " 2   Language/Software                          29 non-null     object        \n",
      " 3   Packages                                   13 non-null     object        \n",
      " 4   Tags                                       106 non-null    object        \n",
      " 5   Author                                     49 non-null     object        \n",
      " 6   Created                                    151 non-null    datetime64[ns]\n",
      " 7   Status                                     87 non-null     object        \n",
      " 8   Score/5                                    27 non-null     object        \n",
      " 9   URL                                        143 non-null    object        \n",
      " 10  Source                                     53 non-null     object        \n",
      " 11  Minutes                                    68 non-null     float64       \n",
      " 12  Finish Date                                59 non-null     datetime64[ns]\n",
      " 13  Start Date                                 67 non-null     datetime64[ns]\n",
      " 14  Hours                                      151 non-null    float64       \n",
      " 15  Notes?                                     151 non-null    object        \n",
      " 16  Linked Up?                                 151 non-null    object        \n",
      " 17  Related to Coding Course Notes (Property)  0 non-null      float64       \n",
      "dtypes: datetime64[ns](3), float64(3), object(12)\n",
      "memory usage: 21.4+ KB\n"
     ]
    }
   ],
   "source": [
    "df.info()"
   ]
  },
  {
   "cell_type": "code",
   "execution_count": 14,
   "metadata": {},
   "outputs": [
    {
     "data": {
      "text/plain": [
       "0            NaN\n",
       "1       February\n",
       "2       February\n",
       "3       February\n",
       "4       February\n",
       "         ...    \n",
       "146    September\n",
       "147    September\n",
       "148    September\n",
       "149          NaN\n",
       "150          NaN\n",
       "Name: Finish Date, Length: 151, dtype: object"
      ]
     },
     "execution_count": 14,
     "metadata": {},
     "output_type": "execute_result"
    }
   ],
   "source": [
    "df['Finish Date'].dt.month_name()"
   ]
  },
  {
   "cell_type": "code",
   "execution_count": 15,
   "metadata": {},
   "outputs": [
    {
     "data": {
      "text/html": [
       "<div>\n",
       "<style scoped>\n",
       "    .dataframe tbody tr th:only-of-type {\n",
       "        vertical-align: middle;\n",
       "    }\n",
       "\n",
       "    .dataframe tbody tr th {\n",
       "        vertical-align: top;\n",
       "    }\n",
       "\n",
       "    .dataframe thead th {\n",
       "        text-align: right;\n",
       "    }\n",
       "</style>\n",
       "<table border=\"1\" class=\"dataframe\">\n",
       "  <thead>\n",
       "    <tr style=\"text-align: right;\">\n",
       "      <th></th>\n",
       "      <th>Type</th>\n",
       "      <th>Name</th>\n",
       "      <th>Language/Software</th>\n",
       "      <th>Packages</th>\n",
       "      <th>Tags</th>\n",
       "      <th>Author</th>\n",
       "      <th>Created</th>\n",
       "      <th>Status</th>\n",
       "      <th>Score/5</th>\n",
       "      <th>URL</th>\n",
       "      <th>Source</th>\n",
       "      <th>Minutes</th>\n",
       "      <th>Finish Date</th>\n",
       "      <th>Start Date</th>\n",
       "      <th>Hours</th>\n",
       "      <th>Notes?</th>\n",
       "      <th>Linked Up?</th>\n",
       "      <th>Related to Coding Course Notes (Property)</th>\n",
       "    </tr>\n",
       "  </thead>\n",
       "  <tbody>\n",
       "    <tr>\n",
       "      <th>146</th>\n",
       "      <td>Video</td>\n",
       "      <td>Data Science Project from Scratch - Part 2 (Da...</td>\n",
       "      <td>NaN</td>\n",
       "      <td>NaN</td>\n",
       "      <td>DS Projects, Data Science</td>\n",
       "      <td>Ken Jee</td>\n",
       "      <td>2021-12-21 17:58:00</td>\n",
       "      <td>Finished</td>\n",
       "      <td>⭐️⭐️⭐️⭐️⭐️</td>\n",
       "      <td>https://www.youtube.com/watch?v=GmW4F6MHqqs</td>\n",
       "      <td>NaN</td>\n",
       "      <td>28.00</td>\n",
       "      <td>2020-09-23</td>\n",
       "      <td>2020-09-23</td>\n",
       "      <td>0.466667</td>\n",
       "      <td>No</td>\n",
       "      <td>No</td>\n",
       "      <td>NaN</td>\n",
       "    </tr>\n",
       "    <tr>\n",
       "      <th>147</th>\n",
       "      <td>Video</td>\n",
       "      <td>(50) The Second Brain - A Life-Changing Produc...</td>\n",
       "      <td>NaN</td>\n",
       "      <td>NaN</td>\n",
       "      <td>Productivity</td>\n",
       "      <td>NaN</td>\n",
       "      <td>2021-12-21 17:58:00</td>\n",
       "      <td>Finished</td>\n",
       "      <td>NaN</td>\n",
       "      <td>https://www.youtube.com/watch?v=OP3dA2GcAh8</td>\n",
       "      <td>NaN</td>\n",
       "      <td>15.51</td>\n",
       "      <td>2020-09-25</td>\n",
       "      <td>2020-09-25</td>\n",
       "      <td>0.258500</td>\n",
       "      <td>No</td>\n",
       "      <td>No</td>\n",
       "      <td>NaN</td>\n",
       "    </tr>\n",
       "    <tr>\n",
       "      <th>148</th>\n",
       "      <td>Video</td>\n",
       "      <td>Data Science Project from Scratch - Part 1 (Pr...</td>\n",
       "      <td>NaN</td>\n",
       "      <td>NaN</td>\n",
       "      <td>DS Projects, Data Science</td>\n",
       "      <td>Ken Jee</td>\n",
       "      <td>2021-12-21 17:58:00</td>\n",
       "      <td>Finished</td>\n",
       "      <td>⭐️⭐️⭐️⭐️⭐️</td>\n",
       "      <td>https://www.youtube.com/watch?v=MpF9HENQjDo</td>\n",
       "      <td>NaN</td>\n",
       "      <td>7.50</td>\n",
       "      <td>2020-09-23</td>\n",
       "      <td>2020-09-23</td>\n",
       "      <td>0.125000</td>\n",
       "      <td>No</td>\n",
       "      <td>No</td>\n",
       "      <td>NaN</td>\n",
       "    </tr>\n",
       "    <tr>\n",
       "      <th>149</th>\n",
       "      <td>Book</td>\n",
       "      <td>Data Newbie to Guru: The Visual Guide to Learn...</td>\n",
       "      <td>NaN</td>\n",
       "      <td>NaN</td>\n",
       "      <td>Data Science, SQL</td>\n",
       "      <td>Dr. Chantel Perry</td>\n",
       "      <td>2021-12-21 17:58:00</td>\n",
       "      <td>Started</td>\n",
       "      <td>NaN</td>\n",
       "      <td>NaN</td>\n",
       "      <td>NaN</td>\n",
       "      <td>NaN</td>\n",
       "      <td>NaT</td>\n",
       "      <td>2020-07-31</td>\n",
       "      <td>0.000000</td>\n",
       "      <td>No</td>\n",
       "      <td>No</td>\n",
       "      <td>NaN</td>\n",
       "    </tr>\n",
       "    <tr>\n",
       "      <th>150</th>\n",
       "      <td>Podcast</td>\n",
       "      <td>Build Your Brand in Data Science</td>\n",
       "      <td>NaN</td>\n",
       "      <td>NaN</td>\n",
       "      <td>Data Science</td>\n",
       "      <td>NaN</td>\n",
       "      <td>2021-12-21 17:58:00</td>\n",
       "      <td>NaN</td>\n",
       "      <td>NaN</td>\n",
       "      <td>https://podcasts.apple.com/us/podcast/50-ken-j...</td>\n",
       "      <td>NaN</td>\n",
       "      <td>56.00</td>\n",
       "      <td>NaT</td>\n",
       "      <td>2020-09-23</td>\n",
       "      <td>0.933333</td>\n",
       "      <td>No</td>\n",
       "      <td>No</td>\n",
       "      <td>NaN</td>\n",
       "    </tr>\n",
       "  </tbody>\n",
       "</table>\n",
       "</div>"
      ],
      "text/plain": [
       "        Type                                               Name  \\\n",
       "146    Video  Data Science Project from Scratch - Part 2 (Da...   \n",
       "147    Video  (50) The Second Brain - A Life-Changing Produc...   \n",
       "148    Video  Data Science Project from Scratch - Part 1 (Pr...   \n",
       "149     Book  Data Newbie to Guru: The Visual Guide to Learn...   \n",
       "150  Podcast                   Build Your Brand in Data Science   \n",
       "\n",
       "    Language/Software Packages                       Tags             Author  \\\n",
       "146               NaN      NaN  DS Projects, Data Science            Ken Jee   \n",
       "147               NaN      NaN               Productivity                NaN   \n",
       "148               NaN      NaN  DS Projects, Data Science            Ken Jee   \n",
       "149               NaN      NaN          Data Science, SQL  Dr. Chantel Perry   \n",
       "150               NaN      NaN               Data Science                NaN   \n",
       "\n",
       "                Created    Status     Score/5  \\\n",
       "146 2021-12-21 17:58:00  Finished  ⭐️⭐️⭐️⭐️⭐️   \n",
       "147 2021-12-21 17:58:00  Finished         NaN   \n",
       "148 2021-12-21 17:58:00  Finished  ⭐️⭐️⭐️⭐️⭐️   \n",
       "149 2021-12-21 17:58:00   Started         NaN   \n",
       "150 2021-12-21 17:58:00       NaN         NaN   \n",
       "\n",
       "                                                   URL Source  Minutes  \\\n",
       "146        https://www.youtube.com/watch?v=GmW4F6MHqqs    NaN    28.00   \n",
       "147        https://www.youtube.com/watch?v=OP3dA2GcAh8    NaN    15.51   \n",
       "148        https://www.youtube.com/watch?v=MpF9HENQjDo    NaN     7.50   \n",
       "149                                                NaN    NaN      NaN   \n",
       "150  https://podcasts.apple.com/us/podcast/50-ken-j...    NaN    56.00   \n",
       "\n",
       "    Finish Date Start Date     Hours Notes? Linked Up?  \\\n",
       "146  2020-09-23 2020-09-23  0.466667     No         No   \n",
       "147  2020-09-25 2020-09-25  0.258500     No         No   \n",
       "148  2020-09-23 2020-09-23  0.125000     No         No   \n",
       "149         NaT 2020-07-31  0.000000     No         No   \n",
       "150         NaT 2020-09-23  0.933333     No         No   \n",
       "\n",
       "     Related to Coding Course Notes (Property)  \n",
       "146                                        NaN  \n",
       "147                                        NaN  \n",
       "148                                        NaN  \n",
       "149                                        NaN  \n",
       "150                                        NaN  "
      ]
     },
     "execution_count": 15,
     "metadata": {},
     "output_type": "execute_result"
    }
   ],
   "source": [
    "df.tail()"
   ]
  },
  {
   "cell_type": "markdown",
   "metadata": {},
   "source": [
    "I'll only be analyzing observations that I completed (Status = Finished) and that were done during the #66DaysofData challenge. Those are tagged #66DaysofData"
   ]
  },
  {
   "cell_type": "markdown",
   "metadata": {},
   "source": [
    "### Dropping Unnecessary Columns"
   ]
  },
  {
   "cell_type": "code",
   "execution_count": 16,
   "metadata": {},
   "outputs": [
    {
     "name": "stdout",
     "output_type": "stream",
     "text": [
      "<class 'pandas.core.frame.DataFrame'>\n",
      "RangeIndex: 151 entries, 0 to 150\n",
      "Data columns (total 18 columns):\n",
      " #   Column                                     Non-Null Count  Dtype         \n",
      "---  ------                                     --------------  -----         \n",
      " 0   Type                                       106 non-null    object        \n",
      " 1   Name                                       150 non-null    object        \n",
      " 2   Language/Software                          29 non-null     object        \n",
      " 3   Packages                                   13 non-null     object        \n",
      " 4   Tags                                       106 non-null    object        \n",
      " 5   Author                                     49 non-null     object        \n",
      " 6   Created                                    151 non-null    datetime64[ns]\n",
      " 7   Status                                     87 non-null     object        \n",
      " 8   Score/5                                    27 non-null     object        \n",
      " 9   URL                                        143 non-null    object        \n",
      " 10  Source                                     53 non-null     object        \n",
      " 11  Minutes                                    68 non-null     float64       \n",
      " 12  Finish Date                                59 non-null     datetime64[ns]\n",
      " 13  Start Date                                 67 non-null     datetime64[ns]\n",
      " 14  Hours                                      151 non-null    float64       \n",
      " 15  Notes?                                     151 non-null    object        \n",
      " 16  Linked Up?                                 151 non-null    object        \n",
      " 17  Related to Coding Course Notes (Property)  0 non-null      float64       \n",
      "dtypes: datetime64[ns](3), float64(3), object(12)\n",
      "memory usage: 21.4+ KB\n"
     ]
    }
   ],
   "source": [
    "df.info()"
   ]
  },
  {
   "cell_type": "code",
   "execution_count": 19,
   "metadata": {},
   "outputs": [],
   "source": [
    "df = df.drop([\"Related to Coding Course Notes (Property)\", \"Linked Up?\", \"Notes?\", \"Score/5\", \"URL\"], axis=1)\n"
   ]
  },
  {
   "cell_type": "code",
   "execution_count": 20,
   "metadata": {},
   "outputs": [
    {
     "name": "stdout",
     "output_type": "stream",
     "text": [
      "<class 'pandas.core.frame.DataFrame'>\n",
      "RangeIndex: 151 entries, 0 to 150\n",
      "Data columns (total 13 columns):\n",
      " #   Column             Non-Null Count  Dtype         \n",
      "---  ------             --------------  -----         \n",
      " 0   Type               106 non-null    object        \n",
      " 1   Name               150 non-null    object        \n",
      " 2   Language/Software  29 non-null     object        \n",
      " 3   Packages           13 non-null     object        \n",
      " 4   Tags               106 non-null    object        \n",
      " 5   Author             49 non-null     object        \n",
      " 6   Created            151 non-null    datetime64[ns]\n",
      " 7   Status             87 non-null     object        \n",
      " 8   Source             53 non-null     object        \n",
      " 9   Minutes            68 non-null     float64       \n",
      " 10  Finish Date        59 non-null     datetime64[ns]\n",
      " 11  Start Date         67 non-null     datetime64[ns]\n",
      " 12  Hours              151 non-null    float64       \n",
      "dtypes: datetime64[ns](3), float64(2), object(8)\n",
      "memory usage: 15.5+ KB\n"
     ]
    }
   ],
   "source": [
    "df.info()"
   ]
  },
  {
   "cell_type": "markdown",
   "metadata": {},
   "source": [
    "# Renaming Columns"
   ]
  },
  {
   "cell_type": "code",
   "execution_count": 22,
   "metadata": {},
   "outputs": [],
   "source": [
    "df.rename(columns = {'Finish Date': 'Finish_Date', 'Start Date': 'Start_Date'}, inplace = True)\n"
   ]
  },
  {
   "cell_type": "code",
   "execution_count": 23,
   "metadata": {},
   "outputs": [
    {
     "data": {
      "text/plain": [
       "Index(['Type', 'Name', 'Language/Software', 'Packages', 'Tags', 'Author',\n",
       "       'Created', 'Status', 'Source', 'Minutes', 'Finish_Date', 'Start_Date',\n",
       "       'Hours'],\n",
       "      dtype='object')"
      ]
     },
     "execution_count": 23,
     "metadata": {},
     "output_type": "execute_result"
    }
   ],
   "source": [
    "df.columns"
   ]
  },
  {
   "cell_type": "code",
   "execution_count": 24,
   "metadata": {},
   "outputs": [
    {
     "data": {
      "text/plain": [
       "2"
      ]
     },
     "execution_count": 24,
     "metadata": {},
     "output_type": "execute_result"
    }
   ],
   "source": [
    "numerics = ['int16', 'int32', 'int64', 'float16', 'float32', 'float64']\n",
    "\n",
    "numeric_df = df.select_dtypes(include=numerics)\n",
    "len(numeric_df.columns)\n"
   ]
  },
  {
   "cell_type": "code",
   "execution_count": 25,
   "metadata": {},
   "outputs": [
    {
     "data": {
      "text/plain": [
       "Packages             0.913907\n",
       "Language/Software    0.807947\n",
       "Author               0.675497\n",
       "Source               0.649007\n",
       "Finish_Date          0.609272\n",
       "Start_Date           0.556291\n",
       "Minutes              0.549669\n",
       "Status               0.423841\n",
       "Type                 0.298013\n",
       "Tags                 0.298013\n",
       "Name                 0.006623\n",
       "Created              0.000000\n",
       "Hours                0.000000\n",
       "dtype: float64"
      ]
     },
     "execution_count": 25,
     "metadata": {},
     "output_type": "execute_result"
    }
   ],
   "source": [
    "missing_percentages = df.isna().sum().sort_values(ascending=False) / len(df)\n",
    "missing_percentages"
   ]
  },
  {
   "cell_type": "code",
   "execution_count": 26,
   "metadata": {},
   "outputs": [
    {
     "data": {
      "text/plain": [
       "<AxesSubplot:>"
      ]
     },
     "execution_count": 26,
     "metadata": {},
     "output_type": "execute_result"
    },
    {
     "data": {
      "image/png": "[encoded data removed]",
      "text/plain": [
       "<Figure size 432x288 with 1 Axes>"
      ]
     },
     "metadata": {
      "needs_background": "light"
     },
     "output_type": "display_data"
    }
   ],
   "source": [
    "missing_percentages.plot(kind='barh')\n"
   ]
  },
  {
   "cell_type": "code",
   "execution_count": 8,
   "metadata": {},
   "outputs": [
    {
     "data": {
      "text/html": [
       "<div>\n",
       "<style scoped>\n",
       "    .dataframe tbody tr th:only-of-type {\n",
       "        vertical-align: middle;\n",
       "    }\n",
       "\n",
       "    .dataframe tbody tr th {\n",
       "        vertical-align: top;\n",
       "    }\n",
       "\n",
       "    .dataframe thead th {\n",
       "        text-align: right;\n",
       "    }\n",
       "</style>\n",
       "<table border=\"1\" class=\"dataframe\">\n",
       "  <thead>\n",
       "    <tr style=\"text-align: right;\">\n",
       "      <th></th>\n",
       "      <th>Minutes</th>\n",
       "      <th>Hours</th>\n",
       "      <th>Related to Coding Course Notes (Property)</th>\n",
       "    </tr>\n",
       "  </thead>\n",
       "  <tbody>\n",
       "    <tr>\n",
       "      <th>count</th>\n",
       "      <td>68.000000</td>\n",
       "      <td>151.000000</td>\n",
       "      <td>0.0</td>\n",
       "    </tr>\n",
       "    <tr>\n",
       "      <th>mean</th>\n",
       "      <td>60.645147</td>\n",
       "      <td>0.455173</td>\n",
       "      <td>NaN</td>\n",
       "    </tr>\n",
       "    <tr>\n",
       "      <th>std</th>\n",
       "      <td>110.872873</td>\n",
       "      <td>1.334087</td>\n",
       "      <td>NaN</td>\n",
       "    </tr>\n",
       "    <tr>\n",
       "      <th>min</th>\n",
       "      <td>1.000000</td>\n",
       "      <td>0.000000</td>\n",
       "      <td>NaN</td>\n",
       "    </tr>\n",
       "    <tr>\n",
       "      <th>25%</th>\n",
       "      <td>9.832500</td>\n",
       "      <td>0.000000</td>\n",
       "      <td>NaN</td>\n",
       "    </tr>\n",
       "    <tr>\n",
       "      <th>50%</th>\n",
       "      <td>18.750000</td>\n",
       "      <td>0.000000</td>\n",
       "      <td>NaN</td>\n",
       "    </tr>\n",
       "    <tr>\n",
       "      <th>75%</th>\n",
       "      <td>56.250000</td>\n",
       "      <td>0.262583</td>\n",
       "      <td>NaN</td>\n",
       "    </tr>\n",
       "    <tr>\n",
       "      <th>max</th>\n",
       "      <td>739.900000</td>\n",
       "      <td>12.331667</td>\n",
       "      <td>NaN</td>\n",
       "    </tr>\n",
       "  </tbody>\n",
       "</table>\n",
       "</div>"
      ],
      "text/plain": [
       "          Minutes       Hours  Related to Coding Course Notes (Property)\n",
       "count   68.000000  151.000000                                        0.0\n",
       "mean    60.645147    0.455173                                        NaN\n",
       "std    110.872873    1.334087                                        NaN\n",
       "min      1.000000    0.000000                                        NaN\n",
       "25%      9.832500    0.000000                                        NaN\n",
       "50%     18.750000    0.000000                                        NaN\n",
       "75%     56.250000    0.262583                                        NaN\n",
       "max    739.900000   12.331667                                        NaN"
      ]
     },
     "execution_count": 8,
     "metadata": {},
     "output_type": "execute_result"
    }
   ],
   "source": [
    "df.describe()"
   ]
  },
  {
   "cell_type": "code",
   "execution_count": null,
   "metadata": {},
   "outputs": [],
   "source": []
  },
  {
   "cell_type": "markdown",
   "metadata": {},
   "source": [
    "## Exploratory Analysis and Visualization\n",
    "\n",
    "Columns we'll analyze:\n",
    "\n",
    "1. Type\n",
    "2. Start Date and Finish Date\n",
    "3. Language/Software\n",
    "4. Tags\n",
    "5. Source\n",
    "6. Author\n",
    "7. Minutes"
   ]
  },
  {
   "cell_type": "code",
   "execution_count": 9,
   "metadata": {},
   "outputs": [
    {
     "data": {
      "text/plain": [
       "Index(['Type', 'Name', 'Language/Software', 'Packages', 'Tags', 'Author',\n",
       "       'Created', 'Status', 'Score/5', 'URL', 'Source', 'Minutes',\n",
       "       'Finish Date', 'Start Date', 'Hours', 'Notes?', 'Linked Up?',\n",
       "       'Related to Coding Course Notes (Property)', 'Property'],\n",
       "      dtype='object')"
      ]
     },
     "execution_count": 9,
     "metadata": {},
     "output_type": "execute_result"
    }
   ],
   "source": [
    "df.columns"
   ]
  },
  {
   "cell_type": "code",
   "execution_count": 10,
   "metadata": {},
   "outputs": [
    {
     "data": {
      "text/html": [
       "<div>\n",
       "<style scoped>\n",
       "    .dataframe tbody tr th:only-of-type {\n",
       "        vertical-align: middle;\n",
       "    }\n",
       "\n",
       "    .dataframe tbody tr th {\n",
       "        vertical-align: top;\n",
       "    }\n",
       "\n",
       "    .dataframe thead th {\n",
       "        text-align: right;\n",
       "    }\n",
       "</style>\n",
       "<table border=\"1\" class=\"dataframe\">\n",
       "  <thead>\n",
       "    <tr style=\"text-align: right;\">\n",
       "      <th>Status</th>\n",
       "      <th>Finished</th>\n",
       "      <th>Not Started</th>\n",
       "      <th>Started</th>\n",
       "    </tr>\n",
       "    <tr>\n",
       "      <th>Type</th>\n",
       "      <th></th>\n",
       "      <th></th>\n",
       "      <th></th>\n",
       "    </tr>\n",
       "  </thead>\n",
       "  <tbody>\n",
       "    <tr>\n",
       "      <th>Article</th>\n",
       "      <td>0.102381</td>\n",
       "      <td>0.0</td>\n",
       "      <td>0.000000</td>\n",
       "    </tr>\n",
       "    <tr>\n",
       "      <th>Book</th>\n",
       "      <td>NaN</td>\n",
       "      <td>NaN</td>\n",
       "      <td>0.000000</td>\n",
       "    </tr>\n",
       "    <tr>\n",
       "      <th>Course</th>\n",
       "      <td>0.928033</td>\n",
       "      <td>NaN</td>\n",
       "      <td>3.266333</td>\n",
       "    </tr>\n",
       "    <tr>\n",
       "      <th>Podcast</th>\n",
       "      <td>0.908333</td>\n",
       "      <td>0.0</td>\n",
       "      <td>NaN</td>\n",
       "    </tr>\n",
       "    <tr>\n",
       "      <th>Tweet</th>\n",
       "      <td>0.016667</td>\n",
       "      <td>NaN</td>\n",
       "      <td>NaN</td>\n",
       "    </tr>\n",
       "    <tr>\n",
       "      <th>Video</th>\n",
       "      <td>0.470493</td>\n",
       "      <td>NaN</td>\n",
       "      <td>1.168333</td>\n",
       "    </tr>\n",
       "  </tbody>\n",
       "</table>\n",
       "</div>"
      ],
      "text/plain": [
       "Status   Finished  Not Started   Started\n",
       "Type                                    \n",
       "Article  0.102381          0.0  0.000000\n",
       "Book          NaN          NaN  0.000000\n",
       "Course   0.928033          NaN  3.266333\n",
       "Podcast  0.908333          0.0       NaN\n",
       "Tweet    0.016667          NaN       NaN\n",
       "Video    0.470493          NaN  1.168333"
      ]
     },
     "execution_count": 10,
     "metadata": {},
     "output_type": "execute_result"
    }
   ],
   "source": [
    "df.pivot_table(values='Hours', index='Type', columns='Status')"
   ]
  },
  {
   "cell_type": "code",
   "execution_count": null,
   "metadata": {},
   "outputs": [],
   "source": []
  },
  {
   "cell_type": "markdown",
   "metadata": {},
   "source": [
    "## Ask and Answer Question\n",
    "\n",
    "1. What type of resources did I consume the most? Quantity and time-wise.\n",
    "2. What days of the week did I finish most resources?\n",
    "3. Who's my favorite author?\n",
    "4. What was tagged the most?\n",
    "5. What was my total time spent on #66DaysofData?\n",
    "6. What source did I use the most?"
   ]
  },
  {
   "cell_type": "code",
   "execution_count": null,
   "metadata": {},
   "outputs": [],
   "source": []
  },
  {
   "cell_type": "code",
   "execution_count": null,
   "metadata": {},
   "outputs": [],
   "source": []
  },
  {
   "cell_type": "markdown",
   "metadata": {},
   "source": [
    "## Summary and Conclusion\n",
    "\n",
    "\n",
    "Limitations:\n",
    "- I only gave myself credit for the resources I finished.\n",
    "- There is inevitably missing data. Some videos I watched, articles I read didn't get input into the system.\n",
    "- \n",
    "- "
   ]
  },
  {
   "cell_type": "code",
   "execution_count": null,
   "metadata": {},
   "outputs": [],
   "source": []
  }
 ],
 "metadata": {
  "interpreter": {
   "hash": "273114770b6fcca3ba170578d046463ac90cd83742e2e626b93a6ccd82af4472"
  },
  "kernelspec": {
   "display_name": "Python 3.10.1 64-bit ('minimal_ds': conda)",
   "language": "python",
   "name": "python3"
  },
  "language_info": {
   "codemirror_mode": {
    "name": "ipython",
    "version": 3
   },
   "file_extension": ".py",
   "mimetype": "text/x-python",
   "name": "python",
   "nbconvert_exporter": "python",
   "pygments_lexer": "ipython3",
   "version": "3.10.1"
  },
  "orig_nbformat": 4
 },
 "nbformat": 4,
 "nbformat_minor": 2
}
