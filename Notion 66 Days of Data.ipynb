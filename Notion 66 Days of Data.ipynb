{
 "cells": [
  {
   "cell_type": "markdown",
   "metadata": {},
   "source": [
    "# Exploratory Data Analysis on #66DaysofData\n",
    "## Frank Coleman III\n",
    "### Dataset retrieved from: Notion"
   ]
  },
  {
   "cell_type": "markdown",
   "metadata": {},
   "source": [
    "## TO do list\n",
    "\n",
    "- add titles to the graphs\n",
    "- maybe change the colors"
   ]
  },
  {
   "cell_type": "markdown",
   "metadata": {},
   "source": [
    "## Data Preparation and Cleaning\n",
    "\n",
    "1. Load the file using Pandas\n",
    "2. Look at some information about the data & the columns\n",
    "3. Fix any missing or incorrect values"
   ]
  },
  {
   "cell_type": "code",
   "execution_count": 48,
   "metadata": {},
   "outputs": [],
   "source": [
    "import pandas as pd\n",
    "import numpy as np\n",
    "import matplotlib.pyplot as plt\n",
    "import seaborn as sns\n",
    "from datetime import datetime\n",
    "import plotly.express as px"
   ]
  },
  {
   "cell_type": "code",
   "execution_count": 2,
   "metadata": {},
   "outputs": [
    {
     "data": {
      "text/html": [
       "<div>\n",
       "<style scoped>\n",
       "    .dataframe tbody tr th:only-of-type {\n",
       "        vertical-align: middle;\n",
       "    }\n",
       "\n",
       "    .dataframe tbody tr th {\n",
       "        vertical-align: top;\n",
       "    }\n",
       "\n",
       "    .dataframe thead th {\n",
       "        text-align: right;\n",
       "    }\n",
       "</style>\n",
       "<table border=\"1\" class=\"dataframe\">\n",
       "  <thead>\n",
       "    <tr style=\"text-align: right;\">\n",
       "      <th></th>\n",
       "      <th>Type</th>\n",
       "      <th>Name</th>\n",
       "      <th>Language/Software</th>\n",
       "      <th>Packages</th>\n",
       "      <th>Tags</th>\n",
       "      <th>Author</th>\n",
       "      <th>Created</th>\n",
       "      <th>Status</th>\n",
       "      <th>Score/5</th>\n",
       "      <th>URL</th>\n",
       "      <th>Source</th>\n",
       "      <th>Minutes</th>\n",
       "      <th>Finish Date</th>\n",
       "      <th>Start Date</th>\n",
       "      <th>Hours</th>\n",
       "      <th>Notes?</th>\n",
       "      <th>Linked Up?</th>\n",
       "      <th>Related to Coding Course Notes (Property)</th>\n",
       "    </tr>\n",
       "  </thead>\n",
       "  <tbody>\n",
       "    <tr>\n",
       "      <th>0</th>\n",
       "      <td>Course</td>\n",
       "      <td>Cleaning Data in Python</td>\n",
       "      <td>Python</td>\n",
       "      <td>NaN</td>\n",
       "      <td>NaN</td>\n",
       "      <td>NaN</td>\n",
       "      <td>February 23, 2022 11:22 PM</td>\n",
       "      <td>Not Started</td>\n",
       "      <td>NaN</td>\n",
       "      <td>NaN</td>\n",
       "      <td>DataCamp</td>\n",
       "      <td>240.00</td>\n",
       "      <td>NaN</td>\n",
       "      <td>February 24, 2022</td>\n",
       "      <td>4.000000</td>\n",
       "      <td>No</td>\n",
       "      <td>No</td>\n",
       "      <td>NaN</td>\n",
       "    </tr>\n",
       "    <tr>\n",
       "      <th>1</th>\n",
       "      <td>Course</td>\n",
       "      <td>Intermediate Importing Data in Python</td>\n",
       "      <td>Python</td>\n",
       "      <td>BeautifulSoup, Tweepy, json, request</td>\n",
       "      <td>#66DaysofData, APIs, Importing Data, Python, R...</td>\n",
       "      <td>NaN</td>\n",
       "      <td>February 23, 2022 12:18 AM</td>\n",
       "      <td>Finished</td>\n",
       "      <td>⭐️⭐️⭐️</td>\n",
       "      <td>NaN</td>\n",
       "      <td>DataCamp</td>\n",
       "      <td>180.00</td>\n",
       "      <td>February 23, 2022</td>\n",
       "      <td>February 23, 2022</td>\n",
       "      <td>3.000000</td>\n",
       "      <td>No</td>\n",
       "      <td>No</td>\n",
       "      <td>NaN</td>\n",
       "    </tr>\n",
       "    <tr>\n",
       "      <th>2</th>\n",
       "      <td>Video</td>\n",
       "      <td>Tableau Data Analyst Certification Review - 12...</td>\n",
       "      <td>Tableau</td>\n",
       "      <td>NaN</td>\n",
       "      <td>#66DaysofData, Career, Round1, Tableau</td>\n",
       "      <td>Alex the Analyst</td>\n",
       "      <td>February 23, 2022 12:06 AM</td>\n",
       "      <td>Finished</td>\n",
       "      <td>NaN</td>\n",
       "      <td>https://www.youtube.com/watch?v=4A8LV6fObYA&amp;t=...</td>\n",
       "      <td>YouTube</td>\n",
       "      <td>12.80</td>\n",
       "      <td>February 22, 2022</td>\n",
       "      <td>February 22, 2022</td>\n",
       "      <td>0.213333</td>\n",
       "      <td>No</td>\n",
       "      <td>No</td>\n",
       "      <td>NaN</td>\n",
       "    </tr>\n",
       "    <tr>\n",
       "      <th>3</th>\n",
       "      <td>Video</td>\n",
       "      <td>How to learn Tableau in 2022: Full platform gu...</td>\n",
       "      <td>Tableau</td>\n",
       "      <td>NaN</td>\n",
       "      <td>#66DaysofData, Round1, Tableau</td>\n",
       "      <td>Tableau Tim</td>\n",
       "      <td>February 22, 2022 5:47 PM</td>\n",
       "      <td>Finished</td>\n",
       "      <td>⭐️⭐️⭐️⭐️</td>\n",
       "      <td>https://www.youtube.com/watch?v=ayc6AjOuQb0&amp;t=...</td>\n",
       "      <td>YouTube</td>\n",
       "      <td>31.65</td>\n",
       "      <td>February 22, 2022</td>\n",
       "      <td>February 17, 2022</td>\n",
       "      <td>0.527500</td>\n",
       "      <td>No</td>\n",
       "      <td>No</td>\n",
       "      <td>NaN</td>\n",
       "    </tr>\n",
       "    <tr>\n",
       "      <th>4</th>\n",
       "      <td>Article</td>\n",
       "      <td>8 Ways to Filter Pandas Dataframes | by Soner ...</td>\n",
       "      <td>Python</td>\n",
       "      <td>pandas</td>\n",
       "      <td>#66DaysofData, Data Analysis, Exploratory Data...</td>\n",
       "      <td>Towards Data Science</td>\n",
       "      <td>February 11, 2022 11:45 PM</td>\n",
       "      <td>Finished</td>\n",
       "      <td>NaN</td>\n",
       "      <td>https://towardsdatascience.com/8-ways-to-filte...</td>\n",
       "      <td>Medium</td>\n",
       "      <td>20.00</td>\n",
       "      <td>February 12, 2022</td>\n",
       "      <td>February 12, 2022</td>\n",
       "      <td>0.333333</td>\n",
       "      <td>No</td>\n",
       "      <td>No</td>\n",
       "      <td>NaN</td>\n",
       "    </tr>\n",
       "  </tbody>\n",
       "</table>\n",
       "</div>"
      ],
      "text/plain": [
       "      Type                                               Name  \\\n",
       "0   Course                            Cleaning Data in Python   \n",
       "1   Course              Intermediate Importing Data in Python   \n",
       "2    Video  Tableau Data Analyst Certification Review - 12...   \n",
       "3    Video  How to learn Tableau in 2022: Full platform gu...   \n",
       "4  Article  8 Ways to Filter Pandas Dataframes | by Soner ...   \n",
       "\n",
       "  Language/Software                              Packages  \\\n",
       "0            Python                                   NaN   \n",
       "1            Python  BeautifulSoup, Tweepy, json, request   \n",
       "2           Tableau                                   NaN   \n",
       "3           Tableau                                   NaN   \n",
       "4            Python                                pandas   \n",
       "\n",
       "                                                Tags                Author  \\\n",
       "0                                                NaN                   NaN   \n",
       "1  #66DaysofData, APIs, Importing Data, Python, R...                   NaN   \n",
       "2             #66DaysofData, Career, Round1, Tableau      Alex the Analyst   \n",
       "3                     #66DaysofData, Round1, Tableau           Tableau Tim   \n",
       "4  #66DaysofData, Data Analysis, Exploratory Data...  Towards Data Science   \n",
       "\n",
       "                      Created       Status   Score/5  \\\n",
       "0  February 23, 2022 11:22 PM  Not Started       NaN   \n",
       "1  February 23, 2022 12:18 AM     Finished    ⭐️⭐️⭐️   \n",
       "2  February 23, 2022 12:06 AM     Finished       NaN   \n",
       "3   February 22, 2022 5:47 PM     Finished  ⭐️⭐️⭐️⭐️   \n",
       "4  February 11, 2022 11:45 PM     Finished       NaN   \n",
       "\n",
       "                                                 URL    Source  Minutes  \\\n",
       "0                                                NaN  DataCamp   240.00   \n",
       "1                                                NaN  DataCamp   180.00   \n",
       "2  https://www.youtube.com/watch?v=4A8LV6fObYA&t=...   YouTube    12.80   \n",
       "3  https://www.youtube.com/watch?v=ayc6AjOuQb0&t=...   YouTube    31.65   \n",
       "4  https://towardsdatascience.com/8-ways-to-filte...    Medium    20.00   \n",
       "\n",
       "         Finish Date         Start Date     Hours Notes? Linked Up?  \\\n",
       "0                NaN  February 24, 2022  4.000000     No         No   \n",
       "1  February 23, 2022  February 23, 2022  3.000000     No         No   \n",
       "2  February 22, 2022  February 22, 2022  0.213333     No         No   \n",
       "3  February 22, 2022  February 17, 2022  0.527500     No         No   \n",
       "4  February 12, 2022  February 12, 2022  0.333333     No         No   \n",
       "\n",
       "   Related to Coding Course Notes (Property)  \n",
       "0                                        NaN  \n",
       "1                                        NaN  \n",
       "2                                        NaN  \n",
       "3                                        NaN  \n",
       "4                                        NaN  "
      ]
     },
     "execution_count": 2,
     "metadata": {},
     "output_type": "execute_result"
    }
   ],
   "source": [
    "df = pd.read_csv(\"notion_data.csv\")\n",
    "df.head(5)\n"
   ]
  },
  {
   "cell_type": "code",
   "execution_count": 3,
   "metadata": {},
   "outputs": [
    {
     "name": "stdout",
     "output_type": "stream",
     "text": [
      "<class 'pandas.core.frame.DataFrame'>\n",
      "RangeIndex: 151 entries, 0 to 150\n",
      "Data columns (total 18 columns):\n",
      " #   Column                                     Non-Null Count  Dtype  \n",
      "---  ------                                     --------------  -----  \n",
      " 0   Type                                       106 non-null    object \n",
      " 1   Name                                       150 non-null    object \n",
      " 2   Language/Software                          29 non-null     object \n",
      " 3   Packages                                   13 non-null     object \n",
      " 4   Tags                                       106 non-null    object \n",
      " 5   Author                                     49 non-null     object \n",
      " 6   Created                                    151 non-null    object \n",
      " 7   Status                                     87 non-null     object \n",
      " 8   Score/5                                    27 non-null     object \n",
      " 9   URL                                        143 non-null    object \n",
      " 10  Source                                     53 non-null     object \n",
      " 11  Minutes                                    68 non-null     float64\n",
      " 12  Finish Date                                59 non-null     object \n",
      " 13  Start Date                                 67 non-null     object \n",
      " 14  Hours                                      151 non-null    float64\n",
      " 15  Notes?                                     151 non-null    object \n",
      " 16  Linked Up?                                 151 non-null    object \n",
      " 17  Related to Coding Course Notes (Property)  0 non-null      float64\n",
      "dtypes: float64(3), object(15)\n",
      "memory usage: 21.4+ KB\n"
     ]
    }
   ],
   "source": [
    "df.info()"
   ]
  },
  {
   "cell_type": "code",
   "execution_count": 4,
   "metadata": {},
   "outputs": [
    {
     "data": {
      "text/plain": [
       "3"
      ]
     },
     "execution_count": 4,
     "metadata": {},
     "output_type": "execute_result"
    }
   ],
   "source": [
    "numerics = ['int16', 'int32', 'int64', 'float16', 'float32', 'float64']\n",
    "\n",
    "numeric_df = df.select_dtypes(include=numerics)\n",
    "len(numeric_df.columns)\n"
   ]
  },
  {
   "cell_type": "code",
   "execution_count": 5,
   "metadata": {},
   "outputs": [
    {
     "data": {
      "text/plain": [
       "Related to Coding Course Notes (Property)    1.000000\n",
       "Packages                                     0.913907\n",
       "Score/5                                      0.821192\n",
       "Language/Software                            0.807947\n",
       "Author                                       0.675497\n",
       "Source                                       0.649007\n",
       "Finish Date                                  0.609272\n",
       "Start Date                                   0.556291\n",
       "Minutes                                      0.549669\n",
       "Status                                       0.423841\n",
       "Type                                         0.298013\n",
       "Tags                                         0.298013\n",
       "URL                                          0.052980\n",
       "Name                                         0.006623\n",
       "Created                                      0.000000\n",
       "Hours                                        0.000000\n",
       "Notes?                                       0.000000\n",
       "Linked Up?                                   0.000000\n",
       "dtype: float64"
      ]
     },
     "execution_count": 5,
     "metadata": {},
     "output_type": "execute_result"
    }
   ],
   "source": [
    "missing_percentages = df.isna().sum().sort_values(ascending=False) / len(df)\n",
    "missing_percentages"
   ]
  },
  {
   "cell_type": "code",
   "execution_count": 6,
   "metadata": {},
   "outputs": [
    {
     "data": {
      "text/plain": [
       "<AxesSubplot:>"
      ]
     },
     "execution_count": 6,
     "metadata": {},
     "output_type": "execute_result"
    },
    {
     "data": {
      "image/png": "[encoded data removed]",
      "text/plain": [
       "<Figure size 432x288 with 1 Axes>"
      ]
     },
     "metadata": {
      "needs_background": "light"
     },
     "output_type": "display_data"
    }
   ],
   "source": [
    "missing_percentages.plot(kind='barh')\n"
   ]
  },
  {
   "cell_type": "markdown",
   "metadata": {},
   "source": [
    "### Changing Data Types"
   ]
  },
  {
   "cell_type": "code",
   "execution_count": 7,
   "metadata": {},
   "outputs": [
    {
     "name": "stdout",
     "output_type": "stream",
     "text": [
      "<class 'pandas.core.frame.DataFrame'>\n",
      "RangeIndex: 151 entries, 0 to 150\n",
      "Data columns (total 18 columns):\n",
      " #   Column                                     Non-Null Count  Dtype  \n",
      "---  ------                                     --------------  -----  \n",
      " 0   Type                                       106 non-null    object \n",
      " 1   Name                                       150 non-null    object \n",
      " 2   Language/Software                          29 non-null     object \n",
      " 3   Packages                                   13 non-null     object \n",
      " 4   Tags                                       106 non-null    object \n",
      " 5   Author                                     49 non-null     object \n",
      " 6   Created                                    151 non-null    object \n",
      " 7   Status                                     87 non-null     object \n",
      " 8   Score/5                                    27 non-null     object \n",
      " 9   URL                                        143 non-null    object \n",
      " 10  Source                                     53 non-null     object \n",
      " 11  Minutes                                    68 non-null     float64\n",
      " 12  Finish Date                                59 non-null     object \n",
      " 13  Start Date                                 67 non-null     object \n",
      " 14  Hours                                      151 non-null    float64\n",
      " 15  Notes?                                     151 non-null    object \n",
      " 16  Linked Up?                                 151 non-null    object \n",
      " 17  Related to Coding Course Notes (Property)  0 non-null      float64\n",
      "dtypes: float64(3), object(15)\n",
      "memory usage: 21.4+ KB\n"
     ]
    }
   ],
   "source": [
    "df.info()"
   ]
  },
  {
   "cell_type": "code",
   "execution_count": 8,
   "metadata": {},
   "outputs": [
    {
     "data": {
      "text/plain": [
       "0      4.000000\n",
       "1      3.000000\n",
       "2      0.213333\n",
       "3      0.527500\n",
       "4      0.333333\n",
       "         ...   \n",
       "146    0.466667\n",
       "147    0.258500\n",
       "148    0.125000\n",
       "149    0.000000\n",
       "150    0.933333\n",
       "Name: Hours, Length: 151, dtype: float64"
      ]
     },
     "execution_count": 8,
     "metadata": {},
     "output_type": "execute_result"
    }
   ],
   "source": [
    "#Minutes, Hours should be float\n",
    "pd.to_numeric(df[\"Minutes\"], errors='coerce').fillna(0)\n",
    "pd.to_numeric(df[\"Hours\"], errors='coerce').fillna(0)"
   ]
  },
  {
   "cell_type": "code",
   "execution_count": 9,
   "metadata": {},
   "outputs": [],
   "source": [
    "#Created, Finish Date, Start Date should be datetime\n",
    "df['Created'] = pd.to_datetime(df[\"Created\"], errors='raise', format=\"%B %d, %Y %I:%M %p\")\n",
    "df['Finish Date'] = pd.to_datetime(df[\"Finish Date\"], errors='raise', format=\"%B %d, %Y\")\n",
    "df['Start Date'] = pd.to_datetime(df[\"Start Date\"], errors='raise', format=\"%B %d, %Y\")\n"
   ]
  },
  {
   "cell_type": "code",
   "execution_count": 10,
   "metadata": {},
   "outputs": [
    {
     "name": "stdout",
     "output_type": "stream",
     "text": [
      "<class 'pandas.core.frame.DataFrame'>\n",
      "RangeIndex: 151 entries, 0 to 150\n",
      "Data columns (total 18 columns):\n",
      " #   Column                                     Non-Null Count  Dtype         \n",
      "---  ------                                     --------------  -----         \n",
      " 0   Type                                       106 non-null    object        \n",
      " 1   Name                                       150 non-null    object        \n",
      " 2   Language/Software                          29 non-null     object        \n",
      " 3   Packages                                   13 non-null     object        \n",
      " 4   Tags                                       106 non-null    object        \n",
      " 5   Author                                     49 non-null     object        \n",
      " 6   Created                                    151 non-null    datetime64[ns]\n",
      " 7   Status                                     87 non-null     object        \n",
      " 8   Score/5                                    27 non-null     object        \n",
      " 9   URL                                        143 non-null    object        \n",
      " 10  Source                                     53 non-null     object        \n",
      " 11  Minutes                                    68 non-null     float64       \n",
      " 12  Finish Date                                59 non-null     datetime64[ns]\n",
      " 13  Start Date                                 67 non-null     datetime64[ns]\n",
      " 14  Hours                                      151 non-null    float64       \n",
      " 15  Notes?                                     151 non-null    object        \n",
      " 16  Linked Up?                                 151 non-null    object        \n",
      " 17  Related to Coding Course Notes (Property)  0 non-null      float64       \n",
      "dtypes: datetime64[ns](3), float64(3), object(12)\n",
      "memory usage: 21.4+ KB\n"
     ]
    }
   ],
   "source": [
    "df.info()"
   ]
  },
  {
   "cell_type": "code",
   "execution_count": 225,
   "metadata": {},
   "outputs": [
    {
     "data": {
      "text/html": [
       "<div>\n",
       "<style scoped>\n",
       "    .dataframe tbody tr th:only-of-type {\n",
       "        vertical-align: middle;\n",
       "    }\n",
       "\n",
       "    .dataframe tbody tr th {\n",
       "        vertical-align: top;\n",
       "    }\n",
       "\n",
       "    .dataframe thead th {\n",
       "        text-align: right;\n",
       "    }\n",
       "</style>\n",
       "<table border=\"1\" class=\"dataframe\">\n",
       "  <thead>\n",
       "    <tr style=\"text-align: right;\">\n",
       "      <th></th>\n",
       "      <th>Type</th>\n",
       "      <th>Name</th>\n",
       "      <th>Language/Software</th>\n",
       "      <th>Packages</th>\n",
       "      <th>Tags</th>\n",
       "      <th>Author</th>\n",
       "      <th>Created</th>\n",
       "      <th>Status</th>\n",
       "      <th>Source</th>\n",
       "      <th>Minutes</th>\n",
       "      <th>Finish_Date</th>\n",
       "      <th>Start_Date</th>\n",
       "      <th>Hours</th>\n",
       "      <th>finish_day</th>\n",
       "    </tr>\n",
       "  </thead>\n",
       "  <tbody>\n",
       "    <tr>\n",
       "      <th>65</th>\n",
       "      <td>Article</td>\n",
       "      <td>Shanice’s Synopsis of “What Is Data Analytics?...</td>\n",
       "      <td>NaN</td>\n",
       "      <td>NaN</td>\n",
       "      <td>#66DaysofData, Data Analysis, Round1</td>\n",
       "      <td>Shanice x Tech</td>\n",
       "      <td>2021-12-28 16:56:00</td>\n",
       "      <td>Finished</td>\n",
       "      <td>Medium</td>\n",
       "      <td>5.0</td>\n",
       "      <td>2021-12-28</td>\n",
       "      <td>2021-12-28</td>\n",
       "      <td>0.083333</td>\n",
       "      <td>Tuesday</td>\n",
       "    </tr>\n",
       "    <tr>\n",
       "      <th>67</th>\n",
       "      <td>Video</td>\n",
       "      <td>Exploratory Data Analysis (comment your best i...</td>\n",
       "      <td>Python</td>\n",
       "      <td>pandas</td>\n",
       "      <td>#66DaysofData, Exploratory Data Analysis, Pyth...</td>\n",
       "      <td>Shashank Kalanithi</td>\n",
       "      <td>2021-12-28 16:05:00</td>\n",
       "      <td>Finished</td>\n",
       "      <td>YouTube</td>\n",
       "      <td>58.9</td>\n",
       "      <td>2021-12-20</td>\n",
       "      <td>2021-12-20</td>\n",
       "      <td>0.981667</td>\n",
       "      <td>Monday</td>\n",
       "    </tr>\n",
       "    <tr>\n",
       "      <th>69</th>\n",
       "      <td>Podcast</td>\n",
       "      <td>‎DataFramed: #69 Effective Data Storytelling: ...</td>\n",
       "      <td>NaN</td>\n",
       "      <td>NaN</td>\n",
       "      <td>#66DaysofData, Data Storytelling, Round1</td>\n",
       "      <td>NaN</td>\n",
       "      <td>2021-12-28 15:13:00</td>\n",
       "      <td>Finished</td>\n",
       "      <td>NaN</td>\n",
       "      <td>52.0</td>\n",
       "      <td>NaT</td>\n",
       "      <td>NaT</td>\n",
       "      <td>0.866667</td>\n",
       "      <td>NaN</td>\n",
       "    </tr>\n",
       "    <tr>\n",
       "      <th>70</th>\n",
       "      <td>Course</td>\n",
       "      <td>Intro to Data Visualization in Matplotlib</td>\n",
       "      <td>Python</td>\n",
       "      <td>matplotlib</td>\n",
       "      <td>#66DaysofData, Data Analysis, Data Science, Da...</td>\n",
       "      <td>NaN</td>\n",
       "      <td>2021-12-28 12:42:00</td>\n",
       "      <td>Finished</td>\n",
       "      <td>DataCamp</td>\n",
       "      <td>240.0</td>\n",
       "      <td>2022-01-12</td>\n",
       "      <td>2021-12-28</td>\n",
       "      <td>4.000000</td>\n",
       "      <td>Wednesday</td>\n",
       "    </tr>\n",
       "    <tr>\n",
       "      <th>71</th>\n",
       "      <td>Course</td>\n",
       "      <td>Joining Data with pandas</td>\n",
       "      <td>Python</td>\n",
       "      <td>pandas</td>\n",
       "      <td>#66DaysofData, Pandas, Python, Round1</td>\n",
       "      <td>NaN</td>\n",
       "      <td>2021-12-22 20:55:00</td>\n",
       "      <td>Finished</td>\n",
       "      <td>DataCamp</td>\n",
       "      <td>240.0</td>\n",
       "      <td>2021-12-28</td>\n",
       "      <td>2021-12-17</td>\n",
       "      <td>4.000000</td>\n",
       "      <td>Tuesday</td>\n",
       "    </tr>\n",
       "  </tbody>\n",
       "</table>\n",
       "</div>"
      ],
      "text/plain": [
       "       Type                                               Name  \\\n",
       "65  Article  Shanice’s Synopsis of “What Is Data Analytics?...   \n",
       "67    Video  Exploratory Data Analysis (comment your best i...   \n",
       "69  Podcast  ‎DataFramed: #69 Effective Data Storytelling: ...   \n",
       "70   Course          Intro to Data Visualization in Matplotlib   \n",
       "71   Course                           Joining Data with pandas   \n",
       "\n",
       "   Language/Software    Packages  \\\n",
       "65               NaN         NaN   \n",
       "67            Python      pandas   \n",
       "69               NaN         NaN   \n",
       "70            Python  matplotlib   \n",
       "71            Python      pandas   \n",
       "\n",
       "                                                 Tags              Author  \\\n",
       "65               #66DaysofData, Data Analysis, Round1      Shanice x Tech   \n",
       "67  #66DaysofData, Exploratory Data Analysis, Pyth...  Shashank Kalanithi   \n",
       "69           #66DaysofData, Data Storytelling, Round1                 NaN   \n",
       "70  #66DaysofData, Data Analysis, Data Science, Da...                 NaN   \n",
       "71              #66DaysofData, Pandas, Python, Round1                 NaN   \n",
       "\n",
       "               Created    Status    Source  Minutes Finish_Date Start_Date  \\\n",
       "65 2021-12-28 16:56:00  Finished    Medium      5.0  2021-12-28 2021-12-28   \n",
       "67 2021-12-28 16:05:00  Finished   YouTube     58.9  2021-12-20 2021-12-20   \n",
       "69 2021-12-28 15:13:00  Finished       NaN     52.0         NaT        NaT   \n",
       "70 2021-12-28 12:42:00  Finished  DataCamp    240.0  2022-01-12 2021-12-28   \n",
       "71 2021-12-22 20:55:00  Finished  DataCamp    240.0  2021-12-28 2021-12-17   \n",
       "\n",
       "       Hours finish_day  \n",
       "65  0.083333    Tuesday  \n",
       "67  0.981667     Monday  \n",
       "69  0.866667        NaN  \n",
       "70  4.000000  Wednesday  \n",
       "71  4.000000    Tuesday  "
      ]
     },
     "execution_count": 225,
     "metadata": {},
     "output_type": "execute_result"
    }
   ],
   "source": [
    "df.tail(5)"
   ]
  },
  {
   "cell_type": "markdown",
   "metadata": {},
   "source": [
    "### Dropping Unnecessary Columns"
   ]
  },
  {
   "cell_type": "code",
   "execution_count": 13,
   "metadata": {},
   "outputs": [
    {
     "name": "stdout",
     "output_type": "stream",
     "text": [
      "<class 'pandas.core.frame.DataFrame'>\n",
      "RangeIndex: 151 entries, 0 to 150\n",
      "Data columns (total 18 columns):\n",
      " #   Column                                     Non-Null Count  Dtype         \n",
      "---  ------                                     --------------  -----         \n",
      " 0   Type                                       106 non-null    object        \n",
      " 1   Name                                       150 non-null    object        \n",
      " 2   Language/Software                          29 non-null     object        \n",
      " 3   Packages                                   13 non-null     object        \n",
      " 4   Tags                                       106 non-null    object        \n",
      " 5   Author                                     49 non-null     object        \n",
      " 6   Created                                    151 non-null    datetime64[ns]\n",
      " 7   Status                                     87 non-null     object        \n",
      " 8   Score/5                                    27 non-null     object        \n",
      " 9   URL                                        143 non-null    object        \n",
      " 10  Source                                     53 non-null     object        \n",
      " 11  Minutes                                    68 non-null     float64       \n",
      " 12  Finish Date                                59 non-null     datetime64[ns]\n",
      " 13  Start Date                                 67 non-null     datetime64[ns]\n",
      " 14  Hours                                      151 non-null    float64       \n",
      " 15  Notes?                                     151 non-null    object        \n",
      " 16  Linked Up?                                 151 non-null    object        \n",
      " 17  Related to Coding Course Notes (Property)  0 non-null      float64       \n",
      "dtypes: datetime64[ns](3), float64(3), object(12)\n",
      "memory usage: 21.4+ KB\n"
     ]
    }
   ],
   "source": [
    "df.info()"
   ]
  },
  {
   "cell_type": "code",
   "execution_count": 14,
   "metadata": {},
   "outputs": [],
   "source": [
    "df = df.drop([\"Related to Coding Course Notes (Property)\", \"Linked Up?\", \"Notes?\", \"Score/5\", \"URL\"], axis=1)\n"
   ]
  },
  {
   "cell_type": "code",
   "execution_count": 15,
   "metadata": {},
   "outputs": [
    {
     "name": "stdout",
     "output_type": "stream",
     "text": [
      "<class 'pandas.core.frame.DataFrame'>\n",
      "RangeIndex: 151 entries, 0 to 150\n",
      "Data columns (total 13 columns):\n",
      " #   Column             Non-Null Count  Dtype         \n",
      "---  ------             --------------  -----         \n",
      " 0   Type               106 non-null    object        \n",
      " 1   Name               150 non-null    object        \n",
      " 2   Language/Software  29 non-null     object        \n",
      " 3   Packages           13 non-null     object        \n",
      " 4   Tags               106 non-null    object        \n",
      " 5   Author             49 non-null     object        \n",
      " 6   Created            151 non-null    datetime64[ns]\n",
      " 7   Status             87 non-null     object        \n",
      " 8   Source             53 non-null     object        \n",
      " 9   Minutes            68 non-null     float64       \n",
      " 10  Finish Date        59 non-null     datetime64[ns]\n",
      " 11  Start Date         67 non-null     datetime64[ns]\n",
      " 12  Hours              151 non-null    float64       \n",
      "dtypes: datetime64[ns](3), float64(2), object(8)\n",
      "memory usage: 15.5+ KB\n"
     ]
    }
   ],
   "source": [
    "df.info()"
   ]
  },
  {
   "cell_type": "markdown",
   "metadata": {},
   "source": [
    "# Adding a Column"
   ]
  },
  {
   "cell_type": "code",
   "execution_count": 258,
   "metadata": {},
   "outputs": [],
   "source": [
    "#creating a new column that contains the days of the week that the content was completed\n",
    "df['finish_day'] = df['Finish_Date'].dt.day_name()\n"
   ]
  },
  {
   "cell_type": "markdown",
   "metadata": {},
   "source": [
    "# Renaming Columns"
   ]
  },
  {
   "cell_type": "code",
   "execution_count": 226,
   "metadata": {},
   "outputs": [],
   "source": [
    "#Renaming columns to remove spaces\n",
    "df.rename(columns = {'Finish Date': 'Finish_Date', 'Start Date': 'Start_Date'}, inplace = True)\n"
   ]
  },
  {
   "cell_type": "code",
   "execution_count": 17,
   "metadata": {},
   "outputs": [
    {
     "data": {
      "text/plain": [
       "Index(['Type', 'Name', 'Language/Software', 'Packages', 'Tags', 'Author',\n",
       "       'Created', 'Status', 'Source', 'Minutes', 'Finish_Date', 'Start_Date',\n",
       "       'Hours'],\n",
       "      dtype='object')"
      ]
     },
     "execution_count": 17,
     "metadata": {},
     "output_type": "execute_result"
    }
   ],
   "source": [
    "df.columns"
   ]
  },
  {
   "cell_type": "code",
   "execution_count": 18,
   "metadata": {},
   "outputs": [
    {
     "data": {
      "text/plain": [
       "2"
      ]
     },
     "execution_count": 18,
     "metadata": {},
     "output_type": "execute_result"
    }
   ],
   "source": [
    "numerics = ['int16', 'int32', 'int64', 'float16', 'float32', 'float64']\n",
    "\n",
    "numeric_df = df.select_dtypes(include=numerics)\n",
    "len(numeric_df.columns)\n"
   ]
  },
  {
   "cell_type": "code",
   "execution_count": 19,
   "metadata": {},
   "outputs": [
    {
     "data": {
      "text/plain": [
       "Packages             0.913907\n",
       "Language/Software    0.807947\n",
       "Author               0.675497\n",
       "Source               0.649007\n",
       "Finish_Date          0.609272\n",
       "Start_Date           0.556291\n",
       "Minutes              0.549669\n",
       "Status               0.423841\n",
       "Type                 0.298013\n",
       "Tags                 0.298013\n",
       "Name                 0.006623\n",
       "Created              0.000000\n",
       "Hours                0.000000\n",
       "dtype: float64"
      ]
     },
     "execution_count": 19,
     "metadata": {},
     "output_type": "execute_result"
    }
   ],
   "source": [
    "missing_percentages = df.isna().sum().sort_values(ascending=False) / len(df)\n",
    "missing_percentages"
   ]
  },
  {
   "cell_type": "code",
   "execution_count": 20,
   "metadata": {},
   "outputs": [
    {
     "data": {
      "text/plain": [
       "<AxesSubplot:>"
      ]
     },
     "execution_count": 20,
     "metadata": {},
     "output_type": "execute_result"
    },
    {
     "data": {
      "image/png": "[encoded data removed]",
      "text/plain": [
       "<Figure size 432x288 with 1 Axes>"
      ]
     },
     "metadata": {
      "needs_background": "light"
     },
     "output_type": "display_data"
    }
   ],
   "source": [
    "missing_percentages.plot(kind='barh')\n"
   ]
  },
  {
   "cell_type": "code",
   "execution_count": 21,
   "metadata": {},
   "outputs": [
    {
     "data": {
      "text/html": [
       "<div>\n",
       "<style scoped>\n",
       "    .dataframe tbody tr th:only-of-type {\n",
       "        vertical-align: middle;\n",
       "    }\n",
       "\n",
       "    .dataframe tbody tr th {\n",
       "        vertical-align: top;\n",
       "    }\n",
       "\n",
       "    .dataframe thead th {\n",
       "        text-align: right;\n",
       "    }\n",
       "</style>\n",
       "<table border=\"1\" class=\"dataframe\">\n",
       "  <thead>\n",
       "    <tr style=\"text-align: right;\">\n",
       "      <th></th>\n",
       "      <th>Minutes</th>\n",
       "      <th>Hours</th>\n",
       "    </tr>\n",
       "  </thead>\n",
       "  <tbody>\n",
       "    <tr>\n",
       "      <th>count</th>\n",
       "      <td>68.000000</td>\n",
       "      <td>151.000000</td>\n",
       "    </tr>\n",
       "    <tr>\n",
       "      <th>mean</th>\n",
       "      <td>60.645147</td>\n",
       "      <td>0.455173</td>\n",
       "    </tr>\n",
       "    <tr>\n",
       "      <th>std</th>\n",
       "      <td>110.872873</td>\n",
       "      <td>1.334087</td>\n",
       "    </tr>\n",
       "    <tr>\n",
       "      <th>min</th>\n",
       "      <td>1.000000</td>\n",
       "      <td>0.000000</td>\n",
       "    </tr>\n",
       "    <tr>\n",
       "      <th>25%</th>\n",
       "      <td>9.832500</td>\n",
       "      <td>0.000000</td>\n",
       "    </tr>\n",
       "    <tr>\n",
       "      <th>50%</th>\n",
       "      <td>18.750000</td>\n",
       "      <td>0.000000</td>\n",
       "    </tr>\n",
       "    <tr>\n",
       "      <th>75%</th>\n",
       "      <td>56.250000</td>\n",
       "      <td>0.262583</td>\n",
       "    </tr>\n",
       "    <tr>\n",
       "      <th>max</th>\n",
       "      <td>739.900000</td>\n",
       "      <td>12.331667</td>\n",
       "    </tr>\n",
       "  </tbody>\n",
       "</table>\n",
       "</div>"
      ],
      "text/plain": [
       "          Minutes       Hours\n",
       "count   68.000000  151.000000\n",
       "mean    60.645147    0.455173\n",
       "std    110.872873    1.334087\n",
       "min      1.000000    0.000000\n",
       "25%      9.832500    0.000000\n",
       "50%     18.750000    0.000000\n",
       "75%     56.250000    0.262583\n",
       "max    739.900000   12.331667"
      ]
     },
     "execution_count": 21,
     "metadata": {},
     "output_type": "execute_result"
    }
   ],
   "source": [
    "df.describe()"
   ]
  },
  {
   "cell_type": "code",
   "execution_count": 22,
   "metadata": {},
   "outputs": [
    {
     "data": {
      "text/html": [
       "<div>\n",
       "<style scoped>\n",
       "    .dataframe tbody tr th:only-of-type {\n",
       "        vertical-align: middle;\n",
       "    }\n",
       "\n",
       "    .dataframe tbody tr th {\n",
       "        vertical-align: top;\n",
       "    }\n",
       "\n",
       "    .dataframe thead th {\n",
       "        text-align: right;\n",
       "    }\n",
       "</style>\n",
       "<table border=\"1\" class=\"dataframe\">\n",
       "  <thead>\n",
       "    <tr style=\"text-align: right;\">\n",
       "      <th></th>\n",
       "      <th>Type</th>\n",
       "      <th>Name</th>\n",
       "      <th>Language/Software</th>\n",
       "      <th>Packages</th>\n",
       "      <th>Tags</th>\n",
       "      <th>Author</th>\n",
       "      <th>Created</th>\n",
       "      <th>Status</th>\n",
       "      <th>Source</th>\n",
       "      <th>Minutes</th>\n",
       "      <th>Finish_Date</th>\n",
       "      <th>Start_Date</th>\n",
       "      <th>Hours</th>\n",
       "    </tr>\n",
       "  </thead>\n",
       "  <tbody>\n",
       "    <tr>\n",
       "      <th>0</th>\n",
       "      <td>Course</td>\n",
       "      <td>Cleaning Data in Python</td>\n",
       "      <td>Python</td>\n",
       "      <td>NaN</td>\n",
       "      <td>NaN</td>\n",
       "      <td>NaN</td>\n",
       "      <td>2022-02-23 23:22:00</td>\n",
       "      <td>Not Started</td>\n",
       "      <td>DataCamp</td>\n",
       "      <td>240.0</td>\n",
       "      <td>NaT</td>\n",
       "      <td>2022-02-24</td>\n",
       "      <td>4.000000</td>\n",
       "    </tr>\n",
       "    <tr>\n",
       "      <th>1</th>\n",
       "      <td>Course</td>\n",
       "      <td>Intermediate Importing Data in Python</td>\n",
       "      <td>Python</td>\n",
       "      <td>BeautifulSoup, Tweepy, json, request</td>\n",
       "      <td>#66DaysofData, APIs, Importing Data, Python, R...</td>\n",
       "      <td>NaN</td>\n",
       "      <td>2022-02-23 00:18:00</td>\n",
       "      <td>Finished</td>\n",
       "      <td>DataCamp</td>\n",
       "      <td>180.0</td>\n",
       "      <td>2022-02-23</td>\n",
       "      <td>2022-02-23</td>\n",
       "      <td>3.000000</td>\n",
       "    </tr>\n",
       "    <tr>\n",
       "      <th>2</th>\n",
       "      <td>Video</td>\n",
       "      <td>Tableau Data Analyst Certification Review - 12...</td>\n",
       "      <td>Tableau</td>\n",
       "      <td>NaN</td>\n",
       "      <td>#66DaysofData, Career, Round1, Tableau</td>\n",
       "      <td>Alex the Analyst</td>\n",
       "      <td>2022-02-23 00:06:00</td>\n",
       "      <td>Finished</td>\n",
       "      <td>YouTube</td>\n",
       "      <td>12.8</td>\n",
       "      <td>2022-02-22</td>\n",
       "      <td>2022-02-22</td>\n",
       "      <td>0.213333</td>\n",
       "    </tr>\n",
       "  </tbody>\n",
       "</table>\n",
       "</div>"
      ],
      "text/plain": [
       "     Type                                               Name  \\\n",
       "0  Course                            Cleaning Data in Python   \n",
       "1  Course              Intermediate Importing Data in Python   \n",
       "2   Video  Tableau Data Analyst Certification Review - 12...   \n",
       "\n",
       "  Language/Software                              Packages  \\\n",
       "0            Python                                   NaN   \n",
       "1            Python  BeautifulSoup, Tweepy, json, request   \n",
       "2           Tableau                                   NaN   \n",
       "\n",
       "                                                Tags            Author  \\\n",
       "0                                                NaN               NaN   \n",
       "1  #66DaysofData, APIs, Importing Data, Python, R...               NaN   \n",
       "2             #66DaysofData, Career, Round1, Tableau  Alex the Analyst   \n",
       "\n",
       "              Created       Status    Source  Minutes Finish_Date Start_Date  \\\n",
       "0 2022-02-23 23:22:00  Not Started  DataCamp    240.0         NaT 2022-02-24   \n",
       "1 2022-02-23 00:18:00     Finished  DataCamp    180.0  2022-02-23 2022-02-23   \n",
       "2 2022-02-23 00:06:00     Finished   YouTube     12.8  2022-02-22 2022-02-22   \n",
       "\n",
       "      Hours  \n",
       "0  4.000000  \n",
       "1  3.000000  \n",
       "2  0.213333  "
      ]
     },
     "execution_count": 22,
     "metadata": {},
     "output_type": "execute_result"
    }
   ],
   "source": [
    "df.head(3)"
   ]
  },
  {
   "cell_type": "markdown",
   "metadata": {},
   "source": [
    "## Filter the df for status = finished and tag containing 66daysofdata"
   ]
  },
  {
   "cell_type": "code",
   "execution_count": 126,
   "metadata": {},
   "outputs": [
    {
     "data": {
      "text/html": [
       "<div>\n",
       "<style scoped>\n",
       "    .dataframe tbody tr th:only-of-type {\n",
       "        vertical-align: middle;\n",
       "    }\n",
       "\n",
       "    .dataframe tbody tr th {\n",
       "        vertical-align: top;\n",
       "    }\n",
       "\n",
       "    .dataframe thead th {\n",
       "        text-align: right;\n",
       "    }\n",
       "</style>\n",
       "<table border=\"1\" class=\"dataframe\">\n",
       "  <thead>\n",
       "    <tr style=\"text-align: right;\">\n",
       "      <th></th>\n",
       "      <th>Type</th>\n",
       "      <th>Name</th>\n",
       "      <th>Language/Software</th>\n",
       "      <th>Packages</th>\n",
       "      <th>Tags</th>\n",
       "      <th>Author</th>\n",
       "      <th>Created</th>\n",
       "      <th>Status</th>\n",
       "      <th>Source</th>\n",
       "      <th>Minutes</th>\n",
       "      <th>Finish_Date</th>\n",
       "      <th>Start_Date</th>\n",
       "      <th>Hours</th>\n",
       "    </tr>\n",
       "  </thead>\n",
       "  <tbody>\n",
       "    <tr>\n",
       "      <th>1</th>\n",
       "      <td>Course</td>\n",
       "      <td>Intermediate Importing Data in Python</td>\n",
       "      <td>Python</td>\n",
       "      <td>BeautifulSoup, Tweepy, json, request</td>\n",
       "      <td>#66DaysofData, APIs, Importing Data, Python, R...</td>\n",
       "      <td>NaN</td>\n",
       "      <td>2022-02-23 00:18:00</td>\n",
       "      <td>Finished</td>\n",
       "      <td>DataCamp</td>\n",
       "      <td>180.00</td>\n",
       "      <td>2022-02-23</td>\n",
       "      <td>2022-02-23</td>\n",
       "      <td>3.000000</td>\n",
       "    </tr>\n",
       "    <tr>\n",
       "      <th>2</th>\n",
       "      <td>Video</td>\n",
       "      <td>Tableau Data Analyst Certification Review - 12...</td>\n",
       "      <td>Tableau</td>\n",
       "      <td>NaN</td>\n",
       "      <td>#66DaysofData, Career, Round1, Tableau</td>\n",
       "      <td>Alex the Analyst</td>\n",
       "      <td>2022-02-23 00:06:00</td>\n",
       "      <td>Finished</td>\n",
       "      <td>YouTube</td>\n",
       "      <td>12.80</td>\n",
       "      <td>2022-02-22</td>\n",
       "      <td>2022-02-22</td>\n",
       "      <td>0.213333</td>\n",
       "    </tr>\n",
       "    <tr>\n",
       "      <th>3</th>\n",
       "      <td>Video</td>\n",
       "      <td>How to learn Tableau in 2022: Full platform gu...</td>\n",
       "      <td>Tableau</td>\n",
       "      <td>NaN</td>\n",
       "      <td>#66DaysofData, Round1, Tableau</td>\n",
       "      <td>Tableau Tim</td>\n",
       "      <td>2022-02-22 17:47:00</td>\n",
       "      <td>Finished</td>\n",
       "      <td>YouTube</td>\n",
       "      <td>31.65</td>\n",
       "      <td>2022-02-22</td>\n",
       "      <td>2022-02-17</td>\n",
       "      <td>0.527500</td>\n",
       "    </tr>\n",
       "    <tr>\n",
       "      <th>4</th>\n",
       "      <td>Article</td>\n",
       "      <td>8 Ways to Filter Pandas Dataframes | by Soner ...</td>\n",
       "      <td>Python</td>\n",
       "      <td>pandas</td>\n",
       "      <td>#66DaysofData, Data Analysis, Exploratory Data...</td>\n",
       "      <td>Towards Data Science</td>\n",
       "      <td>2022-02-11 23:45:00</td>\n",
       "      <td>Finished</td>\n",
       "      <td>Medium</td>\n",
       "      <td>20.00</td>\n",
       "      <td>2022-02-12</td>\n",
       "      <td>2022-02-12</td>\n",
       "      <td>0.333333</td>\n",
       "    </tr>\n",
       "    <tr>\n",
       "      <th>5</th>\n",
       "      <td>Article</td>\n",
       "      <td>Create Maps that Show Ratio or Aggregated Data...</td>\n",
       "      <td>Tableau</td>\n",
       "      <td>NaN</td>\n",
       "      <td>#66DaysofData, Data Visualization, Round1</td>\n",
       "      <td>NaN</td>\n",
       "      <td>2022-02-11 20:35:00</td>\n",
       "      <td>Finished</td>\n",
       "      <td>NaN</td>\n",
       "      <td>5.00</td>\n",
       "      <td>2022-02-11</td>\n",
       "      <td>2022-02-11</td>\n",
       "      <td>0.083333</td>\n",
       "    </tr>\n",
       "  </tbody>\n",
       "</table>\n",
       "</div>"
      ],
      "text/plain": [
       "      Type                                               Name  \\\n",
       "1   Course              Intermediate Importing Data in Python   \n",
       "2    Video  Tableau Data Analyst Certification Review - 12...   \n",
       "3    Video  How to learn Tableau in 2022: Full platform gu...   \n",
       "4  Article  8 Ways to Filter Pandas Dataframes | by Soner ...   \n",
       "5  Article  Create Maps that Show Ratio or Aggregated Data...   \n",
       "\n",
       "  Language/Software                              Packages  \\\n",
       "1            Python  BeautifulSoup, Tweepy, json, request   \n",
       "2           Tableau                                   NaN   \n",
       "3           Tableau                                   NaN   \n",
       "4            Python                                pandas   \n",
       "5           Tableau                                   NaN   \n",
       "\n",
       "                                                Tags                Author  \\\n",
       "1  #66DaysofData, APIs, Importing Data, Python, R...                   NaN   \n",
       "2             #66DaysofData, Career, Round1, Tableau      Alex the Analyst   \n",
       "3                     #66DaysofData, Round1, Tableau           Tableau Tim   \n",
       "4  #66DaysofData, Data Analysis, Exploratory Data...  Towards Data Science   \n",
       "5          #66DaysofData, Data Visualization, Round1                   NaN   \n",
       "\n",
       "              Created    Status    Source  Minutes Finish_Date Start_Date  \\\n",
       "1 2022-02-23 00:18:00  Finished  DataCamp   180.00  2022-02-23 2022-02-23   \n",
       "2 2022-02-23 00:06:00  Finished   YouTube    12.80  2022-02-22 2022-02-22   \n",
       "3 2022-02-22 17:47:00  Finished   YouTube    31.65  2022-02-22 2022-02-17   \n",
       "4 2022-02-11 23:45:00  Finished    Medium    20.00  2022-02-12 2022-02-12   \n",
       "5 2022-02-11 20:35:00  Finished       NaN     5.00  2022-02-11 2022-02-11   \n",
       "\n",
       "      Hours  \n",
       "1  3.000000  \n",
       "2  0.213333  \n",
       "3  0.527500  \n",
       "4  0.333333  \n",
       "5  0.083333  "
      ]
     },
     "execution_count": 126,
     "metadata": {},
     "output_type": "execute_result"
    }
   ],
   "source": [
    "df = df[df[\"Tags\"].str.contains(\"#66DaysofData\", na=False)]\n",
    "df.head()"
   ]
  },
  {
   "cell_type": "code",
   "execution_count": 127,
   "metadata": {},
   "outputs": [
    {
     "data": {
      "text/html": [
       "<div>\n",
       "<style scoped>\n",
       "    .dataframe tbody tr th:only-of-type {\n",
       "        vertical-align: middle;\n",
       "    }\n",
       "\n",
       "    .dataframe tbody tr th {\n",
       "        vertical-align: top;\n",
       "    }\n",
       "\n",
       "    .dataframe thead th {\n",
       "        text-align: right;\n",
       "    }\n",
       "</style>\n",
       "<table border=\"1\" class=\"dataframe\">\n",
       "  <thead>\n",
       "    <tr style=\"text-align: right;\">\n",
       "      <th></th>\n",
       "      <th>Type</th>\n",
       "      <th>Name</th>\n",
       "      <th>Language/Software</th>\n",
       "      <th>Packages</th>\n",
       "      <th>Tags</th>\n",
       "      <th>Author</th>\n",
       "      <th>Created</th>\n",
       "      <th>Status</th>\n",
       "      <th>Source</th>\n",
       "      <th>Minutes</th>\n",
       "      <th>Finish_Date</th>\n",
       "      <th>Start_Date</th>\n",
       "      <th>Hours</th>\n",
       "    </tr>\n",
       "  </thead>\n",
       "  <tbody>\n",
       "    <tr>\n",
       "      <th>1</th>\n",
       "      <td>Course</td>\n",
       "      <td>Intermediate Importing Data in Python</td>\n",
       "      <td>Python</td>\n",
       "      <td>BeautifulSoup, Tweepy, json, request</td>\n",
       "      <td>#66DaysofData, APIs, Importing Data, Python, R...</td>\n",
       "      <td>NaN</td>\n",
       "      <td>2022-02-23 00:18:00</td>\n",
       "      <td>Finished</td>\n",
       "      <td>DataCamp</td>\n",
       "      <td>180.00</td>\n",
       "      <td>2022-02-23</td>\n",
       "      <td>2022-02-23</td>\n",
       "      <td>3.000000</td>\n",
       "    </tr>\n",
       "    <tr>\n",
       "      <th>2</th>\n",
       "      <td>Video</td>\n",
       "      <td>Tableau Data Analyst Certification Review - 12...</td>\n",
       "      <td>Tableau</td>\n",
       "      <td>NaN</td>\n",
       "      <td>#66DaysofData, Career, Round1, Tableau</td>\n",
       "      <td>Alex the Analyst</td>\n",
       "      <td>2022-02-23 00:06:00</td>\n",
       "      <td>Finished</td>\n",
       "      <td>YouTube</td>\n",
       "      <td>12.80</td>\n",
       "      <td>2022-02-22</td>\n",
       "      <td>2022-02-22</td>\n",
       "      <td>0.213333</td>\n",
       "    </tr>\n",
       "    <tr>\n",
       "      <th>3</th>\n",
       "      <td>Video</td>\n",
       "      <td>How to learn Tableau in 2022: Full platform gu...</td>\n",
       "      <td>Tableau</td>\n",
       "      <td>NaN</td>\n",
       "      <td>#66DaysofData, Round1, Tableau</td>\n",
       "      <td>Tableau Tim</td>\n",
       "      <td>2022-02-22 17:47:00</td>\n",
       "      <td>Finished</td>\n",
       "      <td>YouTube</td>\n",
       "      <td>31.65</td>\n",
       "      <td>2022-02-22</td>\n",
       "      <td>2022-02-17</td>\n",
       "      <td>0.527500</td>\n",
       "    </tr>\n",
       "    <tr>\n",
       "      <th>4</th>\n",
       "      <td>Article</td>\n",
       "      <td>8 Ways to Filter Pandas Dataframes | by Soner ...</td>\n",
       "      <td>Python</td>\n",
       "      <td>pandas</td>\n",
       "      <td>#66DaysofData, Data Analysis, Exploratory Data...</td>\n",
       "      <td>Towards Data Science</td>\n",
       "      <td>2022-02-11 23:45:00</td>\n",
       "      <td>Finished</td>\n",
       "      <td>Medium</td>\n",
       "      <td>20.00</td>\n",
       "      <td>2022-02-12</td>\n",
       "      <td>2022-02-12</td>\n",
       "      <td>0.333333</td>\n",
       "    </tr>\n",
       "    <tr>\n",
       "      <th>5</th>\n",
       "      <td>Article</td>\n",
       "      <td>Create Maps that Show Ratio or Aggregated Data...</td>\n",
       "      <td>Tableau</td>\n",
       "      <td>NaN</td>\n",
       "      <td>#66DaysofData, Data Visualization, Round1</td>\n",
       "      <td>NaN</td>\n",
       "      <td>2022-02-11 20:35:00</td>\n",
       "      <td>Finished</td>\n",
       "      <td>NaN</td>\n",
       "      <td>5.00</td>\n",
       "      <td>2022-02-11</td>\n",
       "      <td>2022-02-11</td>\n",
       "      <td>0.083333</td>\n",
       "    </tr>\n",
       "  </tbody>\n",
       "</table>\n",
       "</div>"
      ],
      "text/plain": [
       "      Type                                               Name  \\\n",
       "1   Course              Intermediate Importing Data in Python   \n",
       "2    Video  Tableau Data Analyst Certification Review - 12...   \n",
       "3    Video  How to learn Tableau in 2022: Full platform gu...   \n",
       "4  Article  8 Ways to Filter Pandas Dataframes | by Soner ...   \n",
       "5  Article  Create Maps that Show Ratio or Aggregated Data...   \n",
       "\n",
       "  Language/Software                              Packages  \\\n",
       "1            Python  BeautifulSoup, Tweepy, json, request   \n",
       "2           Tableau                                   NaN   \n",
       "3           Tableau                                   NaN   \n",
       "4            Python                                pandas   \n",
       "5           Tableau                                   NaN   \n",
       "\n",
       "                                                Tags                Author  \\\n",
       "1  #66DaysofData, APIs, Importing Data, Python, R...                   NaN   \n",
       "2             #66DaysofData, Career, Round1, Tableau      Alex the Analyst   \n",
       "3                     #66DaysofData, Round1, Tableau           Tableau Tim   \n",
       "4  #66DaysofData, Data Analysis, Exploratory Data...  Towards Data Science   \n",
       "5          #66DaysofData, Data Visualization, Round1                   NaN   \n",
       "\n",
       "              Created    Status    Source  Minutes Finish_Date Start_Date  \\\n",
       "1 2022-02-23 00:18:00  Finished  DataCamp   180.00  2022-02-23 2022-02-23   \n",
       "2 2022-02-23 00:06:00  Finished   YouTube    12.80  2022-02-22 2022-02-22   \n",
       "3 2022-02-22 17:47:00  Finished   YouTube    31.65  2022-02-22 2022-02-17   \n",
       "4 2022-02-11 23:45:00  Finished    Medium    20.00  2022-02-12 2022-02-12   \n",
       "5 2022-02-11 20:35:00  Finished       NaN     5.00  2022-02-11 2022-02-11   \n",
       "\n",
       "      Hours  \n",
       "1  3.000000  \n",
       "2  0.213333  \n",
       "3  0.527500  \n",
       "4  0.333333  \n",
       "5  0.083333  "
      ]
     },
     "execution_count": 127,
     "metadata": {},
     "output_type": "execute_result"
    }
   ],
   "source": [
    "df = df[(df[\"Status\"] == \"Finished\")]\n",
    "df.head()"
   ]
  },
  {
   "cell_type": "code",
   "execution_count": 184,
   "metadata": {},
   "outputs": [
    {
     "data": {
      "text/plain": [
       "32.086666666664996"
      ]
     },
     "execution_count": 184,
     "metadata": {},
     "output_type": "execute_result"
    }
   ],
   "source": [
    "df['Hours'].sum()"
   ]
  },
  {
   "cell_type": "markdown",
   "metadata": {},
   "source": [
    "Total hours consumed are 32.09"
   ]
  },
  {
   "cell_type": "code",
   "execution_count": 256,
   "metadata": {},
   "outputs": [
    {
     "data": {
      "text/html": [
       "<div>\n",
       "<style scoped>\n",
       "    .dataframe tbody tr th:only-of-type {\n",
       "        vertical-align: middle;\n",
       "    }\n",
       "\n",
       "    .dataframe tbody tr th {\n",
       "        vertical-align: top;\n",
       "    }\n",
       "\n",
       "    .dataframe thead th {\n",
       "        text-align: right;\n",
       "    }\n",
       "</style>\n",
       "<table border=\"1\" class=\"dataframe\">\n",
       "  <thead>\n",
       "    <tr style=\"text-align: right;\">\n",
       "      <th></th>\n",
       "      <th>Type</th>\n",
       "      <th>Name</th>\n",
       "      <th>Language/Software</th>\n",
       "      <th>Packages</th>\n",
       "      <th>Author</th>\n",
       "      <th>Status</th>\n",
       "      <th>Source</th>\n",
       "      <th>Hours</th>\n",
       "      <th>Minutes</th>\n",
       "      <th>Finish_Date</th>\n",
       "      <th>variable</th>\n",
       "      <th>tag</th>\n",
       "    </tr>\n",
       "  </thead>\n",
       "  <tbody>\n",
       "    <tr>\n",
       "      <th>0</th>\n",
       "      <td>Course</td>\n",
       "      <td>Intermediate Importing Data in Python</td>\n",
       "      <td>Python</td>\n",
       "      <td>BeautifulSoup, Tweepy, json, request</td>\n",
       "      <td>NaN</td>\n",
       "      <td>Finished</td>\n",
       "      <td>DataCamp</td>\n",
       "      <td>3.000000</td>\n",
       "      <td>180.00</td>\n",
       "      <td>2022-02-23</td>\n",
       "      <td>0</td>\n",
       "      <td>#66DaysofData</td>\n",
       "    </tr>\n",
       "    <tr>\n",
       "      <th>1</th>\n",
       "      <td>Video</td>\n",
       "      <td>Tableau Data Analyst Certification Review - 12...</td>\n",
       "      <td>Tableau</td>\n",
       "      <td>NaN</td>\n",
       "      <td>Alex the Analyst</td>\n",
       "      <td>Finished</td>\n",
       "      <td>YouTube</td>\n",
       "      <td>0.213333</td>\n",
       "      <td>12.80</td>\n",
       "      <td>2022-02-22</td>\n",
       "      <td>0</td>\n",
       "      <td>#66DaysofData</td>\n",
       "    </tr>\n",
       "    <tr>\n",
       "      <th>2</th>\n",
       "      <td>Video</td>\n",
       "      <td>How to learn Tableau in 2022: Full platform gu...</td>\n",
       "      <td>Tableau</td>\n",
       "      <td>NaN</td>\n",
       "      <td>Tableau Tim</td>\n",
       "      <td>Finished</td>\n",
       "      <td>YouTube</td>\n",
       "      <td>0.527500</td>\n",
       "      <td>31.65</td>\n",
       "      <td>2022-02-22</td>\n",
       "      <td>0</td>\n",
       "      <td>#66DaysofData</td>\n",
       "    </tr>\n",
       "    <tr>\n",
       "      <th>3</th>\n",
       "      <td>Article</td>\n",
       "      <td>8 Ways to Filter Pandas Dataframes | by Soner ...</td>\n",
       "      <td>Python</td>\n",
       "      <td>pandas</td>\n",
       "      <td>Towards Data Science</td>\n",
       "      <td>Finished</td>\n",
       "      <td>Medium</td>\n",
       "      <td>0.333333</td>\n",
       "      <td>20.00</td>\n",
       "      <td>2022-02-12</td>\n",
       "      <td>0</td>\n",
       "      <td>#66DaysofData</td>\n",
       "    </tr>\n",
       "    <tr>\n",
       "      <th>4</th>\n",
       "      <td>Article</td>\n",
       "      <td>Create Maps that Show Ratio or Aggregated Data...</td>\n",
       "      <td>Tableau</td>\n",
       "      <td>NaN</td>\n",
       "      <td>NaN</td>\n",
       "      <td>Finished</td>\n",
       "      <td>NaN</td>\n",
       "      <td>0.083333</td>\n",
       "      <td>5.00</td>\n",
       "      <td>2022-02-11</td>\n",
       "      <td>0</td>\n",
       "      <td>#66DaysofData</td>\n",
       "    </tr>\n",
       "    <tr>\n",
       "      <th>...</th>\n",
       "      <td>...</td>\n",
       "      <td>...</td>\n",
       "      <td>...</td>\n",
       "      <td>...</td>\n",
       "      <td>...</td>\n",
       "      <td>...</td>\n",
       "      <td>...</td>\n",
       "      <td>...</td>\n",
       "      <td>...</td>\n",
       "      <td>...</td>\n",
       "      <td>...</td>\n",
       "      <td>...</td>\n",
       "    </tr>\n",
       "    <tr>\n",
       "      <th>250</th>\n",
       "      <td>Course</td>\n",
       "      <td>Intro to Data Visualization in Matplotlib</td>\n",
       "      <td>Python</td>\n",
       "      <td>matplotlib</td>\n",
       "      <td>NaN</td>\n",
       "      <td>Finished</td>\n",
       "      <td>DataCamp</td>\n",
       "      <td>4.000000</td>\n",
       "      <td>240.00</td>\n",
       "      <td>2022-01-12</td>\n",
       "      <td>5</td>\n",
       "      <td>Round1</td>\n",
       "    </tr>\n",
       "    <tr>\n",
       "      <th>264</th>\n",
       "      <td>Course</td>\n",
       "      <td>Intro to Data Visualization with Seaborn</td>\n",
       "      <td>Python</td>\n",
       "      <td>seaborn</td>\n",
       "      <td>NaN</td>\n",
       "      <td>Finished</td>\n",
       "      <td>DataCamp</td>\n",
       "      <td>4.000000</td>\n",
       "      <td>240.00</td>\n",
       "      <td>2022-01-18</td>\n",
       "      <td>6</td>\n",
       "      <td>seaborn</td>\n",
       "    </tr>\n",
       "    <tr>\n",
       "      <th>284</th>\n",
       "      <td>Article</td>\n",
       "      <td>Use Python To Scrape &amp; Visualize Likes On Your...</td>\n",
       "      <td>Python</td>\n",
       "      <td>Selenium</td>\n",
       "      <td>Stanislav Lukashevich</td>\n",
       "      <td>Finished</td>\n",
       "      <td>LinkedIn</td>\n",
       "      <td>0.083333</td>\n",
       "      <td>5.00</td>\n",
       "      <td>2021-12-31</td>\n",
       "      <td>6</td>\n",
       "      <td>Selenium</td>\n",
       "    </tr>\n",
       "    <tr>\n",
       "      <th>292</th>\n",
       "      <td>Course</td>\n",
       "      <td>Intro to Data Visualization in Matplotlib</td>\n",
       "      <td>Python</td>\n",
       "      <td>matplotlib</td>\n",
       "      <td>NaN</td>\n",
       "      <td>Finished</td>\n",
       "      <td>DataCamp</td>\n",
       "      <td>4.000000</td>\n",
       "      <td>240.00</td>\n",
       "      <td>2022-01-12</td>\n",
       "      <td>6</td>\n",
       "      <td>matplotlib</td>\n",
       "    </tr>\n",
       "    <tr>\n",
       "      <th>326</th>\n",
       "      <td>Article</td>\n",
       "      <td>Use Python To Scrape &amp; Visualize Likes On Your...</td>\n",
       "      <td>Python</td>\n",
       "      <td>Selenium</td>\n",
       "      <td>Stanislav Lukashevich</td>\n",
       "      <td>Finished</td>\n",
       "      <td>LinkedIn</td>\n",
       "      <td>0.083333</td>\n",
       "      <td>5.00</td>\n",
       "      <td>2021-12-31</td>\n",
       "      <td>7</td>\n",
       "      <td>Web Scraping</td>\n",
       "    </tr>\n",
       "  </tbody>\n",
       "</table>\n",
       "<p>156 rows × 12 columns</p>\n",
       "</div>"
      ],
      "text/plain": [
       "        Type                                               Name  \\\n",
       "0     Course              Intermediate Importing Data in Python   \n",
       "1      Video  Tableau Data Analyst Certification Review - 12...   \n",
       "2      Video  How to learn Tableau in 2022: Full platform gu...   \n",
       "3    Article  8 Ways to Filter Pandas Dataframes | by Soner ...   \n",
       "4    Article  Create Maps that Show Ratio or Aggregated Data...   \n",
       "..       ...                                                ...   \n",
       "250   Course          Intro to Data Visualization in Matplotlib   \n",
       "264   Course           Intro to Data Visualization with Seaborn   \n",
       "284  Article  Use Python To Scrape & Visualize Likes On Your...   \n",
       "292   Course          Intro to Data Visualization in Matplotlib   \n",
       "326  Article  Use Python To Scrape & Visualize Likes On Your...   \n",
       "\n",
       "    Language/Software                              Packages  \\\n",
       "0              Python  BeautifulSoup, Tweepy, json, request   \n",
       "1             Tableau                                   NaN   \n",
       "2             Tableau                                   NaN   \n",
       "3              Python                                pandas   \n",
       "4             Tableau                                   NaN   \n",
       "..                ...                                   ...   \n",
       "250            Python                            matplotlib   \n",
       "264            Python                               seaborn   \n",
       "284            Python                              Selenium   \n",
       "292            Python                            matplotlib   \n",
       "326            Python                              Selenium   \n",
       "\n",
       "                    Author    Status    Source     Hours  Minutes Finish_Date  \\\n",
       "0                      NaN  Finished  DataCamp  3.000000   180.00  2022-02-23   \n",
       "1         Alex the Analyst  Finished   YouTube  0.213333    12.80  2022-02-22   \n",
       "2              Tableau Tim  Finished   YouTube  0.527500    31.65  2022-02-22   \n",
       "3     Towards Data Science  Finished    Medium  0.333333    20.00  2022-02-12   \n",
       "4                      NaN  Finished       NaN  0.083333     5.00  2022-02-11   \n",
       "..                     ...       ...       ...       ...      ...         ...   \n",
       "250                    NaN  Finished  DataCamp  4.000000   240.00  2022-01-12   \n",
       "264                    NaN  Finished  DataCamp  4.000000   240.00  2022-01-18   \n",
       "284  Stanislav Lukashevich  Finished  LinkedIn  0.083333     5.00  2021-12-31   \n",
       "292                    NaN  Finished  DataCamp  4.000000   240.00  2022-01-12   \n",
       "326  Stanislav Lukashevich  Finished  LinkedIn  0.083333     5.00  2021-12-31   \n",
       "\n",
       "    variable            tag  \n",
       "0          0  #66DaysofData  \n",
       "1          0  #66DaysofData  \n",
       "2          0  #66DaysofData  \n",
       "3          0  #66DaysofData  \n",
       "4          0  #66DaysofData  \n",
       "..       ...            ...  \n",
       "250        5         Round1  \n",
       "264        6        seaborn  \n",
       "284        6       Selenium  \n",
       "292        6     matplotlib  \n",
       "326        7   Web Scraping  \n",
       "\n",
       "[156 rows x 12 columns]"
      ]
     },
     "execution_count": 256,
     "metadata": {},
     "output_type": "execute_result"
    }
   ],
   "source": [
    "#An observation can have multiple tags, therefore the tag column will be split so that each tag can be accounted for\n",
    "tag_count = df.copy()\n",
    "tag_count = pd.concat([tag_count, df[\"Tags\"].str.split(\",\", expand=True)], axis=1)\n",
    "tag_count = tag_count.melt(id_vars=[\"Type\", \"Name\", \"Language/Software\", \"Packages\", \"Author\",\"Status\", \"Source\", \"Hours\", \"Minutes\", \"Finish_Date\"], value_vars=range(8), value_name=\"tag\")\n",
    "tag_count = tag_count[tag_count[\"tag\"].notna()]\n",
    "tag_count['tag'] = tag_count['tag'].str.strip() #this line removes spaces in the tag column, so that \"pandas\" and \" pandas\" don't return as separate tags\n",
    "tag_count\n"
   ]
  },
  {
   "cell_type": "code",
   "execution_count": 129,
   "metadata": {},
   "outputs": [
    {
     "data": {
      "text/html": [
       "<div>\n",
       "<style scoped>\n",
       "    .dataframe tbody tr th:only-of-type {\n",
       "        vertical-align: middle;\n",
       "    }\n",
       "\n",
       "    .dataframe tbody tr th {\n",
       "        vertical-align: top;\n",
       "    }\n",
       "\n",
       "    .dataframe thead th {\n",
       "        text-align: right;\n",
       "    }\n",
       "</style>\n",
       "<table border=\"1\" class=\"dataframe\">\n",
       "  <thead>\n",
       "    <tr style=\"text-align: right;\">\n",
       "      <th></th>\n",
       "      <th>Type</th>\n",
       "      <th>Name</th>\n",
       "      <th>Language/Software</th>\n",
       "      <th>Packages</th>\n",
       "      <th>Author</th>\n",
       "      <th>Status</th>\n",
       "      <th>Source</th>\n",
       "      <th>Hours</th>\n",
       "      <th>Minutes</th>\n",
       "      <th>Finish_Date</th>\n",
       "      <th>variable</th>\n",
       "      <th>tag</th>\n",
       "    </tr>\n",
       "  </thead>\n",
       "  <tbody>\n",
       "    <tr>\n",
       "      <th>42</th>\n",
       "      <td>Course</td>\n",
       "      <td>Intermediate Importing Data in Python</td>\n",
       "      <td>Python</td>\n",
       "      <td>BeautifulSoup, Tweepy, json, request</td>\n",
       "      <td>NaN</td>\n",
       "      <td>Finished</td>\n",
       "      <td>DataCamp</td>\n",
       "      <td>3.000000</td>\n",
       "      <td>180.0</td>\n",
       "      <td>2022-02-23</td>\n",
       "      <td>1</td>\n",
       "      <td>APIs</td>\n",
       "    </tr>\n",
       "    <tr>\n",
       "      <th>43</th>\n",
       "      <td>Video</td>\n",
       "      <td>Tableau Data Analyst Certification Review - 12...</td>\n",
       "      <td>Tableau</td>\n",
       "      <td>NaN</td>\n",
       "      <td>Alex the Analyst</td>\n",
       "      <td>Finished</td>\n",
       "      <td>YouTube</td>\n",
       "      <td>0.213333</td>\n",
       "      <td>12.8</td>\n",
       "      <td>2022-02-22</td>\n",
       "      <td>1</td>\n",
       "      <td>Career</td>\n",
       "    </tr>\n",
       "    <tr>\n",
       "      <th>45</th>\n",
       "      <td>Article</td>\n",
       "      <td>8 Ways to Filter Pandas Dataframes | by Soner ...</td>\n",
       "      <td>Python</td>\n",
       "      <td>pandas</td>\n",
       "      <td>Towards Data Science</td>\n",
       "      <td>Finished</td>\n",
       "      <td>Medium</td>\n",
       "      <td>0.333333</td>\n",
       "      <td>20.0</td>\n",
       "      <td>2022-02-12</td>\n",
       "      <td>1</td>\n",
       "      <td>Data Analysis</td>\n",
       "    </tr>\n",
       "    <tr>\n",
       "      <th>46</th>\n",
       "      <td>Article</td>\n",
       "      <td>Create Maps that Show Ratio or Aggregated Data...</td>\n",
       "      <td>Tableau</td>\n",
       "      <td>NaN</td>\n",
       "      <td>NaN</td>\n",
       "      <td>Finished</td>\n",
       "      <td>NaN</td>\n",
       "      <td>0.083333</td>\n",
       "      <td>5.0</td>\n",
       "      <td>2022-02-11</td>\n",
       "      <td>1</td>\n",
       "      <td>Data Visualization</td>\n",
       "    </tr>\n",
       "    <tr>\n",
       "      <th>47</th>\n",
       "      <td>Video</td>\n",
       "      <td>Tableau animation in five minutes - 5.1 mins</td>\n",
       "      <td>Tableau</td>\n",
       "      <td>NaN</td>\n",
       "      <td>NaN</td>\n",
       "      <td>Finished</td>\n",
       "      <td>YouTube</td>\n",
       "      <td>0.085000</td>\n",
       "      <td>5.1</td>\n",
       "      <td>2022-02-11</td>\n",
       "      <td>1</td>\n",
       "      <td>Data Visualization</td>\n",
       "    </tr>\n",
       "    <tr>\n",
       "      <th>...</th>\n",
       "      <td>...</td>\n",
       "      <td>...</td>\n",
       "      <td>...</td>\n",
       "      <td>...</td>\n",
       "      <td>...</td>\n",
       "      <td>...</td>\n",
       "      <td>...</td>\n",
       "      <td>...</td>\n",
       "      <td>...</td>\n",
       "      <td>...</td>\n",
       "      <td>...</td>\n",
       "      <td>...</td>\n",
       "    </tr>\n",
       "    <tr>\n",
       "      <th>220</th>\n",
       "      <td>Course</td>\n",
       "      <td>Introduction to Importing Data in Python</td>\n",
       "      <td>Python</td>\n",
       "      <td>numpy, pandas, scipy, sqlalchemy</td>\n",
       "      <td>NaN</td>\n",
       "      <td>Finished</td>\n",
       "      <td>DataCamp</td>\n",
       "      <td>3.000000</td>\n",
       "      <td>180.0</td>\n",
       "      <td>2022-02-22</td>\n",
       "      <td>5</td>\n",
       "      <td>SQL</td>\n",
       "    </tr>\n",
       "    <tr>\n",
       "      <th>264</th>\n",
       "      <td>Course</td>\n",
       "      <td>Intro to Data Visualization with Seaborn</td>\n",
       "      <td>Python</td>\n",
       "      <td>seaborn</td>\n",
       "      <td>NaN</td>\n",
       "      <td>Finished</td>\n",
       "      <td>DataCamp</td>\n",
       "      <td>4.000000</td>\n",
       "      <td>240.0</td>\n",
       "      <td>2022-01-18</td>\n",
       "      <td>6</td>\n",
       "      <td>seaborn</td>\n",
       "    </tr>\n",
       "    <tr>\n",
       "      <th>284</th>\n",
       "      <td>Article</td>\n",
       "      <td>Use Python To Scrape &amp; Visualize Likes On Your...</td>\n",
       "      <td>Python</td>\n",
       "      <td>Selenium</td>\n",
       "      <td>Stanislav Lukashevich</td>\n",
       "      <td>Finished</td>\n",
       "      <td>LinkedIn</td>\n",
       "      <td>0.083333</td>\n",
       "      <td>5.0</td>\n",
       "      <td>2021-12-31</td>\n",
       "      <td>6</td>\n",
       "      <td>Selenium</td>\n",
       "    </tr>\n",
       "    <tr>\n",
       "      <th>292</th>\n",
       "      <td>Course</td>\n",
       "      <td>Intro to Data Visualization in Matplotlib</td>\n",
       "      <td>Python</td>\n",
       "      <td>matplotlib</td>\n",
       "      <td>NaN</td>\n",
       "      <td>Finished</td>\n",
       "      <td>DataCamp</td>\n",
       "      <td>4.000000</td>\n",
       "      <td>240.0</td>\n",
       "      <td>2022-01-12</td>\n",
       "      <td>6</td>\n",
       "      <td>matplotlib</td>\n",
       "    </tr>\n",
       "    <tr>\n",
       "      <th>326</th>\n",
       "      <td>Article</td>\n",
       "      <td>Use Python To Scrape &amp; Visualize Likes On Your...</td>\n",
       "      <td>Python</td>\n",
       "      <td>Selenium</td>\n",
       "      <td>Stanislav Lukashevich</td>\n",
       "      <td>Finished</td>\n",
       "      <td>LinkedIn</td>\n",
       "      <td>0.083333</td>\n",
       "      <td>5.0</td>\n",
       "      <td>2021-12-31</td>\n",
       "      <td>7</td>\n",
       "      <td>Web Scraping</td>\n",
       "    </tr>\n",
       "  </tbody>\n",
       "</table>\n",
       "<p>72 rows × 12 columns</p>\n",
       "</div>"
      ],
      "text/plain": [
       "        Type                                               Name  \\\n",
       "42    Course              Intermediate Importing Data in Python   \n",
       "43     Video  Tableau Data Analyst Certification Review - 12...   \n",
       "45   Article  8 Ways to Filter Pandas Dataframes | by Soner ...   \n",
       "46   Article  Create Maps that Show Ratio or Aggregated Data...   \n",
       "47     Video       Tableau animation in five minutes - 5.1 mins   \n",
       "..       ...                                                ...   \n",
       "220   Course           Introduction to Importing Data in Python   \n",
       "264   Course           Intro to Data Visualization with Seaborn   \n",
       "284  Article  Use Python To Scrape & Visualize Likes On Your...   \n",
       "292   Course          Intro to Data Visualization in Matplotlib   \n",
       "326  Article  Use Python To Scrape & Visualize Likes On Your...   \n",
       "\n",
       "    Language/Software                              Packages  \\\n",
       "42             Python  BeautifulSoup, Tweepy, json, request   \n",
       "43            Tableau                                   NaN   \n",
       "45             Python                                pandas   \n",
       "46            Tableau                                   NaN   \n",
       "47            Tableau                                   NaN   \n",
       "..                ...                                   ...   \n",
       "220            Python      numpy, pandas, scipy, sqlalchemy   \n",
       "264            Python                               seaborn   \n",
       "284            Python                              Selenium   \n",
       "292            Python                            matplotlib   \n",
       "326            Python                              Selenium   \n",
       "\n",
       "                    Author    Status    Source     Hours  Minutes Finish_Date  \\\n",
       "42                     NaN  Finished  DataCamp  3.000000    180.0  2022-02-23   \n",
       "43        Alex the Analyst  Finished   YouTube  0.213333     12.8  2022-02-22   \n",
       "45    Towards Data Science  Finished    Medium  0.333333     20.0  2022-02-12   \n",
       "46                     NaN  Finished       NaN  0.083333      5.0  2022-02-11   \n",
       "47                     NaN  Finished   YouTube  0.085000      5.1  2022-02-11   \n",
       "..                     ...       ...       ...       ...      ...         ...   \n",
       "220                    NaN  Finished  DataCamp  3.000000    180.0  2022-02-22   \n",
       "264                    NaN  Finished  DataCamp  4.000000    240.0  2022-01-18   \n",
       "284  Stanislav Lukashevich  Finished  LinkedIn  0.083333      5.0  2021-12-31   \n",
       "292                    NaN  Finished  DataCamp  4.000000    240.0  2022-01-12   \n",
       "326  Stanislav Lukashevich  Finished  LinkedIn  0.083333      5.0  2021-12-31   \n",
       "\n",
       "    variable                 tag  \n",
       "42         1                APIs  \n",
       "43         1              Career  \n",
       "45         1       Data Analysis  \n",
       "46         1  Data Visualization  \n",
       "47         1  Data Visualization  \n",
       "..       ...                 ...  \n",
       "220        5                 SQL  \n",
       "264        6             seaborn  \n",
       "284        6            Selenium  \n",
       "292        6          matplotlib  \n",
       "326        7        Web Scraping  \n",
       "\n",
       "[72 rows x 12 columns]"
      ]
     },
     "execution_count": 129,
     "metadata": {},
     "output_type": "execute_result"
    }
   ],
   "source": [
    "#every observation has been tagged with #66DaysofData and Round 1. These observations are removed to give a more accurate count of the tags\n",
    "tag_count = tag_count.drop(tag_count.index[tag_count[\"tag\"] == \"#66DaysofData\"])\n",
    "tag_count = tag_count.drop(tag_count.index[tag_count[\"tag\"] == \"Round 1\"])\n",
    "tag_count = tag_count.drop(tag_count.index[tag_count[\"tag\"] == \"Round1\"])\n",
    "tag_count"
   ]
  },
  {
   "cell_type": "markdown",
   "metadata": {},
   "source": [
    "### Tag"
   ]
  },
  {
   "cell_type": "code",
   "execution_count": 228,
   "metadata": {},
   "outputs": [
    {
     "data": {
      "image/png": "[encoded data removed]"
     },
     "metadata": {},
     "output_type": "display_data"
    }
   ],
   "source": [
    "fig = px.histogram(tag_count, x=\"tag\", title=\"Tag Count\").update_xaxes(categoryorder=\"total descending\", tickangle=-90)\n",
    "fig.show(\"png\")\n"
   ]
  },
  {
   "cell_type": "code",
   "execution_count": 230,
   "metadata": {},
   "outputs": [
    {
     "data": {
      "image/png": "[encoded data removed]"
     },
     "metadata": {},
     "output_type": "display_data"
    }
   ],
   "source": [
    "fig = px.histogram(tag_count, x=\"tag\", y=\"Hours\", color=\"Type\", title=\"Total Hours for Each Tag\").update_xaxes(categoryorder=\"total descending\", tickangle=-90)\n",
    "fig.show(\"png\")\n"
   ]
  },
  {
   "cell_type": "markdown",
   "metadata": {},
   "source": [
    "### Type"
   ]
  },
  {
   "cell_type": "code",
   "execution_count": 231,
   "metadata": {},
   "outputs": [
    {
     "data": {
      "image/png": "[encoded data removed]"
     },
     "metadata": {},
     "output_type": "display_data"
    }
   ],
   "source": [
    "fig = px.histogram(df, x=\"Type\", title=\"Type Count\").update_xaxes(categoryorder=\"total descending\")\n",
    "fig.show(\"png\")\n"
   ]
  },
  {
   "cell_type": "code",
   "execution_count": 233,
   "metadata": {},
   "outputs": [
    {
     "data": {
      "image/png": "[encoded data removed]"
     },
     "metadata": {},
     "output_type": "display_data"
    }
   ],
   "source": [
    "fig = px.histogram(df, x=\"Type\", y=\"Hours\", title=\"Total Hours for Each Type\").update_xaxes(categoryorder=\"total descending\")\n",
    "fig.show(\"png\")\n"
   ]
  },
  {
   "cell_type": "markdown",
   "metadata": {},
   "source": [
    "### Source"
   ]
  },
  {
   "cell_type": "code",
   "execution_count": 234,
   "metadata": {},
   "outputs": [
    {
     "data": {
      "image/png": "[encoded data removed]"
     },
     "metadata": {},
     "output_type": "display_data"
    }
   ],
   "source": [
    "fig = px.histogram(df, x=\"Source\", title=\"Source Count\").update_xaxes(categoryorder=\"total descending\")\n",
    "fig.show(\"png\")\n"
   ]
  },
  {
   "cell_type": "code",
   "execution_count": 235,
   "metadata": {},
   "outputs": [
    {
     "data": {
      "image/png": "[encoded data removed]"
     },
     "metadata": {},
     "output_type": "display_data"
    }
   ],
   "source": [
    "fig = px.histogram(df, x=\"Source\", y=\"Hours\", title=\"Total Hours for Each Source\").update_xaxes(categoryorder=\"total descending\")\n",
    "fig.show(\"png\")\n"
   ]
  },
  {
   "cell_type": "markdown",
   "metadata": {},
   "source": [
    "### Language/Software"
   ]
  },
  {
   "cell_type": "code",
   "execution_count": 236,
   "metadata": {},
   "outputs": [
    {
     "data": {
      "image/png": "[encoded data removed]"
     },
     "metadata": {},
     "output_type": "display_data"
    }
   ],
   "source": [
    "fig = px.histogram(df, x=\"Language/Software\", title=\"Language/Software by Count\").update_xaxes(categoryorder=\"total descending\")\n",
    "fig.show(\"png\")\n"
   ]
  },
  {
   "cell_type": "code",
   "execution_count": 237,
   "metadata": {},
   "outputs": [
    {
     "data": {
      "image/png": "[encoded data removed]"
     },
     "metadata": {},
     "output_type": "display_data"
    }
   ],
   "source": [
    "fig = px.histogram(df, x=\"Language/Software\", y=\"Hours\", title=\"Total Hours for Each Language/Software\").update_xaxes(categoryorder=\"total descending\")\n",
    "fig.show(\"png\")\n"
   ]
  },
  {
   "cell_type": "markdown",
   "metadata": {},
   "source": [
    "### Author"
   ]
  },
  {
   "cell_type": "code",
   "execution_count": 241,
   "metadata": {},
   "outputs": [
    {
     "data": {
      "image/png": "[encoded data removed]"
     },
     "metadata": {},
     "output_type": "display_data"
    }
   ],
   "source": [
    "fig = px.histogram(df, x=\"Author\", title=\"Author/Content Creator Count\").update_xaxes(categoryorder=\"total descending\", tickangle=-90)\n",
    "fig.show(\"png\")\n"
   ]
  },
  {
   "cell_type": "code",
   "execution_count": 239,
   "metadata": {},
   "outputs": [
    {
     "data": {
      "image/png": "[encoded data removed]"
     },
     "metadata": {},
     "output_type": "display_data"
    }
   ],
   "source": [
    "fig = px.histogram(df, x=\"Author\", y=\"Hours\", title=\"Total Hours for Each Author/Content Creator\").update_xaxes(categoryorder=\"total descending\", tickangle=-90)\n",
    "fig.show(\"png\")\n"
   ]
  },
  {
   "cell_type": "code",
   "execution_count": 255,
   "metadata": {},
   "outputs": [
    {
     "data": {
      "text/html": [
       "<div>\n",
       "<style scoped>\n",
       "    .dataframe tbody tr th:only-of-type {\n",
       "        vertical-align: middle;\n",
       "    }\n",
       "\n",
       "    .dataframe tbody tr th {\n",
       "        vertical-align: top;\n",
       "    }\n",
       "\n",
       "    .dataframe thead th {\n",
       "        text-align: right;\n",
       "    }\n",
       "</style>\n",
       "<table border=\"1\" class=\"dataframe\">\n",
       "  <thead>\n",
       "    <tr style=\"text-align: right;\">\n",
       "      <th></th>\n",
       "      <th>Type</th>\n",
       "      <th>Name</th>\n",
       "      <th>Language/Software</th>\n",
       "      <th>Tags</th>\n",
       "      <th>Author</th>\n",
       "      <th>Status</th>\n",
       "      <th>Source</th>\n",
       "      <th>Hours</th>\n",
       "      <th>Minutes</th>\n",
       "      <th>Finish_Date</th>\n",
       "      <th>variable</th>\n",
       "      <th>packages</th>\n",
       "    </tr>\n",
       "  </thead>\n",
       "  <tbody>\n",
       "    <tr>\n",
       "      <th>0</th>\n",
       "      <td>Course</td>\n",
       "      <td>Intermediate Importing Data in Python</td>\n",
       "      <td>Python</td>\n",
       "      <td>#66DaysofData, APIs, Importing Data, Python, R...</td>\n",
       "      <td>NaN</td>\n",
       "      <td>Finished</td>\n",
       "      <td>DataCamp</td>\n",
       "      <td>3.000000</td>\n",
       "      <td>180.0</td>\n",
       "      <td>2022-02-23</td>\n",
       "      <td>0</td>\n",
       "      <td>BeautifulSoup</td>\n",
       "    </tr>\n",
       "    <tr>\n",
       "      <th>3</th>\n",
       "      <td>Article</td>\n",
       "      <td>8 Ways to Filter Pandas Dataframes | by Soner ...</td>\n",
       "      <td>Python</td>\n",
       "      <td>#66DaysofData, Data Analysis, Exploratory Data...</td>\n",
       "      <td>Towards Data Science</td>\n",
       "      <td>Finished</td>\n",
       "      <td>Medium</td>\n",
       "      <td>0.333333</td>\n",
       "      <td>20.0</td>\n",
       "      <td>2022-02-12</td>\n",
       "      <td>0</td>\n",
       "      <td>pandas</td>\n",
       "    </tr>\n",
       "    <tr>\n",
       "      <th>7</th>\n",
       "      <td>Video</td>\n",
       "      <td>Data Analysis on a Kaggle's Dataset - 29.9 mins</td>\n",
       "      <td>Python</td>\n",
       "      <td>#66DaysofData, Data Analysis, Exploratory Data...</td>\n",
       "      <td>NaN</td>\n",
       "      <td>Finished</td>\n",
       "      <td>YouTube</td>\n",
       "      <td>0.498333</td>\n",
       "      <td>29.9</td>\n",
       "      <td>2022-02-10</td>\n",
       "      <td>0</td>\n",
       "      <td>pandas</td>\n",
       "    </tr>\n",
       "    <tr>\n",
       "      <th>10</th>\n",
       "      <td>Course</td>\n",
       "      <td>Introduction to Importing Data in Python</td>\n",
       "      <td>Python</td>\n",
       "      <td>#66DaysofData, Importing Data, Pandas, Python,...</td>\n",
       "      <td>NaN</td>\n",
       "      <td>Finished</td>\n",
       "      <td>DataCamp</td>\n",
       "      <td>3.000000</td>\n",
       "      <td>180.0</td>\n",
       "      <td>2022-02-22</td>\n",
       "      <td>0</td>\n",
       "      <td>numpy</td>\n",
       "    </tr>\n",
       "    <tr>\n",
       "      <th>12</th>\n",
       "      <td>Course</td>\n",
       "      <td>Intro to Data Visualization with Seaborn</td>\n",
       "      <td>Python</td>\n",
       "      <td>#66DaysofData, Data Analysis, Data Science, Da...</td>\n",
       "      <td>NaN</td>\n",
       "      <td>Finished</td>\n",
       "      <td>DataCamp</td>\n",
       "      <td>4.000000</td>\n",
       "      <td>240.0</td>\n",
       "      <td>2022-01-18</td>\n",
       "      <td>0</td>\n",
       "      <td>seaborn</td>\n",
       "    </tr>\n",
       "    <tr>\n",
       "      <th>18</th>\n",
       "      <td>Video</td>\n",
       "      <td>Build an Exploratory Data Analysis Project fro...</td>\n",
       "      <td>Python</td>\n",
       "      <td>#66DaysofData, Exploratory Data Analysis, Round1</td>\n",
       "      <td>Jovian</td>\n",
       "      <td>Finished</td>\n",
       "      <td>YouTube</td>\n",
       "      <td>2.336667</td>\n",
       "      <td>140.2</td>\n",
       "      <td>2022-01-03</td>\n",
       "      <td>0</td>\n",
       "      <td>numpy</td>\n",
       "    </tr>\n",
       "    <tr>\n",
       "      <th>24</th>\n",
       "      <td>Video</td>\n",
       "      <td>How To Become Expertise in Exploratory Data An...</td>\n",
       "      <td>Python</td>\n",
       "      <td>#66DaysofData, Exploratory Data Analysis, Round1</td>\n",
       "      <td>Krish Naik</td>\n",
       "      <td>Finished</td>\n",
       "      <td>YouTube</td>\n",
       "      <td>0.168333</td>\n",
       "      <td>10.1</td>\n",
       "      <td>2022-01-01</td>\n",
       "      <td>0</td>\n",
       "      <td>matplotlib</td>\n",
       "    </tr>\n",
       "    <tr>\n",
       "      <th>25</th>\n",
       "      <td>Video</td>\n",
       "      <td>Data Science Project from Scratch - Part 4 (Ex...</td>\n",
       "      <td>Python</td>\n",
       "      <td>#66DaysofData, DS Projects, Exploratory Data A...</td>\n",
       "      <td>Ken Jee</td>\n",
       "      <td>Finished</td>\n",
       "      <td>YouTube</td>\n",
       "      <td>1.143333</td>\n",
       "      <td>68.6</td>\n",
       "      <td>2022-01-01</td>\n",
       "      <td>0</td>\n",
       "      <td>matplotlib</td>\n",
       "    </tr>\n",
       "    <tr>\n",
       "      <th>30</th>\n",
       "      <td>Video</td>\n",
       "      <td>Exploratory Data Analysis (comment your best i...</td>\n",
       "      <td>Python</td>\n",
       "      <td>#66DaysofData, Exploratory Data Analysis, Pyth...</td>\n",
       "      <td>Shashank Kalanithi</td>\n",
       "      <td>Finished</td>\n",
       "      <td>YouTube</td>\n",
       "      <td>0.981667</td>\n",
       "      <td>58.9</td>\n",
       "      <td>2021-12-31</td>\n",
       "      <td>0</td>\n",
       "      <td>pandas</td>\n",
       "    </tr>\n",
       "    <tr>\n",
       "      <th>32</th>\n",
       "      <td>Article</td>\n",
       "      <td>Use Python To Scrape &amp; Visualize Likes On Your...</td>\n",
       "      <td>Python</td>\n",
       "      <td>#66DaysofData, Data Analysis, Data Science, Ex...</td>\n",
       "      <td>Stanislav Lukashevich</td>\n",
       "      <td>Finished</td>\n",
       "      <td>LinkedIn</td>\n",
       "      <td>0.083333</td>\n",
       "      <td>5.0</td>\n",
       "      <td>2021-12-31</td>\n",
       "      <td>0</td>\n",
       "      <td>Selenium</td>\n",
       "    </tr>\n",
       "    <tr>\n",
       "      <th>38</th>\n",
       "      <td>Video</td>\n",
       "      <td>Exploratory Data Analysis (comment your best i...</td>\n",
       "      <td>Python</td>\n",
       "      <td>#66DaysofData, Exploratory Data Analysis, Pyth...</td>\n",
       "      <td>Shashank Kalanithi</td>\n",
       "      <td>Finished</td>\n",
       "      <td>YouTube</td>\n",
       "      <td>0.981667</td>\n",
       "      <td>58.9</td>\n",
       "      <td>2021-12-20</td>\n",
       "      <td>0</td>\n",
       "      <td>pandas</td>\n",
       "    </tr>\n",
       "    <tr>\n",
       "      <th>40</th>\n",
       "      <td>Course</td>\n",
       "      <td>Intro to Data Visualization in Matplotlib</td>\n",
       "      <td>Python</td>\n",
       "      <td>#66DaysofData, Data Analysis, Data Science, Da...</td>\n",
       "      <td>NaN</td>\n",
       "      <td>Finished</td>\n",
       "      <td>DataCamp</td>\n",
       "      <td>4.000000</td>\n",
       "      <td>240.0</td>\n",
       "      <td>2022-01-12</td>\n",
       "      <td>0</td>\n",
       "      <td>matplotlib</td>\n",
       "    </tr>\n",
       "    <tr>\n",
       "      <th>41</th>\n",
       "      <td>Course</td>\n",
       "      <td>Joining Data with pandas</td>\n",
       "      <td>Python</td>\n",
       "      <td>#66DaysofData, Pandas, Python, Round1</td>\n",
       "      <td>NaN</td>\n",
       "      <td>Finished</td>\n",
       "      <td>DataCamp</td>\n",
       "      <td>4.000000</td>\n",
       "      <td>240.0</td>\n",
       "      <td>2021-12-28</td>\n",
       "      <td>0</td>\n",
       "      <td>pandas</td>\n",
       "    </tr>\n",
       "    <tr>\n",
       "      <th>42</th>\n",
       "      <td>Course</td>\n",
       "      <td>Intermediate Importing Data in Python</td>\n",
       "      <td>Python</td>\n",
       "      <td>#66DaysofData, APIs, Importing Data, Python, R...</td>\n",
       "      <td>NaN</td>\n",
       "      <td>Finished</td>\n",
       "      <td>DataCamp</td>\n",
       "      <td>3.000000</td>\n",
       "      <td>180.0</td>\n",
       "      <td>2022-02-23</td>\n",
       "      <td>1</td>\n",
       "      <td>Tweepy</td>\n",
       "    </tr>\n",
       "    <tr>\n",
       "      <th>52</th>\n",
       "      <td>Course</td>\n",
       "      <td>Introduction to Importing Data in Python</td>\n",
       "      <td>Python</td>\n",
       "      <td>#66DaysofData, Importing Data, Pandas, Python,...</td>\n",
       "      <td>NaN</td>\n",
       "      <td>Finished</td>\n",
       "      <td>DataCamp</td>\n",
       "      <td>3.000000</td>\n",
       "      <td>180.0</td>\n",
       "      <td>2022-02-22</td>\n",
       "      <td>1</td>\n",
       "      <td>pandas</td>\n",
       "    </tr>\n",
       "    <tr>\n",
       "      <th>60</th>\n",
       "      <td>Video</td>\n",
       "      <td>Build an Exploratory Data Analysis Project fro...</td>\n",
       "      <td>Python</td>\n",
       "      <td>#66DaysofData, Exploratory Data Analysis, Round1</td>\n",
       "      <td>Jovian</td>\n",
       "      <td>Finished</td>\n",
       "      <td>YouTube</td>\n",
       "      <td>2.336667</td>\n",
       "      <td>140.2</td>\n",
       "      <td>2022-01-03</td>\n",
       "      <td>1</td>\n",
       "      <td>pandas</td>\n",
       "    </tr>\n",
       "    <tr>\n",
       "      <th>66</th>\n",
       "      <td>Video</td>\n",
       "      <td>How To Become Expertise in Exploratory Data An...</td>\n",
       "      <td>Python</td>\n",
       "      <td>#66DaysofData, Exploratory Data Analysis, Round1</td>\n",
       "      <td>Krish Naik</td>\n",
       "      <td>Finished</td>\n",
       "      <td>YouTube</td>\n",
       "      <td>0.168333</td>\n",
       "      <td>10.1</td>\n",
       "      <td>2022-01-01</td>\n",
       "      <td>1</td>\n",
       "      <td>pandas</td>\n",
       "    </tr>\n",
       "    <tr>\n",
       "      <th>67</th>\n",
       "      <td>Video</td>\n",
       "      <td>Data Science Project from Scratch - Part 4 (Ex...</td>\n",
       "      <td>Python</td>\n",
       "      <td>#66DaysofData, DS Projects, Exploratory Data A...</td>\n",
       "      <td>Ken Jee</td>\n",
       "      <td>Finished</td>\n",
       "      <td>YouTube</td>\n",
       "      <td>1.143333</td>\n",
       "      <td>68.6</td>\n",
       "      <td>2022-01-01</td>\n",
       "      <td>1</td>\n",
       "      <td>pandas</td>\n",
       "    </tr>\n",
       "    <tr>\n",
       "      <th>84</th>\n",
       "      <td>Course</td>\n",
       "      <td>Intermediate Importing Data in Python</td>\n",
       "      <td>Python</td>\n",
       "      <td>#66DaysofData, APIs, Importing Data, Python, R...</td>\n",
       "      <td>NaN</td>\n",
       "      <td>Finished</td>\n",
       "      <td>DataCamp</td>\n",
       "      <td>3.000000</td>\n",
       "      <td>180.0</td>\n",
       "      <td>2022-02-23</td>\n",
       "      <td>2</td>\n",
       "      <td>json</td>\n",
       "    </tr>\n",
       "    <tr>\n",
       "      <th>94</th>\n",
       "      <td>Course</td>\n",
       "      <td>Introduction to Importing Data in Python</td>\n",
       "      <td>Python</td>\n",
       "      <td>#66DaysofData, Importing Data, Pandas, Python,...</td>\n",
       "      <td>NaN</td>\n",
       "      <td>Finished</td>\n",
       "      <td>DataCamp</td>\n",
       "      <td>3.000000</td>\n",
       "      <td>180.0</td>\n",
       "      <td>2022-02-22</td>\n",
       "      <td>2</td>\n",
       "      <td>scipy</td>\n",
       "    </tr>\n",
       "    <tr>\n",
       "      <th>102</th>\n",
       "      <td>Video</td>\n",
       "      <td>Build an Exploratory Data Analysis Project fro...</td>\n",
       "      <td>Python</td>\n",
       "      <td>#66DaysofData, Exploratory Data Analysis, Round1</td>\n",
       "      <td>Jovian</td>\n",
       "      <td>Finished</td>\n",
       "      <td>YouTube</td>\n",
       "      <td>2.336667</td>\n",
       "      <td>140.2</td>\n",
       "      <td>2022-01-03</td>\n",
       "      <td>2</td>\n",
       "      <td>seaborn</td>\n",
       "    </tr>\n",
       "    <tr>\n",
       "      <th>108</th>\n",
       "      <td>Video</td>\n",
       "      <td>How To Become Expertise in Exploratory Data An...</td>\n",
       "      <td>Python</td>\n",
       "      <td>#66DaysofData, Exploratory Data Analysis, Round1</td>\n",
       "      <td>Krish Naik</td>\n",
       "      <td>Finished</td>\n",
       "      <td>YouTube</td>\n",
       "      <td>0.168333</td>\n",
       "      <td>10.1</td>\n",
       "      <td>2022-01-01</td>\n",
       "      <td>2</td>\n",
       "      <td>seaborn</td>\n",
       "    </tr>\n",
       "    <tr>\n",
       "      <th>109</th>\n",
       "      <td>Video</td>\n",
       "      <td>Data Science Project from Scratch - Part 4 (Ex...</td>\n",
       "      <td>Python</td>\n",
       "      <td>#66DaysofData, DS Projects, Exploratory Data A...</td>\n",
       "      <td>Ken Jee</td>\n",
       "      <td>Finished</td>\n",
       "      <td>YouTube</td>\n",
       "      <td>1.143333</td>\n",
       "      <td>68.6</td>\n",
       "      <td>2022-01-01</td>\n",
       "      <td>2</td>\n",
       "      <td>seaborn</td>\n",
       "    </tr>\n",
       "    <tr>\n",
       "      <th>126</th>\n",
       "      <td>Course</td>\n",
       "      <td>Intermediate Importing Data in Python</td>\n",
       "      <td>Python</td>\n",
       "      <td>#66DaysofData, APIs, Importing Data, Python, R...</td>\n",
       "      <td>NaN</td>\n",
       "      <td>Finished</td>\n",
       "      <td>DataCamp</td>\n",
       "      <td>3.000000</td>\n",
       "      <td>180.0</td>\n",
       "      <td>2022-02-23</td>\n",
       "      <td>3</td>\n",
       "      <td>request</td>\n",
       "    </tr>\n",
       "    <tr>\n",
       "      <th>136</th>\n",
       "      <td>Course</td>\n",
       "      <td>Introduction to Importing Data in Python</td>\n",
       "      <td>Python</td>\n",
       "      <td>#66DaysofData, Importing Data, Pandas, Python,...</td>\n",
       "      <td>NaN</td>\n",
       "      <td>Finished</td>\n",
       "      <td>DataCamp</td>\n",
       "      <td>3.000000</td>\n",
       "      <td>180.0</td>\n",
       "      <td>2022-02-22</td>\n",
       "      <td>3</td>\n",
       "      <td>sqlalchemy</td>\n",
       "    </tr>\n",
       "  </tbody>\n",
       "</table>\n",
       "</div>"
      ],
      "text/plain": [
       "        Type                                               Name  \\\n",
       "0     Course              Intermediate Importing Data in Python   \n",
       "3    Article  8 Ways to Filter Pandas Dataframes | by Soner ...   \n",
       "7      Video    Data Analysis on a Kaggle's Dataset - 29.9 mins   \n",
       "10    Course           Introduction to Importing Data in Python   \n",
       "12    Course           Intro to Data Visualization with Seaborn   \n",
       "18     Video  Build an Exploratory Data Analysis Project fro...   \n",
       "24     Video  How To Become Expertise in Exploratory Data An...   \n",
       "25     Video  Data Science Project from Scratch - Part 4 (Ex...   \n",
       "30     Video  Exploratory Data Analysis (comment your best i...   \n",
       "32   Article  Use Python To Scrape & Visualize Likes On Your...   \n",
       "38     Video  Exploratory Data Analysis (comment your best i...   \n",
       "40    Course          Intro to Data Visualization in Matplotlib   \n",
       "41    Course                           Joining Data with pandas   \n",
       "42    Course              Intermediate Importing Data in Python   \n",
       "52    Course           Introduction to Importing Data in Python   \n",
       "60     Video  Build an Exploratory Data Analysis Project fro...   \n",
       "66     Video  How To Become Expertise in Exploratory Data An...   \n",
       "67     Video  Data Science Project from Scratch - Part 4 (Ex...   \n",
       "84    Course              Intermediate Importing Data in Python   \n",
       "94    Course           Introduction to Importing Data in Python   \n",
       "102    Video  Build an Exploratory Data Analysis Project fro...   \n",
       "108    Video  How To Become Expertise in Exploratory Data An...   \n",
       "109    Video  Data Science Project from Scratch - Part 4 (Ex...   \n",
       "126   Course              Intermediate Importing Data in Python   \n",
       "136   Course           Introduction to Importing Data in Python   \n",
       "\n",
       "    Language/Software                                               Tags  \\\n",
       "0              Python  #66DaysofData, APIs, Importing Data, Python, R...   \n",
       "3              Python  #66DaysofData, Data Analysis, Exploratory Data...   \n",
       "7              Python  #66DaysofData, Data Analysis, Exploratory Data...   \n",
       "10             Python  #66DaysofData, Importing Data, Pandas, Python,...   \n",
       "12             Python  #66DaysofData, Data Analysis, Data Science, Da...   \n",
       "18             Python   #66DaysofData, Exploratory Data Analysis, Round1   \n",
       "24             Python   #66DaysofData, Exploratory Data Analysis, Round1   \n",
       "25             Python  #66DaysofData, DS Projects, Exploratory Data A...   \n",
       "30             Python  #66DaysofData, Exploratory Data Analysis, Pyth...   \n",
       "32             Python  #66DaysofData, Data Analysis, Data Science, Ex...   \n",
       "38             Python  #66DaysofData, Exploratory Data Analysis, Pyth...   \n",
       "40             Python  #66DaysofData, Data Analysis, Data Science, Da...   \n",
       "41             Python              #66DaysofData, Pandas, Python, Round1   \n",
       "42             Python  #66DaysofData, APIs, Importing Data, Python, R...   \n",
       "52             Python  #66DaysofData, Importing Data, Pandas, Python,...   \n",
       "60             Python   #66DaysofData, Exploratory Data Analysis, Round1   \n",
       "66             Python   #66DaysofData, Exploratory Data Analysis, Round1   \n",
       "67             Python  #66DaysofData, DS Projects, Exploratory Data A...   \n",
       "84             Python  #66DaysofData, APIs, Importing Data, Python, R...   \n",
       "94             Python  #66DaysofData, Importing Data, Pandas, Python,...   \n",
       "102            Python   #66DaysofData, Exploratory Data Analysis, Round1   \n",
       "108            Python   #66DaysofData, Exploratory Data Analysis, Round1   \n",
       "109            Python  #66DaysofData, DS Projects, Exploratory Data A...   \n",
       "126            Python  #66DaysofData, APIs, Importing Data, Python, R...   \n",
       "136            Python  #66DaysofData, Importing Data, Pandas, Python,...   \n",
       "\n",
       "                    Author    Status    Source     Hours  Minutes Finish_Date  \\\n",
       "0                      NaN  Finished  DataCamp  3.000000    180.0  2022-02-23   \n",
       "3     Towards Data Science  Finished    Medium  0.333333     20.0  2022-02-12   \n",
       "7                      NaN  Finished   YouTube  0.498333     29.9  2022-02-10   \n",
       "10                     NaN  Finished  DataCamp  3.000000    180.0  2022-02-22   \n",
       "12                     NaN  Finished  DataCamp  4.000000    240.0  2022-01-18   \n",
       "18                  Jovian  Finished   YouTube  2.336667    140.2  2022-01-03   \n",
       "24              Krish Naik  Finished   YouTube  0.168333     10.1  2022-01-01   \n",
       "25                 Ken Jee  Finished   YouTube  1.143333     68.6  2022-01-01   \n",
       "30      Shashank Kalanithi  Finished   YouTube  0.981667     58.9  2021-12-31   \n",
       "32   Stanislav Lukashevich  Finished  LinkedIn  0.083333      5.0  2021-12-31   \n",
       "38      Shashank Kalanithi  Finished   YouTube  0.981667     58.9  2021-12-20   \n",
       "40                     NaN  Finished  DataCamp  4.000000    240.0  2022-01-12   \n",
       "41                     NaN  Finished  DataCamp  4.000000    240.0  2021-12-28   \n",
       "42                     NaN  Finished  DataCamp  3.000000    180.0  2022-02-23   \n",
       "52                     NaN  Finished  DataCamp  3.000000    180.0  2022-02-22   \n",
       "60                  Jovian  Finished   YouTube  2.336667    140.2  2022-01-03   \n",
       "66              Krish Naik  Finished   YouTube  0.168333     10.1  2022-01-01   \n",
       "67                 Ken Jee  Finished   YouTube  1.143333     68.6  2022-01-01   \n",
       "84                     NaN  Finished  DataCamp  3.000000    180.0  2022-02-23   \n",
       "94                     NaN  Finished  DataCamp  3.000000    180.0  2022-02-22   \n",
       "102                 Jovian  Finished   YouTube  2.336667    140.2  2022-01-03   \n",
       "108             Krish Naik  Finished   YouTube  0.168333     10.1  2022-01-01   \n",
       "109                Ken Jee  Finished   YouTube  1.143333     68.6  2022-01-01   \n",
       "126                    NaN  Finished  DataCamp  3.000000    180.0  2022-02-23   \n",
       "136                    NaN  Finished  DataCamp  3.000000    180.0  2022-02-22   \n",
       "\n",
       "    variable       packages  \n",
       "0          0  BeautifulSoup  \n",
       "3          0         pandas  \n",
       "7          0         pandas  \n",
       "10         0          numpy  \n",
       "12         0        seaborn  \n",
       "18         0          numpy  \n",
       "24         0     matplotlib  \n",
       "25         0     matplotlib  \n",
       "30         0         pandas  \n",
       "32         0       Selenium  \n",
       "38         0         pandas  \n",
       "40         0     matplotlib  \n",
       "41         0         pandas  \n",
       "42         1         Tweepy  \n",
       "52         1         pandas  \n",
       "60         1         pandas  \n",
       "66         1         pandas  \n",
       "67         1         pandas  \n",
       "84         2           json  \n",
       "94         2          scipy  \n",
       "102        2        seaborn  \n",
       "108        2        seaborn  \n",
       "109        2        seaborn  \n",
       "126        3        request  \n",
       "136        3     sqlalchemy  "
      ]
     },
     "execution_count": 255,
     "metadata": {},
     "output_type": "execute_result"
    }
   ],
   "source": [
    "#the Packages column needs to be split in the same manner as the Tags column\n",
    "package_count = df.copy()\n",
    "package_count = pd.concat([package_count, df[\"Packages\"].str.split(\",\", expand=True)], axis=1)\n",
    "package_count = package_count.melt(id_vars=[\"Type\", \"Name\", \"Language/Software\", \"Tags\", \"Author\",\"Status\", \"Source\", \"Hours\", \"Minutes\", \"Finish_Date\"], value_vars=range(4), value_name=\"packages\")\n",
    "package_count = package_count[package_count[\"packages\"].notna()]\n",
    "package_count['packages'] = package_count['packages'].str.strip()\n",
    "package_count"
   ]
  },
  {
   "cell_type": "code",
   "execution_count": 158,
   "metadata": {},
   "outputs": [
    {
     "data": {
      "text/plain": [
       "array(['BeautifulSoup', 'pandas', 'numpy', 'seaborn', 'matplotlib',\n",
       "       'Selenium', 'Tweepy', 'json', 'scipy', 'request', 'sqlalchemy'],\n",
       "      dtype=object)"
      ]
     },
     "execution_count": 158,
     "metadata": {},
     "output_type": "execute_result"
    }
   ],
   "source": [
    "package_count[\"packages\"].unique()"
   ]
  },
  {
   "cell_type": "markdown",
   "metadata": {},
   "source": [
    "### Packages"
   ]
  },
  {
   "cell_type": "code",
   "execution_count": 240,
   "metadata": {},
   "outputs": [
    {
     "data": {
      "image/png": "[encoded data removed]"
     },
     "metadata": {},
     "output_type": "display_data"
    }
   ],
   "source": [
    "fig = px.histogram(package_count, x=\"packages\", title=\"Packages Count\").update_xaxes(categoryorder=\"total descending\", tickangle=-90)\n",
    "fig.show(\"png\")\n"
   ]
  },
  {
   "cell_type": "code",
   "execution_count": 242,
   "metadata": {},
   "outputs": [
    {
     "data": {
      "image/png": "[encoded data removed]"
     },
     "metadata": {},
     "output_type": "display_data"
    }
   ],
   "source": [
    "fig = px.histogram(package_count, x=\"packages\", y=\"Hours\", title=\"Total Hours for Each Package\").update_xaxes(categoryorder=\"total descending\", tickangle=-45)\n",
    "fig.show(\"png\")"
   ]
  },
  {
   "cell_type": "markdown",
   "metadata": {},
   "source": [
    "### Dates"
   ]
  },
  {
   "cell_type": "code",
   "execution_count": 214,
   "metadata": {},
   "outputs": [
    {
     "data": {
      "text/plain": [
       "1     February\n",
       "2     February\n",
       "3     February\n",
       "4     February\n",
       "5     February\n",
       "6     February\n",
       "7     February\n",
       "9     February\n",
       "10    February\n",
       "11    February\n",
       "12    February\n",
       "20     January\n",
       "23     January\n",
       "27     January\n",
       "28     January\n",
       "29     January\n",
       "32     January\n",
       "33     January\n",
       "34     January\n",
       "35     January\n",
       "36     January\n",
       "37     January\n",
       "38     January\n",
       "39     January\n",
       "42     January\n",
       "44     January\n",
       "45     January\n",
       "46     January\n",
       "47     January\n",
       "48    December\n",
       "49    December\n",
       "50    December\n",
       "52    December\n",
       "58    December\n",
       "60    December\n",
       "61    December\n",
       "62    December\n",
       "65    December\n",
       "67    December\n",
       "69         NaN\n",
       "70     January\n",
       "71    December\n",
       "Name: Finish_Date, dtype: object"
      ]
     },
     "execution_count": 214,
     "metadata": {},
     "output_type": "execute_result"
    }
   ],
   "source": [
    "df['Finish_Date'].dt.month_name()\n"
   ]
  },
  {
   "cell_type": "code",
   "execution_count": 216,
   "metadata": {},
   "outputs": [],
   "source": [
    "#creating a new column that contains the days of the week that the content was completed\n",
    "df['finish_day'] = df['Finish_Date'].dt.day_name()"
   ]
  },
  {
   "cell_type": "code",
   "execution_count": 217,
   "metadata": {},
   "outputs": [
    {
     "data": {
      "text/html": [
       "<div>\n",
       "<style scoped>\n",
       "    .dataframe tbody tr th:only-of-type {\n",
       "        vertical-align: middle;\n",
       "    }\n",
       "\n",
       "    .dataframe tbody tr th {\n",
       "        vertical-align: top;\n",
       "    }\n",
       "\n",
       "    .dataframe thead th {\n",
       "        text-align: right;\n",
       "    }\n",
       "</style>\n",
       "<table border=\"1\" class=\"dataframe\">\n",
       "  <thead>\n",
       "    <tr style=\"text-align: right;\">\n",
       "      <th></th>\n",
       "      <th>Type</th>\n",
       "      <th>Name</th>\n",
       "      <th>Language/Software</th>\n",
       "      <th>Packages</th>\n",
       "      <th>Tags</th>\n",
       "      <th>Author</th>\n",
       "      <th>Created</th>\n",
       "      <th>Status</th>\n",
       "      <th>Source</th>\n",
       "      <th>Minutes</th>\n",
       "      <th>Finish_Date</th>\n",
       "      <th>Start_Date</th>\n",
       "      <th>Hours</th>\n",
       "      <th>finish_day</th>\n",
       "    </tr>\n",
       "  </thead>\n",
       "  <tbody>\n",
       "    <tr>\n",
       "      <th>1</th>\n",
       "      <td>Course</td>\n",
       "      <td>Intermediate Importing Data in Python</td>\n",
       "      <td>Python</td>\n",
       "      <td>BeautifulSoup, Tweepy, json, request</td>\n",
       "      <td>#66DaysofData, APIs, Importing Data, Python, R...</td>\n",
       "      <td>NaN</td>\n",
       "      <td>2022-02-23 00:18:00</td>\n",
       "      <td>Finished</td>\n",
       "      <td>DataCamp</td>\n",
       "      <td>180.00</td>\n",
       "      <td>2022-02-23</td>\n",
       "      <td>2022-02-23</td>\n",
       "      <td>3.000000</td>\n",
       "      <td>Wednesday</td>\n",
       "    </tr>\n",
       "    <tr>\n",
       "      <th>2</th>\n",
       "      <td>Video</td>\n",
       "      <td>Tableau Data Analyst Certification Review - 12...</td>\n",
       "      <td>Tableau</td>\n",
       "      <td>NaN</td>\n",
       "      <td>#66DaysofData, Career, Round1, Tableau</td>\n",
       "      <td>Alex the Analyst</td>\n",
       "      <td>2022-02-23 00:06:00</td>\n",
       "      <td>Finished</td>\n",
       "      <td>YouTube</td>\n",
       "      <td>12.80</td>\n",
       "      <td>2022-02-22</td>\n",
       "      <td>2022-02-22</td>\n",
       "      <td>0.213333</td>\n",
       "      <td>Tuesday</td>\n",
       "    </tr>\n",
       "    <tr>\n",
       "      <th>3</th>\n",
       "      <td>Video</td>\n",
       "      <td>How to learn Tableau in 2022: Full platform gu...</td>\n",
       "      <td>Tableau</td>\n",
       "      <td>NaN</td>\n",
       "      <td>#66DaysofData, Round1, Tableau</td>\n",
       "      <td>Tableau Tim</td>\n",
       "      <td>2022-02-22 17:47:00</td>\n",
       "      <td>Finished</td>\n",
       "      <td>YouTube</td>\n",
       "      <td>31.65</td>\n",
       "      <td>2022-02-22</td>\n",
       "      <td>2022-02-17</td>\n",
       "      <td>0.527500</td>\n",
       "      <td>Tuesday</td>\n",
       "    </tr>\n",
       "    <tr>\n",
       "      <th>4</th>\n",
       "      <td>Article</td>\n",
       "      <td>8 Ways to Filter Pandas Dataframes | by Soner ...</td>\n",
       "      <td>Python</td>\n",
       "      <td>pandas</td>\n",
       "      <td>#66DaysofData, Data Analysis, Exploratory Data...</td>\n",
       "      <td>Towards Data Science</td>\n",
       "      <td>2022-02-11 23:45:00</td>\n",
       "      <td>Finished</td>\n",
       "      <td>Medium</td>\n",
       "      <td>20.00</td>\n",
       "      <td>2022-02-12</td>\n",
       "      <td>2022-02-12</td>\n",
       "      <td>0.333333</td>\n",
       "      <td>Saturday</td>\n",
       "    </tr>\n",
       "    <tr>\n",
       "      <th>5</th>\n",
       "      <td>Article</td>\n",
       "      <td>Create Maps that Show Ratio or Aggregated Data...</td>\n",
       "      <td>Tableau</td>\n",
       "      <td>NaN</td>\n",
       "      <td>#66DaysofData, Data Visualization, Round1</td>\n",
       "      <td>NaN</td>\n",
       "      <td>2022-02-11 20:35:00</td>\n",
       "      <td>Finished</td>\n",
       "      <td>NaN</td>\n",
       "      <td>5.00</td>\n",
       "      <td>2022-02-11</td>\n",
       "      <td>2022-02-11</td>\n",
       "      <td>0.083333</td>\n",
       "      <td>Friday</td>\n",
       "    </tr>\n",
       "  </tbody>\n",
       "</table>\n",
       "</div>"
      ],
      "text/plain": [
       "      Type                                               Name  \\\n",
       "1   Course              Intermediate Importing Data in Python   \n",
       "2    Video  Tableau Data Analyst Certification Review - 12...   \n",
       "3    Video  How to learn Tableau in 2022: Full platform gu...   \n",
       "4  Article  8 Ways to Filter Pandas Dataframes | by Soner ...   \n",
       "5  Article  Create Maps that Show Ratio or Aggregated Data...   \n",
       "\n",
       "  Language/Software                              Packages  \\\n",
       "1            Python  BeautifulSoup, Tweepy, json, request   \n",
       "2           Tableau                                   NaN   \n",
       "3           Tableau                                   NaN   \n",
       "4            Python                                pandas   \n",
       "5           Tableau                                   NaN   \n",
       "\n",
       "                                                Tags                Author  \\\n",
       "1  #66DaysofData, APIs, Importing Data, Python, R...                   NaN   \n",
       "2             #66DaysofData, Career, Round1, Tableau      Alex the Analyst   \n",
       "3                     #66DaysofData, Round1, Tableau           Tableau Tim   \n",
       "4  #66DaysofData, Data Analysis, Exploratory Data...  Towards Data Science   \n",
       "5          #66DaysofData, Data Visualization, Round1                   NaN   \n",
       "\n",
       "              Created    Status    Source  Minutes Finish_Date Start_Date  \\\n",
       "1 2022-02-23 00:18:00  Finished  DataCamp   180.00  2022-02-23 2022-02-23   \n",
       "2 2022-02-23 00:06:00  Finished   YouTube    12.80  2022-02-22 2022-02-22   \n",
       "3 2022-02-22 17:47:00  Finished   YouTube    31.65  2022-02-22 2022-02-17   \n",
       "4 2022-02-11 23:45:00  Finished    Medium    20.00  2022-02-12 2022-02-12   \n",
       "5 2022-02-11 20:35:00  Finished       NaN     5.00  2022-02-11 2022-02-11   \n",
       "\n",
       "      Hours finish_day  \n",
       "1  3.000000  Wednesday  \n",
       "2  0.213333    Tuesday  \n",
       "3  0.527500    Tuesday  \n",
       "4  0.333333   Saturday  \n",
       "5  0.083333     Friday  "
      ]
     },
     "execution_count": 217,
     "metadata": {},
     "output_type": "execute_result"
    }
   ],
   "source": [
    "df.head()"
   ]
  },
  {
   "cell_type": "code",
   "execution_count": 252,
   "metadata": {},
   "outputs": [
    {
     "data": {
      "application/vnd.plotly.v1+json": {
       "config": {
        "plotlyServerURL": "https://plot.ly"
       },
       "data": [
        {
         "alignmentgroup": "True",
         "bingroup": "x",
         "hovertemplate": "Type=Course<br>Day=%{x}<br>count=%{y}<extra></extra>",
         "legendgroup": "Course",
         "marker": {
          "color": "#636efa",
          "pattern": {
           "shape": ""
          }
         },
         "name": "Course",
         "offsetgroup": "Course",
         "orientation": "v",
         "showlegend": true,
         "type": "histogram",
         "x": [
          "Wednesday",
          "Tuesday",
          "Tuesday",
          "Wednesday",
          "Tuesday"
         ],
         "xaxis": "x",
         "yaxis": "y"
        },
        {
         "alignmentgroup": "True",
         "bingroup": "x",
         "hovertemplate": "Type=Video<br>Day=%{x}<br>count=%{y}<extra></extra>",
         "legendgroup": "Video",
         "marker": {
          "color": "#EF553B",
          "pattern": {
           "shape": ""
          }
         },
         "name": "Video",
         "offsetgroup": "Video",
         "orientation": "v",
         "showlegend": true,
         "type": "histogram",
         "x": [
          "Tuesday",
          "Tuesday",
          "Friday",
          "Friday",
          "Thursday",
          "Wednesday",
          "Sunday",
          "Wednesday",
          "Wednesday",
          "Wednesday",
          "Wednesday",
          "Tuesday",
          "Monday",
          "Sunday",
          "Sunday",
          "Sunday",
          "Sunday",
          "Sunday",
          "Saturday",
          "Saturday",
          "Saturday",
          "Friday",
          "Friday",
          "Friday",
          "Wednesday",
          "Wednesday",
          "Wednesday",
          "Wednesday",
          "Monday"
         ],
         "xaxis": "x",
         "yaxis": "y"
        },
        {
         "alignmentgroup": "True",
         "bingroup": "x",
         "hovertemplate": "Type=Article<br>Day=%{x}<br>count=%{y}<extra></extra>",
         "legendgroup": "Article",
         "marker": {
          "color": "#00cc96",
          "pattern": {
           "shape": ""
          }
         },
         "name": "Article",
         "offsetgroup": "Article",
         "orientation": "v",
         "showlegend": true,
         "type": "histogram",
         "x": [
          "Saturday",
          "Friday",
          "Saturday",
          "Saturday",
          "Friday",
          "Tuesday"
         ],
         "xaxis": "x",
         "yaxis": "y"
        },
        {
         "alignmentgroup": "True",
         "bingroup": "x",
         "hovertemplate": "Type=Podcast<br>Day=%{x}<br>count=%{y}<extra></extra>",
         "legendgroup": "Podcast",
         "marker": {
          "color": "#ab63fa",
          "pattern": {
           "shape": ""
          }
         },
         "name": "Podcast",
         "offsetgroup": "Podcast",
         "orientation": "v",
         "showlegend": true,
         "type": "histogram",
         "x": [
          "Tuesday",
          null
         ],
         "xaxis": "x",
         "yaxis": "y"
        }
       ],
       "layout": {
        "barmode": "relative",
        "legend": {
         "title": {
          "text": "Type"
         },
         "tracegroupgap": 0
        },
        "template": {
         "data": {
          "bar": [
           {
            "error_x": {
             "color": "#2a3f5f"
            },
            "error_y": {
             "color": "#2a3f5f"
            },
            "marker": {
             "line": {
              "color": "#E5ECF6",
              "width": 0.5
             },
             "pattern": {
              "fillmode": "overlay",
              "size": 10,
              "solidity": 0.2
             }
            },
            "type": "bar"
           }
          ],
          "barpolar": [
           {
            "marker": {
             "line": {
              "color": "#E5ECF6",
              "width": 0.5
             },
             "pattern": {
              "fillmode": "overlay",
              "size": 10,
              "solidity": 0.2
             }
            },
            "type": "barpolar"
           }
          ],
          "carpet": [
           {
            "aaxis": {
             "endlinecolor": "#2a3f5f",
             "gridcolor": "white",
             "linecolor": "white",
             "minorgridcolor": "white",
             "startlinecolor": "#2a3f5f"
            },
            "baxis": {
             "endlinecolor": "#2a3f5f",
             "gridcolor": "white",
             "linecolor": "white",
             "minorgridcolor": "white",
             "startlinecolor": "#2a3f5f"
            },
            "type": "carpet"
           }
          ],
          "choropleth": [
           {
            "colorbar": {
             "outlinewidth": 0,
             "ticks": ""
            },
            "type": "choropleth"
           }
          ],
          "contour": [
           {
            "colorbar": {
             "outlinewidth": 0,
             "ticks": ""
            },
            "colorscale": [
             [
              0,
              "#0d0887"
             ],
             [
              0.1111111111111111,
              "#46039f"
             ],
             [
              0.2222222222222222,
              "#7201a8"
             ],
             [
              0.3333333333333333,
              "#9c179e"
             ],
             [
              0.4444444444444444,
              "#bd3786"
             ],
             [
              0.5555555555555556,
              "#d8576b"
             ],
             [
              0.6666666666666666,
              "#ed7953"
             ],
             [
              0.7777777777777778,
              "#fb9f3a"
             ],
             [
              0.8888888888888888,
              "#fdca26"
             ],
             [
              1,
              "#f0f921"
             ]
            ],
            "type": "contour"
           }
          ],
          "contourcarpet": [
           {
            "colorbar": {
             "outlinewidth": 0,
             "ticks": ""
            },
            "type": "contourcarpet"
           }
          ],
          "heatmap": [
           {
            "colorbar": {
             "outlinewidth": 0,
             "ticks": ""
            },
            "colorscale": [
             [
              0,
              "#0d0887"
             ],
             [
              0.1111111111111111,
              "#46039f"
             ],
             [
              0.2222222222222222,
              "#7201a8"
             ],
             [
              0.3333333333333333,
              "#9c179e"
             ],
             [
              0.4444444444444444,
              "#bd3786"
             ],
             [
              0.5555555555555556,
              "#d8576b"
             ],
             [
              0.6666666666666666,
              "#ed7953"
             ],
             [
              0.7777777777777778,
              "#fb9f3a"
             ],
             [
              0.8888888888888888,
              "#fdca26"
             ],
             [
              1,
              "#f0f921"
             ]
            ],
            "type": "heatmap"
           }
          ],
          "heatmapgl": [
           {
            "colorbar": {
             "outlinewidth": 0,
             "ticks": ""
            },
            "colorscale": [
             [
              0,
              "#0d0887"
             ],
             [
              0.1111111111111111,
              "#46039f"
             ],
             [
              0.2222222222222222,
              "#7201a8"
             ],
             [
              0.3333333333333333,
              "#9c179e"
             ],
             [
              0.4444444444444444,
              "#bd3786"
             ],
             [
              0.5555555555555556,
              "#d8576b"
             ],
             [
              0.6666666666666666,
              "#ed7953"
             ],
             [
              0.7777777777777778,
              "#fb9f3a"
             ],
             [
              0.8888888888888888,
              "#fdca26"
             ],
             [
              1,
              "#f0f921"
             ]
            ],
            "type": "heatmapgl"
           }
          ],
          "histogram": [
           {
            "marker": {
             "pattern": {
              "fillmode": "overlay",
              "size": 10,
              "solidity": 0.2
             }
            },
            "type": "histogram"
           }
          ],
          "histogram2d": [
           {
            "colorbar": {
             "outlinewidth": 0,
             "ticks": ""
            },
            "colorscale": [
             [
              0,
              "#0d0887"
             ],
             [
              0.1111111111111111,
              "#46039f"
             ],
             [
              0.2222222222222222,
              "#7201a8"
             ],
             [
              0.3333333333333333,
              "#9c179e"
             ],
             [
              0.4444444444444444,
              "#bd3786"
             ],
             [
              0.5555555555555556,
              "#d8576b"
             ],
             [
              0.6666666666666666,
              "#ed7953"
             ],
             [
              0.7777777777777778,
              "#fb9f3a"
             ],
             [
              0.8888888888888888,
              "#fdca26"
             ],
             [
              1,
              "#f0f921"
             ]
            ],
            "type": "histogram2d"
           }
          ],
          "histogram2dcontour": [
           {
            "colorbar": {
             "outlinewidth": 0,
             "ticks": ""
            },
            "colorscale": [
             [
              0,
              "#0d0887"
             ],
             [
              0.1111111111111111,
              "#46039f"
             ],
             [
              0.2222222222222222,
              "#7201a8"
             ],
             [
              0.3333333333333333,
              "#9c179e"
             ],
             [
              0.4444444444444444,
              "#bd3786"
             ],
             [
              0.5555555555555556,
              "#d8576b"
             ],
             [
              0.6666666666666666,
              "#ed7953"
             ],
             [
              0.7777777777777778,
              "#fb9f3a"
             ],
             [
              0.8888888888888888,
              "#fdca26"
             ],
             [
              1,
              "#f0f921"
             ]
            ],
            "type": "histogram2dcontour"
           }
          ],
          "mesh3d": [
           {
            "colorbar": {
             "outlinewidth": 0,
             "ticks": ""
            },
            "type": "mesh3d"
           }
          ],
          "parcoords": [
           {
            "line": {
             "colorbar": {
              "outlinewidth": 0,
              "ticks": ""
             }
            },
            "type": "parcoords"
           }
          ],
          "pie": [
           {
            "automargin": true,
            "type": "pie"
           }
          ],
          "scatter": [
           {
            "marker": {
             "colorbar": {
              "outlinewidth": 0,
              "ticks": ""
             }
            },
            "type": "scatter"
           }
          ],
          "scatter3d": [
           {
            "line": {
             "colorbar": {
              "outlinewidth": 0,
              "ticks": ""
             }
            },
            "marker": {
             "colorbar": {
              "outlinewidth": 0,
              "ticks": ""
             }
            },
            "type": "scatter3d"
           }
          ],
          "scattercarpet": [
           {
            "marker": {
             "colorbar": {
              "outlinewidth": 0,
              "ticks": ""
             }
            },
            "type": "scattercarpet"
           }
          ],
          "scattergeo": [
           {
            "marker": {
             "colorbar": {
              "outlinewidth": 0,
              "ticks": ""
             }
            },
            "type": "scattergeo"
           }
          ],
          "scattergl": [
           {
            "marker": {
             "colorbar": {
              "outlinewidth": 0,
              "ticks": ""
             }
            },
            "type": "scattergl"
           }
          ],
          "scattermapbox": [
           {
            "marker": {
             "colorbar": {
              "outlinewidth": 0,
              "ticks": ""
             }
            },
            "type": "scattermapbox"
           }
          ],
          "scatterpolar": [
           {
            "marker": {
             "colorbar": {
              "outlinewidth": 0,
              "ticks": ""
             }
            },
            "type": "scatterpolar"
           }
          ],
          "scatterpolargl": [
           {
            "marker": {
             "colorbar": {
              "outlinewidth": 0,
              "ticks": ""
             }
            },
            "type": "scatterpolargl"
           }
          ],
          "scatterternary": [
           {
            "marker": {
             "colorbar": {
              "outlinewidth": 0,
              "ticks": ""
             }
            },
            "type": "scatterternary"
           }
          ],
          "surface": [
           {
            "colorbar": {
             "outlinewidth": 0,
             "ticks": ""
            },
            "colorscale": [
             [
              0,
              "#0d0887"
             ],
             [
              0.1111111111111111,
              "#46039f"
             ],
             [
              0.2222222222222222,
              "#7201a8"
             ],
             [
              0.3333333333333333,
              "#9c179e"
             ],
             [
              0.4444444444444444,
              "#bd3786"
             ],
             [
              0.5555555555555556,
              "#d8576b"
             ],
             [
              0.6666666666666666,
              "#ed7953"
             ],
             [
              0.7777777777777778,
              "#fb9f3a"
             ],
             [
              0.8888888888888888,
              "#fdca26"
             ],
             [
              1,
              "#f0f921"
             ]
            ],
            "type": "surface"
           }
          ],
          "table": [
           {
            "cells": {
             "fill": {
              "color": "#EBF0F8"
             },
             "line": {
              "color": "white"
             }
            },
            "header": {
             "fill": {
              "color": "#C8D4E3"
             },
             "line": {
              "color": "white"
             }
            },
            "type": "table"
           }
          ]
         },
         "layout": {
          "annotationdefaults": {
           "arrowcolor": "#2a3f5f",
           "arrowhead": 0,
           "arrowwidth": 1
          },
          "autotypenumbers": "strict",
          "coloraxis": {
           "colorbar": {
            "outlinewidth": 0,
            "ticks": ""
           }
          },
          "colorscale": {
           "diverging": [
            [
             0,
             "#8e0152"
            ],
            [
             0.1,
             "#c51b7d"
            ],
            [
             0.2,
             "#de77ae"
            ],
            [
             0.3,
             "#f1b6da"
            ],
            [
             0.4,
             "#fde0ef"
            ],
            [
             0.5,
             "#f7f7f7"
            ],
            [
             0.6,
             "#e6f5d0"
            ],
            [
             0.7,
             "#b8e186"
            ],
            [
             0.8,
             "#7fbc41"
            ],
            [
             0.9,
             "#4d9221"
            ],
            [
             1,
             "#276419"
            ]
           ],
           "sequential": [
            [
             0,
             "#0d0887"
            ],
            [
             0.1111111111111111,
             "#46039f"
            ],
            [
             0.2222222222222222,
             "#7201a8"
            ],
            [
             0.3333333333333333,
             "#9c179e"
            ],
            [
             0.4444444444444444,
             "#bd3786"
            ],
            [
             0.5555555555555556,
             "#d8576b"
            ],
            [
             0.6666666666666666,
             "#ed7953"
            ],
            [
             0.7777777777777778,
             "#fb9f3a"
            ],
            [
             0.8888888888888888,
             "#fdca26"
            ],
            [
             1,
             "#f0f921"
            ]
           ],
           "sequentialminus": [
            [
             0,
             "#0d0887"
            ],
            [
             0.1111111111111111,
             "#46039f"
            ],
            [
             0.2222222222222222,
             "#7201a8"
            ],
            [
             0.3333333333333333,
             "#9c179e"
            ],
            [
             0.4444444444444444,
             "#bd3786"
            ],
            [
             0.5555555555555556,
             "#d8576b"
            ],
            [
             0.6666666666666666,
             "#ed7953"
            ],
            [
             0.7777777777777778,
             "#fb9f3a"
            ],
            [
             0.8888888888888888,
             "#fdca26"
            ],
            [
             1,
             "#f0f921"
            ]
           ]
          },
          "colorway": [
           "#636efa",
           "#EF553B",
           "#00cc96",
           "#ab63fa",
           "#FFA15A",
           "#19d3f3",
           "#FF6692",
           "#B6E880",
           "#FF97FF",
           "#FECB52"
          ],
          "font": {
           "color": "#2a3f5f"
          },
          "geo": {
           "bgcolor": "white",
           "lakecolor": "white",
           "landcolor": "#E5ECF6",
           "showlakes": true,
           "showland": true,
           "subunitcolor": "white"
          },
          "hoverlabel": {
           "align": "left"
          },
          "hovermode": "closest",
          "mapbox": {
           "style": "light"
          },
          "paper_bgcolor": "white",
          "plot_bgcolor": "#E5ECF6",
          "polar": {
           "angularaxis": {
            "gridcolor": "white",
            "linecolor": "white",
            "ticks": ""
           },
           "bgcolor": "#E5ECF6",
           "radialaxis": {
            "gridcolor": "white",
            "linecolor": "white",
            "ticks": ""
           }
          },
          "scene": {
           "xaxis": {
            "backgroundcolor": "#E5ECF6",
            "gridcolor": "white",
            "gridwidth": 2,
            "linecolor": "white",
            "showbackground": true,
            "ticks": "",
            "zerolinecolor": "white"
           },
           "yaxis": {
            "backgroundcolor": "#E5ECF6",
            "gridcolor": "white",
            "gridwidth": 2,
            "linecolor": "white",
            "showbackground": true,
            "ticks": "",
            "zerolinecolor": "white"
           },
           "zaxis": {
            "backgroundcolor": "#E5ECF6",
            "gridcolor": "white",
            "gridwidth": 2,
            "linecolor": "white",
            "showbackground": true,
            "ticks": "",
            "zerolinecolor": "white"
           }
          },
          "shapedefaults": {
           "line": {
            "color": "#2a3f5f"
           }
          },
          "ternary": {
           "aaxis": {
            "gridcolor": "white",
            "linecolor": "white",
            "ticks": ""
           },
           "baxis": {
            "gridcolor": "white",
            "linecolor": "white",
            "ticks": ""
           },
           "bgcolor": "#E5ECF6",
           "caxis": {
            "gridcolor": "white",
            "linecolor": "white",
            "ticks": ""
           }
          },
          "title": {
           "x": 0.05
          },
          "xaxis": {
           "automargin": true,
           "gridcolor": "white",
           "linecolor": "white",
           "ticks": "",
           "title": {
            "standoff": 15
           },
           "zerolinecolor": "white",
           "zerolinewidth": 2
          },
          "yaxis": {
           "automargin": true,
           "gridcolor": "white",
           "linecolor": "white",
           "ticks": "",
           "title": {
            "standoff": 15
           },
           "zerolinecolor": "white",
           "zerolinewidth": 2
          }
         }
        },
        "title": {
         "text": "Day of the Week Content Was Completed"
        },
        "xaxis": {
         "anchor": "y",
         "categoryarray": [
          "Sunday",
          "Monday",
          "Tuesday",
          "Wednesday",
          "Thursday",
          "Friday",
          "Saturday"
         ],
         "categoryorder": "array",
         "domain": [
          0,
          1
         ],
         "title": {
          "text": "Day"
         }
        },
        "yaxis": {
         "anchor": "x",
         "domain": [
          0,
          1
         ],
         "title": {
          "text": "count"
         }
        }
       }
      }
     },
     "metadata": {},
     "output_type": "display_data"
    }
   ],
   "source": [
    "fig = px.histogram(df, x=\"finish_day\", title=\"Day of the Week Content Was Completed\", color=\"Type\", labels={\"finish_day\": \"Day\"}, \n",
    "    category_orders=dict(finish_day=[\"Sunday\", \"Monday\", \"Tuesday\", \"Wednesday\", \"Thursday\", \"Friday\", \"Saturday\"]))\n",
    "fig.show(\"\")\n"
   ]
  },
  {
   "cell_type": "code",
   "execution_count": 257,
   "metadata": {},
   "outputs": [
    {
     "ename": "ValueError",
     "evalue": "Value of 'x' is not the name of a column in 'data_frame'. Expected one of ['Type', 'Name', 'Language/Software', 'Packages', 'Author', 'Status', 'Source', 'Hours', 'Minutes', 'Finish_Date', 'variable', 'tag'] but received: finish_day",
     "output_type": "error",
     "traceback": [
      "\u001b[0;31m---------------------------------------------------------------------------\u001b[0m",
      "\u001b[0;31mValueError\u001b[0m                                Traceback (most recent call last)",
      "\u001b[0;32m/var/folders/yg/1lv551fs3rv2fv563t7g29r00000gp/T/ipykernel_1779/1944660839.py\u001b[0m in \u001b[0;36m<module>\u001b[0;34m\u001b[0m\n\u001b[0;32m----> 1\u001b[0;31m fig = px.histogram(tag_count, x=\"finish_day\", title=\"Day of the Week Content Was Completed\", color=\"tag\", labels={\"finish_day\": \"Day\"},\n\u001b[0m\u001b[1;32m      2\u001b[0m                    category_orders=dict(finish_day=[\"Sunday\", \"Monday\", \"Tuesday\", \"Wednesday\", \"Thursday\", \"Friday\", \"Saturday\"]))\n\u001b[1;32m      3\u001b[0m \u001b[0mfig\u001b[0m\u001b[0;34m.\u001b[0m\u001b[0mshow\u001b[0m\u001b[0;34m(\u001b[0m\u001b[0;34m\"\"\u001b[0m\u001b[0;34m)\u001b[0m\u001b[0;34m\u001b[0m\u001b[0;34m\u001b[0m\u001b[0m\n",
      "\u001b[0;32m~/opt/anaconda3/envs/minimal_ds/lib/python3.10/site-packages/plotly/express/_chart_types.py\u001b[0m in \u001b[0;36mhistogram\u001b[0;34m(data_frame, x, y, color, pattern_shape, facet_row, facet_col, facet_col_wrap, facet_row_spacing, facet_col_spacing, hover_name, hover_data, animation_frame, animation_group, category_orders, labels, color_discrete_sequence, color_discrete_map, pattern_shape_sequence, pattern_shape_map, marginal, opacity, orientation, barmode, barnorm, histnorm, log_x, log_y, range_x, range_y, histfunc, cumulative, nbins, text_auto, title, template, width, height)\u001b[0m\n\u001b[1;32m    470\u001b[0m     `orientation` is `'h'`).\n\u001b[1;32m    471\u001b[0m     \"\"\"\n\u001b[0;32m--> 472\u001b[0;31m     return make_figure(\n\u001b[0m\u001b[1;32m    473\u001b[0m         \u001b[0margs\u001b[0m\u001b[0;34m=\u001b[0m\u001b[0mlocals\u001b[0m\u001b[0;34m(\u001b[0m\u001b[0;34m)\u001b[0m\u001b[0;34m,\u001b[0m\u001b[0;34m\u001b[0m\u001b[0;34m\u001b[0m\u001b[0m\n\u001b[1;32m    474\u001b[0m         \u001b[0mconstructor\u001b[0m\u001b[0;34m=\u001b[0m\u001b[0mgo\u001b[0m\u001b[0;34m.\u001b[0m\u001b[0mHistogram\u001b[0m\u001b[0;34m,\u001b[0m\u001b[0;34m\u001b[0m\u001b[0;34m\u001b[0m\u001b[0m\n",
      "\u001b[0;32m~/opt/anaconda3/envs/minimal_ds/lib/python3.10/site-packages/plotly/express/_core.py\u001b[0m in \u001b[0;36mmake_figure\u001b[0;34m(args, constructor, trace_patch, layout_patch)\u001b[0m\n\u001b[1;32m   1943\u001b[0m     \u001b[0mapply_default_cascade\u001b[0m\u001b[0;34m(\u001b[0m\u001b[0margs\u001b[0m\u001b[0;34m)\u001b[0m\u001b[0;34m\u001b[0m\u001b[0;34m\u001b[0m\u001b[0m\n\u001b[1;32m   1944\u001b[0m \u001b[0;34m\u001b[0m\u001b[0m\n\u001b[0;32m-> 1945\u001b[0;31m     \u001b[0margs\u001b[0m \u001b[0;34m=\u001b[0m \u001b[0mbuild_dataframe\u001b[0m\u001b[0;34m(\u001b[0m\u001b[0margs\u001b[0m\u001b[0;34m,\u001b[0m \u001b[0mconstructor\u001b[0m\u001b[0;34m)\u001b[0m\u001b[0;34m\u001b[0m\u001b[0;34m\u001b[0m\u001b[0m\n\u001b[0m\u001b[1;32m   1946\u001b[0m     \u001b[0;32mif\u001b[0m \u001b[0mconstructor\u001b[0m \u001b[0;32min\u001b[0m \u001b[0;34m[\u001b[0m\u001b[0mgo\u001b[0m\u001b[0;34m.\u001b[0m\u001b[0mTreemap\u001b[0m\u001b[0;34m,\u001b[0m \u001b[0mgo\u001b[0m\u001b[0;34m.\u001b[0m\u001b[0mSunburst\u001b[0m\u001b[0;34m,\u001b[0m \u001b[0mgo\u001b[0m\u001b[0;34m.\u001b[0m\u001b[0mIcicle\u001b[0m\u001b[0;34m]\u001b[0m \u001b[0;32mand\u001b[0m \u001b[0margs\u001b[0m\u001b[0;34m[\u001b[0m\u001b[0;34m\"path\"\u001b[0m\u001b[0;34m]\u001b[0m \u001b[0;32mis\u001b[0m \u001b[0;32mnot\u001b[0m \u001b[0;32mNone\u001b[0m\u001b[0;34m:\u001b[0m\u001b[0;34m\u001b[0m\u001b[0;34m\u001b[0m\u001b[0m\n\u001b[1;32m   1947\u001b[0m         \u001b[0margs\u001b[0m \u001b[0;34m=\u001b[0m \u001b[0mprocess_dataframe_hierarchy\u001b[0m\u001b[0;34m(\u001b[0m\u001b[0margs\u001b[0m\u001b[0;34m)\u001b[0m\u001b[0;34m\u001b[0m\u001b[0;34m\u001b[0m\u001b[0m\n",
      "\u001b[0;32m~/opt/anaconda3/envs/minimal_ds/lib/python3.10/site-packages/plotly/express/_core.py\u001b[0m in \u001b[0;36mbuild_dataframe\u001b[0;34m(args, constructor)\u001b[0m\n\u001b[1;32m   1403\u001b[0m     \u001b[0;31m# now that things have been prepped, we do the systematic rewriting of `args`\u001b[0m\u001b[0;34m\u001b[0m\u001b[0;34m\u001b[0m\u001b[0m\n\u001b[1;32m   1404\u001b[0m \u001b[0;34m\u001b[0m\u001b[0m\n\u001b[0;32m-> 1405\u001b[0;31m     df_output, wide_id_vars = process_args_into_dataframe(\n\u001b[0m\u001b[1;32m   1406\u001b[0m         \u001b[0margs\u001b[0m\u001b[0;34m,\u001b[0m \u001b[0mwide_mode\u001b[0m\u001b[0;34m,\u001b[0m \u001b[0mvar_name\u001b[0m\u001b[0;34m,\u001b[0m \u001b[0mvalue_name\u001b[0m\u001b[0;34m\u001b[0m\u001b[0;34m\u001b[0m\u001b[0m\n\u001b[1;32m   1407\u001b[0m     )\n",
      "\u001b[0;32m~/opt/anaconda3/envs/minimal_ds/lib/python3.10/site-packages/plotly/express/_core.py\u001b[0m in \u001b[0;36mprocess_args_into_dataframe\u001b[0;34m(args, wide_mode, var_name, value_name)\u001b[0m\n\u001b[1;32m   1205\u001b[0m                         \u001b[0;32mif\u001b[0m \u001b[0margument\u001b[0m \u001b[0;34m==\u001b[0m \u001b[0;34m\"index\"\u001b[0m\u001b[0;34m:\u001b[0m\u001b[0;34m\u001b[0m\u001b[0;34m\u001b[0m\u001b[0m\n\u001b[1;32m   1206\u001b[0m                             \u001b[0merr_msg\u001b[0m \u001b[0;34m+=\u001b[0m \u001b[0;34m\"\\n To use the index, pass it in directly as `df.index`.\"\u001b[0m\u001b[0;34m\u001b[0m\u001b[0;34m\u001b[0m\u001b[0m\n\u001b[0;32m-> 1207\u001b[0;31m                         \u001b[0;32mraise\u001b[0m \u001b[0mValueError\u001b[0m\u001b[0;34m(\u001b[0m\u001b[0merr_msg\u001b[0m\u001b[0;34m)\u001b[0m\u001b[0;34m\u001b[0m\u001b[0;34m\u001b[0m\u001b[0m\n\u001b[0m\u001b[1;32m   1208\u001b[0m                 \u001b[0;32melif\u001b[0m \u001b[0mlength\u001b[0m \u001b[0;32mand\u001b[0m \u001b[0mlen\u001b[0m\u001b[0;34m(\u001b[0m\u001b[0mdf_input\u001b[0m\u001b[0;34m[\u001b[0m\u001b[0margument\u001b[0m\u001b[0;34m]\u001b[0m\u001b[0;34m)\u001b[0m \u001b[0;34m!=\u001b[0m \u001b[0mlength\u001b[0m\u001b[0;34m:\u001b[0m\u001b[0;34m\u001b[0m\u001b[0;34m\u001b[0m\u001b[0m\n\u001b[1;32m   1209\u001b[0m                     raise ValueError(\n",
      "\u001b[0;31mValueError\u001b[0m: Value of 'x' is not the name of a column in 'data_frame'. Expected one of ['Type', 'Name', 'Language/Software', 'Packages', 'Author', 'Status', 'Source', 'Hours', 'Minutes', 'Finish_Date', 'variable', 'tag'] but received: finish_day"
     ]
    }
   ],
   "source": [
    "fig = px.histogram(tag_count, x=\"finish_day\", title=\"Day of the Week Content Was Completed\", color=\"tag\", labels={\"finish_day\": \"Day\"},\n",
    "                   category_orders=dict(finish_day=[\"Sunday\", \"Monday\", \"Tuesday\", \"Wednesday\", \"Thursday\", \"Friday\", \"Saturday\"]))\n",
    "fig.show(\"\")\n"
   ]
  },
  {
   "cell_type": "markdown",
   "metadata": {},
   "source": [
    "## Ask and Answer Question\n",
    "\n",
    "1. What type of resources did I consume the most? Quantity and time-wise.\n",
    "    - 29 videos\n",
    "    - 18 hours of course content\n",
    "2. What days of the week did I finish most resources?\n",
    "    - Wednesday was number one with 11 pieces of content wrapped up that day, followed by Tuesday with 8.\n",
    "3. Who's my favorite author?\n",
    "    - I consumed the highest amount of unique content from Tina Hauang, the YouTuber (4 videos).\n",
    "    - Time-wise, I consumed more content from Shashank Kalanithi (2.8 hours or almost 10% of all of the hours in the dataset)\n",
    "4. What was tagged the most?\n",
    "    - Exploratory Data Analysis and Python were tied for the most tags with 10 each.\n",
    "5. What was my total time spent on #66DaysofData?\n",
    "    - 32.09 hours\n",
    "6. What source did I use the most?\n",
    "    - I spent the most time, 18 hours, on DataCamp.\n",
    "7. Which python packages did I spend the most time on?\n",
    "    - I spent around 13.5 hours on pandas, 7.5 hours on seaborn, and 5.3 hours on numpy"
   ]
  },
  {
   "cell_type": "markdown",
   "metadata": {},
   "source": [
    "## Limitations:\n",
    "- I did not give myself credit for any material that was started but not finished. For example if I watched half of a 50 minute YouTube video, none of those 25 minutes watched are counted. This leads to some underrepresentations of content consumed.\n",
    "- Some content went over multiple topics, and this leads to an over-representation of content consumed. For example, if part of a one hour video went over numpy and the second part went over scipy, the analysis would show that an hour was consumed for numpy and an hour was consumed for scipy.\n",
    "- There is inevitably missing data. Some videos I watched, articles I read didn't get input into the system.\n",
    "- \n",
    "- "
   ]
  },
  {
   "cell_type": "markdown",
   "metadata": {},
   "source": [
    "# Insights\n",
    "- I only finished courses on Tuesdays and Wednesdays\n",
    "- Videos was the only type of content I completed every day of the week\n"
   ]
  },
  {
   "cell_type": "code",
   "execution_count": null,
   "metadata": {},
   "outputs": [],
   "source": []
  }
 ],
 "metadata": {
  "interpreter": {
   "hash": "273114770b6fcca3ba170578d046463ac90cd83742e2e626b93a6ccd82af4472"
  },
  "kernelspec": {
   "display_name": "Python 3.10.1 64-bit ('minimal_ds': conda)",
   "language": "python",
   "name": "python3"
  },
  "language_info": {
   "codemirror_mode": {
    "name": "ipython",
    "version": 3
   },
   "file_extension": ".py",
   "mimetype": "text/x-python",
   "name": "python",
   "nbconvert_exporter": "python",
   "pygments_lexer": "ipython3",
   "version": "3.10.1"
  },
  "orig_nbformat": 4
 },
 "nbformat": 4,
 "nbformat_minor": 2
}
